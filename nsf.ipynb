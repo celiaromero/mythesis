{
 "cells": [
  {
   "cell_type": "markdown",
   "metadata": {},
   "source": [
    "# NSF"
   ]
  },
  {
   "cell_type": "code",
   "execution_count": 2,
   "metadata": {},
   "outputs": [],
   "source": [
    "# Libraries\n",
    "\n",
    "from os.path import join\n",
    "from os import listdir\n",
    "from bs4 import BeautifulSoup\n",
    "import pandas as pd\n",
    "import warnings\n",
    "warnings.filterwarnings('ignore')"
   ]
  },
  {
   "cell_type": "markdown",
   "metadata": {},
   "source": [
    "## 1. Parsing XML"
   ]
  },
  {
   "cell_type": "code",
   "execution_count": null,
   "metadata": {},
   "outputs": [],
   "source": [
    "# Option 1: List of file paths for all years\n",
    "\n",
    "years = list(range(2002,2021))\n",
    "filelist = []\n",
    "\n",
    "for year in years:\n",
    "    folder_path = join('data/nsf/'+str(year))\n",
    "    filelist.extend([join(folder_path,f) for f in listdir(folder_path)])"
   ]
  },
  {
   "cell_type": "code",
   "execution_count": null,
   "metadata": {},
   "outputs": [],
   "source": [
    "# Option 2: Filelist year by year\n",
    "\n",
    "year = 2020\n",
    "folder_path = join('data/nsf/'+str(year))\n",
    "filelist = []\n",
    "filelist.extend([join(folder_path,f) for f in listdir(folder_path)])"
   ]
  },
  {
   "cell_type": "code",
   "execution_count": null,
   "metadata": {},
   "outputs": [],
   "source": [
    "# Option 3: File by file (testing purposes)\n",
    "\n",
    "xmlfile = open('data/nsf/2002/0200014.xml','r')\n",
    "xml_soup = BeautifulSoup(xmlfile,'xml')\n",
    "for element in xml_soup.find_all():\n",
    "    for column in list(xml_df):\n",
    "        if(element.name==column):\n",
    "            dict_aux[column] = element.string\n",
    "\n",
    "xml_df = xml_df.append(dict_aux,ignore_index=True)"
   ]
  },
  {
   "cell_type": "code",
   "execution_count": null,
   "metadata": {},
   "outputs": [],
   "source": [
    "# XML Schema\n",
    "\n",
    "xsd_file = open('data/nsf/Award.xsd','r')\n",
    "xsd_soup = BeautifulSoup(xsd_file)\n",
    "\n",
    "tags = []\n",
    "for element in xsd_soup.find_all('xsd:element'):\n",
    "    tags.append(element['name'])"
   ]
  },
  {
   "cell_type": "code",
   "execution_count": null,
   "metadata": {},
   "outputs": [],
   "source": [
    "# Build dataframe (Options 1 & 2)\n",
    "\n",
    "xml_df = pd.DataFrame(columns=tags)\n",
    "dict_aux = {}\n",
    "\n",
    "for file in filelist:\n",
    "    xmlfile = open(file,'r')\n",
    "    xml_soup = BeautifulSoup(xmlfile,'xml')\n",
    "    for element in xml_soup.find_all(): \n",
    "        for column in list(xml_df):\n",
    "            if(element.name==column):\n",
    "                dict_aux[column] = element.string\n",
    "    xml_df = xml_df.append(dict_aux,ignore_index=True)\n",
    "    dict_aux = {}"
   ]
  },
  {
   "cell_type": "code",
   "execution_count": null,
   "metadata": {},
   "outputs": [],
   "source": [
    "# Write dataframe to csv file (Option 2: year by year)\n",
    "\n",
    "xml_df.to_csv('data/nsf/nsf_2020.csv')"
   ]
  },
  {
   "cell_type": "code",
   "execution_count": null,
   "metadata": {},
   "outputs": [],
   "source": [
    "# Load csvs into joint dataframe (Option 2: year by year)\n",
    "\n",
    "columns_dates = ['AwardEffectiveDate','AwardExpirationDate']\n",
    "nsf_list = []\n",
    "\n",
    "for file in listdir(\"data/nsf\"):\n",
    "    if file.endswith(\".csv\"):\n",
    "        df = pd.read_csv(join('data/nsf',file),parse_dates=columns_dates)\n",
    "        nsf_list.append(df)\n",
    "\n",
    "nsf = pd.concat(nsf_list)\n",
    "nsf.to_csv('data/nsf/nsf_raw.csv')"
   ]
  },
  {
   "cell_type": "markdown",
   "metadata": {},
   "source": [
    "## 2. Preprocessing"
   ]
  },
  {
   "cell_type": "code",
   "execution_count": 3,
   "metadata": {},
   "outputs": [],
   "source": [
    "# Load csv (Option 1: all in one)\n",
    "\n",
    "columns_dates = ['AwardEffectiveDate','AwardExpirationDate','MinAmdLetterDate','MaxAmdLetterDate','StartDate']\n",
    "nsf = pd.read_csv('data/nsf/nsf_raw.csv',parse_dates=columns_dates)"
   ]
  },
  {
   "cell_type": "code",
   "execution_count": 4,
   "metadata": {},
   "outputs": [
    {
     "name": "stdout",
     "output_type": "stream",
     "text": [
      "Shape of the original NSF dataset: \n"
     ]
    },
    {
     "data": {
      "text/plain": [
       "(688506, 50)"
      ]
     },
     "execution_count": 4,
     "metadata": {},
     "output_type": "execute_result"
    }
   ],
   "source": [
    "print('Shape of the original NSF dataset: ')\n",
    "nsf.shape"
   ]
  },
  {
   "cell_type": "code",
   "execution_count": 5,
   "metadata": {},
   "outputs": [],
   "source": [
    "# Duration in days\n",
    "# nsf['durationAward'] = (nsf['AwardExpirationDate'] - nsf['AwardEffectiveDate']).dt.days\n",
    "\n",
    "# Extract years\n",
    "nsf['awardEffectiveYear'] = pd.DatetimeIndex(nsf['AwardEffectiveDate']).year\n",
    "nsf['awardExpirationYear'] = pd.DatetimeIndex(nsf['AwardExpirationDate']).year\n",
    "nsf['startYear'] = pd.DatetimeIndex(nsf['StartDate']).year\n",
    "nsf = nsf[(nsf['startYear']>2001) & (nsf['startYear']<2021)]\n",
    "nsf = nsf.drop(columns=['AwardExpirationDate','AwardEffectiveDate','StartDate'])\n",
    "nsf = nsf.fillna({'startYear':0})\n",
    "nsf = nsf.astype({\"startYear\":'int'}) "
   ]
  },
  {
   "cell_type": "code",
   "execution_count": 6,
   "metadata": {},
   "outputs": [
    {
     "name": "stdout",
     "output_type": "stream",
     "text": [
      "Columns to drop:  22\n"
     ]
    },
    {
     "data": {
      "text/plain": [
       "['rootTag',\n",
       " 'Award',\n",
       " 'AwardInstrument',\n",
       " 'Organization',\n",
       " 'Directorate',\n",
       " 'Division',\n",
       " 'ProgramOfficer',\n",
       " 'ARRAAmount',\n",
       " 'Investigator',\n",
       " 'EmailAddress',\n",
       " 'EndDate',\n",
       " 'Institution',\n",
       " 'CityName',\n",
       " 'PhoneNumber',\n",
       " 'StreetAddress',\n",
       " 'FoaInformation',\n",
       " 'ProgramElement',\n",
       " 'Text',\n",
       " 'ProgramReference',\n",
       " 'Text.1',\n",
       " 'Unnamed: 0.1.1',\n",
       " 'Unnamed: 0.1.1.1']"
      ]
     },
     "execution_count": 6,
     "metadata": {},
     "output_type": "execute_result"
    }
   ],
   "source": [
    "# Find columns with many null values\n",
    "\n",
    "cols_to_drop = []\n",
    "\n",
    "for col in nsf.columns:\n",
    "    if(nsf[col].isnull().sum() > 12000):\n",
    "        cols_to_drop.append(col)\n",
    "        \n",
    "print('Columns to drop: ',len(cols_to_drop))\n",
    "cols_to_drop"
   ]
  },
  {
   "cell_type": "code",
   "execution_count": 7,
   "metadata": {},
   "outputs": [],
   "source": [
    "# Drop useless columns\n",
    "\n",
    "cols_to_drop.extend(['Unnamed: 0','Unnamed: 0.1','Code','LongName.1','Code.1','Name.1','Code.2','Code.3'])\n",
    "\n",
    "nsf = nsf.drop(columns=cols_to_drop)"
   ]
  },
  {
   "cell_type": "code",
   "execution_count": 8,
   "metadata": {},
   "outputs": [
    {
     "data": {
      "text/plain": [
       "AwardTitle                     object\n",
       "AwardAmount                     int64\n",
       "Value                          object\n",
       "LongName                       object\n",
       "SignBlockName                  object\n",
       "AbstractNarration              object\n",
       "MinAmdLetterDate       datetime64[ns]\n",
       "MaxAmdLetterDate       datetime64[ns]\n",
       "AwardID                       float64\n",
       "FirstName                      object\n",
       "LastName                       object\n",
       "RoleCode                       object\n",
       "Name                           object\n",
       "ZipCode                        object\n",
       "CountryName                    object\n",
       "StateName                      object\n",
       "StateCode                      object\n",
       "awardEffectiveYear              int64\n",
       "awardExpirationYear             int64\n",
       "startYear                       int64\n",
       "dtype: object"
      ]
     },
     "execution_count": 8,
     "metadata": {},
     "output_type": "execute_result"
    }
   ],
   "source": [
    "nsf.dtypes"
   ]
  },
  {
   "cell_type": "code",
   "execution_count": 9,
   "metadata": {},
   "outputs": [
    {
     "data": {
      "text/html": [
       "<div>\n",
       "<style scoped>\n",
       "    .dataframe tbody tr th:only-of-type {\n",
       "        vertical-align: middle;\n",
       "    }\n",
       "\n",
       "    .dataframe tbody tr th {\n",
       "        vertical-align: top;\n",
       "    }\n",
       "\n",
       "    .dataframe thead th {\n",
       "        text-align: right;\n",
       "    }\n",
       "</style>\n",
       "<table border=\"1\" class=\"dataframe\">\n",
       "  <thead>\n",
       "    <tr style=\"text-align: right;\">\n",
       "      <th></th>\n",
       "      <th>AwardTitle</th>\n",
       "      <th>AwardAmount</th>\n",
       "      <th>Value</th>\n",
       "      <th>LongName</th>\n",
       "      <th>SignBlockName</th>\n",
       "      <th>AbstractNarration</th>\n",
       "      <th>MinAmdLetterDate</th>\n",
       "      <th>MaxAmdLetterDate</th>\n",
       "      <th>AwardID</th>\n",
       "      <th>FirstName</th>\n",
       "      <th>LastName</th>\n",
       "      <th>RoleCode</th>\n",
       "      <th>Name</th>\n",
       "      <th>ZipCode</th>\n",
       "      <th>CountryName</th>\n",
       "      <th>StateName</th>\n",
       "      <th>StateCode</th>\n",
       "      <th>awardEffectiveYear</th>\n",
       "      <th>awardExpirationYear</th>\n",
       "      <th>startYear</th>\n",
       "    </tr>\n",
       "  </thead>\n",
       "  <tbody>\n",
       "    <tr>\n",
       "      <th>0</th>\n",
       "      <td>Collaborative Research: Framework: Software: N...</td>\n",
       "      <td>700000</td>\n",
       "      <td>Standard Grant</td>\n",
       "      <td>Office of Advanced Cyberinfrastructure (OAC)</td>\n",
       "      <td>Seung-Jong Park</td>\n",
       "      <td>This award supports the design and implementat...</td>\n",
       "      <td>2018-09-12</td>\n",
       "      <td>2018-09-12</td>\n",
       "      <td>1835704.0</td>\n",
       "      <td>Catherine</td>\n",
       "      <td>Olschanowsky</td>\n",
       "      <td>Principal Investigator</td>\n",
       "      <td>NSF RESEARCH &amp; RELATED ACTIVIT</td>\n",
       "      <td>837251135</td>\n",
       "      <td>United States</td>\n",
       "      <td>Idaho</td>\n",
       "      <td>ID</td>\n",
       "      <td>2018</td>\n",
       "      <td>2022</td>\n",
       "      <td>2018</td>\n",
       "    </tr>\n",
       "    <tr>\n",
       "      <th>1</th>\n",
       "      <td>CRI: CI-P: Creating the Largest Speech Emotion...</td>\n",
       "      <td>115390</td>\n",
       "      <td>Standard Grant</td>\n",
       "      <td>Division Of Computer and Network Systems</td>\n",
       "      <td>Tatiana Korelsky</td>\n",
       "      <td>This community infrastructure planning project...</td>\n",
       "      <td>2018-07-25</td>\n",
       "      <td>2020-03-30</td>\n",
       "      <td>1823166.0</td>\n",
       "      <td>Carlos</td>\n",
       "      <td>Busso</td>\n",
       "      <td>Principal Investigator</td>\n",
       "      <td>University of Texas at Dallas</td>\n",
       "      <td>750803021</td>\n",
       "      <td>United States</td>\n",
       "      <td>Texas</td>\n",
       "      <td>TX</td>\n",
       "      <td>2018</td>\n",
       "      <td>2021</td>\n",
       "      <td>2018</td>\n",
       "    </tr>\n",
       "    <tr>\n",
       "      <th>2</th>\n",
       "      <td>Collaborative Research: Targeted Observation b...</td>\n",
       "      <td>588488</td>\n",
       "      <td>Continuing Grant</td>\n",
       "      <td>Div Atmospheric &amp; Geospace Sciences</td>\n",
       "      <td>Chungu Lu</td>\n",
       "      <td>Storm-generated boundaries are the focal point...</td>\n",
       "      <td>2018-08-24</td>\n",
       "      <td>2020-10-15</td>\n",
       "      <td>1824609.0</td>\n",
       "      <td>Eric</td>\n",
       "      <td>Frew</td>\n",
       "      <td>Co-Principal Investigator</td>\n",
       "      <td>NSF RESEARCH &amp; RELATED ACTIVIT</td>\n",
       "      <td>803090429</td>\n",
       "      <td>United States</td>\n",
       "      <td>Colorado</td>\n",
       "      <td>CO</td>\n",
       "      <td>2018</td>\n",
       "      <td>2021</td>\n",
       "      <td>2018</td>\n",
       "    </tr>\n",
       "    <tr>\n",
       "      <th>3</th>\n",
       "      <td>CAREER: Merging geoscience research and educat...</td>\n",
       "      <td>298009</td>\n",
       "      <td>Continuing Grant</td>\n",
       "      <td>Division Of Earth Sciences</td>\n",
       "      <td>Steven Whitmeyer</td>\n",
       "      <td>Mountain ranges have significant impacts on wa...</td>\n",
       "      <td>2019-06-14</td>\n",
       "      <td>2019-06-14</td>\n",
       "      <td>1847392.0</td>\n",
       "      <td>Nicholas</td>\n",
       "      <td>Perez</td>\n",
       "      <td>Principal Investigator</td>\n",
       "      <td>NSF RESEARCH &amp; RELATED ACTIVIT</td>\n",
       "      <td>778433115</td>\n",
       "      <td>United States</td>\n",
       "      <td>Texas</td>\n",
       "      <td>TX</td>\n",
       "      <td>2019</td>\n",
       "      <td>2024</td>\n",
       "      <td>2019</td>\n",
       "    </tr>\n",
       "    <tr>\n",
       "      <th>4</th>\n",
       "      <td>Collaborative Research: RUI: A Half Century of...</td>\n",
       "      <td>412626</td>\n",
       "      <td>Standard Grant</td>\n",
       "      <td>Office of Polar Programs (OPP)</td>\n",
       "      <td>Colene Haffke</td>\n",
       "      <td>Meltwater reaching the base of a glacier behav...</td>\n",
       "      <td>2018-07-25</td>\n",
       "      <td>2018-07-25</td>\n",
       "      <td>1821017.0</td>\n",
       "      <td>Martin</td>\n",
       "      <td>Truffer</td>\n",
       "      <td>Principal Investigator</td>\n",
       "      <td>NSF RESEARCH &amp; RELATED ACTIVIT</td>\n",
       "      <td>997757880</td>\n",
       "      <td>United States</td>\n",
       "      <td>Alaska</td>\n",
       "      <td>AK</td>\n",
       "      <td>2018</td>\n",
       "      <td>2021</td>\n",
       "      <td>2018</td>\n",
       "    </tr>\n",
       "    <tr>\n",
       "      <th>...</th>\n",
       "      <td>...</td>\n",
       "      <td>...</td>\n",
       "      <td>...</td>\n",
       "      <td>...</td>\n",
       "      <td>...</td>\n",
       "      <td>...</td>\n",
       "      <td>...</td>\n",
       "      <td>...</td>\n",
       "      <td>...</td>\n",
       "      <td>...</td>\n",
       "      <td>...</td>\n",
       "      <td>...</td>\n",
       "      <td>...</td>\n",
       "      <td>...</td>\n",
       "      <td>...</td>\n",
       "      <td>...</td>\n",
       "      <td>...</td>\n",
       "      <td>...</td>\n",
       "      <td>...</td>\n",
       "      <td>...</td>\n",
       "    </tr>\n",
       "    <tr>\n",
       "      <th>646130</th>\n",
       "      <td>Midwest Geometry Conference:  2002-2004</td>\n",
       "      <td>34800</td>\n",
       "      <td>Continuing grant</td>\n",
       "      <td>Division Of Mathematical Sciences</td>\n",
       "      <td>Alexandre Freire</td>\n",
       "      <td>DMS-0202812&lt;br/&gt;L. Peterson, T. Branson, G. Je...</td>\n",
       "      <td>2002-02-28</td>\n",
       "      <td>2003-10-09</td>\n",
       "      <td>202812.0</td>\n",
       "      <td>Lawrence</td>\n",
       "      <td>Peterson</td>\n",
       "      <td>Principal Investigator</td>\n",
       "      <td>Other Applications NEC</td>\n",
       "      <td>5.82027e+08</td>\n",
       "      <td>United States</td>\n",
       "      <td>North Dakota</td>\n",
       "      <td>ND</td>\n",
       "      <td>2002</td>\n",
       "      <td>2005</td>\n",
       "      <td>2002</td>\n",
       "    </tr>\n",
       "    <tr>\n",
       "      <th>646131</th>\n",
       "      <td>Nuclear Structure Studies with 4 pi Detector A...</td>\n",
       "      <td>530000</td>\n",
       "      <td>Continuing grant</td>\n",
       "      <td>Division Of Physics</td>\n",
       "      <td>Ani Aprahamian</td>\n",
       "      <td>The proposed research program exploits the Roc...</td>\n",
       "      <td>2003-05-21</td>\n",
       "      <td>2006-06-29</td>\n",
       "      <td>244847.0</td>\n",
       "      <td>Ching-Yen</td>\n",
       "      <td>Wu</td>\n",
       "      <td>Co-Principal Investigator</td>\n",
       "      <td>Other Applications NEC</td>\n",
       "      <td>1.4627e+08</td>\n",
       "      <td>United States</td>\n",
       "      <td>New York</td>\n",
       "      <td>NY</td>\n",
       "      <td>2003</td>\n",
       "      <td>2007</td>\n",
       "      <td>2003</td>\n",
       "    </tr>\n",
       "    <tr>\n",
       "      <th>646132</th>\n",
       "      <td>SBIR Phase I: Nanoporous Silica Slurry Technol...</td>\n",
       "      <td>99938</td>\n",
       "      <td>Standard Grant</td>\n",
       "      <td>Div Of Industrial Innovation &amp; Partnersh</td>\n",
       "      <td>TIMOTHY J. RUDD</td>\n",
       "      <td>The Small Business Innovation Research (SBIR) ...</td>\n",
       "      <td>2002-11-22</td>\n",
       "      <td>2002-11-22</td>\n",
       "      <td>232709.0</td>\n",
       "      <td>Deepika</td>\n",
       "      <td>Singh</td>\n",
       "      <td>Principal Investigator</td>\n",
       "      <td>Industrial Technology</td>\n",
       "      <td>3.26532e+08</td>\n",
       "      <td>United States</td>\n",
       "      <td>Florida</td>\n",
       "      <td>FL</td>\n",
       "      <td>2003</td>\n",
       "      <td>2003</td>\n",
       "      <td>2002</td>\n",
       "    </tr>\n",
       "    <tr>\n",
       "      <th>646133</th>\n",
       "      <td>Acquisition of a Non Destructive Inspection Sy...</td>\n",
       "      <td>99900</td>\n",
       "      <td>Standard Grant</td>\n",
       "      <td>Div Of Civil, Mechanical, &amp; Manufact Inn</td>\n",
       "      <td>Jorn Larsen-Basse</td>\n",
       "      <td>Delamination fracture is a major design concer...</td>\n",
       "      <td>2002-08-22</td>\n",
       "      <td>2002-08-22</td>\n",
       "      <td>214916.0</td>\n",
       "      <td>Legand</td>\n",
       "      <td>Burge</td>\n",
       "      <td>Co-Principal Investigator</td>\n",
       "      <td>Tuskegee University</td>\n",
       "      <td>3.60882e+08</td>\n",
       "      <td>United States</td>\n",
       "      <td>Alabama</td>\n",
       "      <td>AL</td>\n",
       "      <td>2002</td>\n",
       "      <td>2004</td>\n",
       "      <td>2002</td>\n",
       "    </tr>\n",
       "    <tr>\n",
       "      <th>646134</th>\n",
       "      <td>US-France Cooperative Research:   Electrochemi...</td>\n",
       "      <td>18339</td>\n",
       "      <td>Standard Grant</td>\n",
       "      <td>Office Of Internatl Science &amp;Engineering</td>\n",
       "      <td>Jennifer Pearl</td>\n",
       "      <td>0233371&lt;br/&gt;Penner&lt;br/&gt;&lt;br/&gt;This three-year aw...</td>\n",
       "      <td>2003-01-10</td>\n",
       "      <td>2007-02-15</td>\n",
       "      <td>233371.0</td>\n",
       "      <td>Reginald</td>\n",
       "      <td>Penner</td>\n",
       "      <td>Principal Investigator</td>\n",
       "      <td>Other Applications NEC</td>\n",
       "      <td>9.26173e+08</td>\n",
       "      <td>United States</td>\n",
       "      <td>California</td>\n",
       "      <td>CA</td>\n",
       "      <td>2003</td>\n",
       "      <td>2008</td>\n",
       "      <td>2003</td>\n",
       "    </tr>\n",
       "  </tbody>\n",
       "</table>\n",
       "<p>344591 rows × 20 columns</p>\n",
       "</div>"
      ],
      "text/plain": [
       "                                               AwardTitle  AwardAmount  \\\n",
       "0       Collaborative Research: Framework: Software: N...       700000   \n",
       "1       CRI: CI-P: Creating the Largest Speech Emotion...       115390   \n",
       "2       Collaborative Research: Targeted Observation b...       588488   \n",
       "3       CAREER: Merging geoscience research and educat...       298009   \n",
       "4       Collaborative Research: RUI: A Half Century of...       412626   \n",
       "...                                                   ...          ...   \n",
       "646130            Midwest Geometry Conference:  2002-2004        34800   \n",
       "646131  Nuclear Structure Studies with 4 pi Detector A...       530000   \n",
       "646132  SBIR Phase I: Nanoporous Silica Slurry Technol...        99938   \n",
       "646133  Acquisition of a Non Destructive Inspection Sy...        99900   \n",
       "646134  US-France Cooperative Research:   Electrochemi...        18339   \n",
       "\n",
       "                   Value                                      LongName  \\\n",
       "0         Standard Grant  Office of Advanced Cyberinfrastructure (OAC)   \n",
       "1         Standard Grant      Division Of Computer and Network Systems   \n",
       "2       Continuing Grant           Div Atmospheric & Geospace Sciences   \n",
       "3       Continuing Grant                    Division Of Earth Sciences   \n",
       "4         Standard Grant                Office of Polar Programs (OPP)   \n",
       "...                  ...                                           ...   \n",
       "646130  Continuing grant             Division Of Mathematical Sciences   \n",
       "646131  Continuing grant                           Division Of Physics   \n",
       "646132    Standard Grant      Div Of Industrial Innovation & Partnersh   \n",
       "646133    Standard Grant      Div Of Civil, Mechanical, & Manufact Inn   \n",
       "646134    Standard Grant      Office Of Internatl Science &Engineering   \n",
       "\n",
       "            SignBlockName                                  AbstractNarration  \\\n",
       "0         Seung-Jong Park  This award supports the design and implementat...   \n",
       "1        Tatiana Korelsky  This community infrastructure planning project...   \n",
       "2               Chungu Lu  Storm-generated boundaries are the focal point...   \n",
       "3        Steven Whitmeyer  Mountain ranges have significant impacts on wa...   \n",
       "4           Colene Haffke  Meltwater reaching the base of a glacier behav...   \n",
       "...                   ...                                                ...   \n",
       "646130   Alexandre Freire  DMS-0202812<br/>L. Peterson, T. Branson, G. Je...   \n",
       "646131     Ani Aprahamian  The proposed research program exploits the Roc...   \n",
       "646132    TIMOTHY J. RUDD  The Small Business Innovation Research (SBIR) ...   \n",
       "646133  Jorn Larsen-Basse  Delamination fracture is a major design concer...   \n",
       "646134     Jennifer Pearl  0233371<br/>Penner<br/><br/>This three-year aw...   \n",
       "\n",
       "       MinAmdLetterDate MaxAmdLetterDate    AwardID  FirstName      LastName  \\\n",
       "0            2018-09-12       2018-09-12  1835704.0  Catherine  Olschanowsky   \n",
       "1            2018-07-25       2020-03-30  1823166.0     Carlos         Busso   \n",
       "2            2018-08-24       2020-10-15  1824609.0       Eric          Frew   \n",
       "3            2019-06-14       2019-06-14  1847392.0   Nicholas         Perez   \n",
       "4            2018-07-25       2018-07-25  1821017.0     Martin       Truffer   \n",
       "...                 ...              ...        ...        ...           ...   \n",
       "646130       2002-02-28       2003-10-09   202812.0   Lawrence      Peterson   \n",
       "646131       2003-05-21       2006-06-29   244847.0  Ching-Yen            Wu   \n",
       "646132       2002-11-22       2002-11-22   232709.0    Deepika         Singh   \n",
       "646133       2002-08-22       2002-08-22   214916.0     Legand         Burge   \n",
       "646134       2003-01-10       2007-02-15   233371.0   Reginald        Penner   \n",
       "\n",
       "                         RoleCode                            Name  \\\n",
       "0          Principal Investigator  NSF RESEARCH & RELATED ACTIVIT   \n",
       "1          Principal Investigator   University of Texas at Dallas   \n",
       "2       Co-Principal Investigator  NSF RESEARCH & RELATED ACTIVIT   \n",
       "3          Principal Investigator  NSF RESEARCH & RELATED ACTIVIT   \n",
       "4          Principal Investigator  NSF RESEARCH & RELATED ACTIVIT   \n",
       "...                           ...                             ...   \n",
       "646130     Principal Investigator          Other Applications NEC   \n",
       "646131  Co-Principal Investigator          Other Applications NEC   \n",
       "646132     Principal Investigator           Industrial Technology   \n",
       "646133  Co-Principal Investigator             Tuskegee University   \n",
       "646134     Principal Investigator          Other Applications NEC   \n",
       "\n",
       "            ZipCode    CountryName     StateName StateCode  \\\n",
       "0         837251135  United States         Idaho        ID   \n",
       "1         750803021  United States         Texas        TX   \n",
       "2         803090429  United States      Colorado        CO   \n",
       "3         778433115  United States         Texas        TX   \n",
       "4         997757880  United States        Alaska        AK   \n",
       "...             ...            ...           ...       ...   \n",
       "646130  5.82027e+08  United States  North Dakota        ND   \n",
       "646131   1.4627e+08  United States      New York        NY   \n",
       "646132  3.26532e+08  United States       Florida        FL   \n",
       "646133  3.60882e+08  United States       Alabama        AL   \n",
       "646134  9.26173e+08  United States    California        CA   \n",
       "\n",
       "        awardEffectiveYear  awardExpirationYear  startYear  \n",
       "0                     2018                 2022       2018  \n",
       "1                     2018                 2021       2018  \n",
       "2                     2018                 2021       2018  \n",
       "3                     2019                 2024       2019  \n",
       "4                     2018                 2021       2018  \n",
       "...                    ...                  ...        ...  \n",
       "646130                2002                 2005       2002  \n",
       "646131                2003                 2007       2003  \n",
       "646132                2003                 2003       2002  \n",
       "646133                2002                 2004       2002  \n",
       "646134                2003                 2008       2003  \n",
       "\n",
       "[344591 rows x 20 columns]"
      ]
     },
     "execution_count": 9,
     "metadata": {},
     "output_type": "execute_result"
    }
   ],
   "source": [
    "nsf = nsf.drop_duplicates()\n",
    "nsf"
   ]
  },
  {
   "cell_type": "code",
   "execution_count": null,
   "metadata": {},
   "outputs": [],
   "source": [
    "nsf.to_csv('data/nsf/nsf.csv')"
   ]
  },
  {
   "cell_type": "markdown",
   "metadata": {},
   "source": [
    "## 3. Descriptive analysis"
   ]
  },
  {
   "cell_type": "markdown",
   "metadata": {},
   "source": [
    "### Start Year"
   ]
  },
  {
   "cell_type": "code",
   "execution_count": 10,
   "metadata": {},
   "outputs": [
    {
     "name": "stdout",
     "output_type": "stream",
     "text": [
      "18136.36842105263\n"
     ]
    },
    {
     "data": {
      "text/plain": [
       "<AxesSubplot:title={'center':'Number of projects per year'}>"
      ]
     },
     "execution_count": 10,
     "metadata": {},
     "output_type": "execute_result"
    },
    {
     "data": {
      "image/png": "[encoded data removed]",
      "text/plain": [
       "<Figure size 432x288 with 1 Axes>"
      ]
     },
     "metadata": {
      "needs_background": "light"
     },
     "output_type": "display_data"
    }
   ],
   "source": [
    "print(nsf['startYear'].value_counts().mean())\n",
    "nsf['startYear'].value_counts().reindex(range(2002,2021)).plot(kind='bar',title='Number of projects per year',color='k')"
   ]
  },
  {
   "cell_type": "markdown",
   "metadata": {},
   "source": [
    "### Award Amount"
   ]
  },
  {
   "cell_type": "code",
   "execution_count": 11,
   "metadata": {},
   "outputs": [
    {
     "name": "stdout",
     "output_type": "stream",
     "text": [
      "Mean award per project:  511156.59093243873\n",
      "Mean award per year:  9270524254.0\n"
     ]
    }
   ],
   "source": [
    "print('Mean award per project: ',nsf['AwardAmount'].mean())\n",
    "print('Mean award per year: ',nsf.groupby('startYear')['AwardAmount'].sum().mean())"
   ]
  },
  {
   "cell_type": "code",
   "execution_count": 12,
   "metadata": {},
   "outputs": [
    {
     "name": "stdout",
     "output_type": "stream",
     "text": [
      "Total budget per year:\n",
      "startYear\n",
      "2002     6267171113\n",
      "2003    11093917405\n",
      "2004     9481231140\n",
      "2005     8683551522\n",
      "2006     7893572566\n",
      "2007     6997494867\n",
      "2008     7946742778\n",
      "2009    11901933429\n",
      "2010     7909738516\n",
      "2011     7003875429\n",
      "2012    10291896687\n",
      "2013    10046957616\n",
      "2014    10454472757\n",
      "2015     9508472081\n",
      "2016     6927451040\n",
      "2017    10943188972\n",
      "2018    10112951448\n",
      "2019    12516232046\n",
      "2020    10159109414\n",
      "Name: AwardAmount, dtype: int64\n"
     ]
    },
    {
     "data": {
      "text/plain": [
       "<AxesSubplot:title={'center':'Total awards (yearly)'}, xlabel='startYear'>"
      ]
     },
     "execution_count": 12,
     "metadata": {},
     "output_type": "execute_result"
    },
    {
     "data": {
      "image/png": "[encoded data removed]",
      "text/plain": [
       "<Figure size 432x288 with 1 Axes>"
      ]
     },
     "metadata": {
      "needs_background": "light"
     },
     "output_type": "display_data"
    }
   ],
   "source": [
    "# total award per year\n",
    "print('Total budget per year:')\n",
    "print(nsf.groupby('startYear')['AwardAmount'].sum())\n",
    "nsf.groupby('startYear')['AwardAmount'].sum().plot(kind='bar',title='Total awards (yearly)',color='k')"
   ]
  },
  {
   "cell_type": "markdown",
   "metadata": {},
   "source": [
    "### Country Name"
   ]
  },
  {
   "cell_type": "code",
   "execution_count": 14,
   "metadata": {},
   "outputs": [
    {
     "data": {
      "text/plain": [
       "United States      344167\n",
       "Bermuda               112\n",
       "Canada                 62\n",
       "United Kingdom         53\n",
       "France                 40\n",
       "Germany                34\n",
       "Uruguay                31\n",
       "Sweden                 18\n",
       "Switzerland            10\n",
       "Australia               8\n",
       "Denmark                 6\n",
       "New Zealand             4\n",
       "Austria                 4\n",
       "Russia                  3\n",
       "Spain                   3\n",
       "Italy                   3\n",
       "Finland                 3\n",
       "Netherlands             3\n",
       "Paraguay                2\n",
       "Japan                   2\n",
       "Taiwan                  2\n",
       "Puerto Rico             2\n",
       "Israel                  1\n",
       "Ukraine                 1\n",
       "South Africa            1\n",
       "Sri Lanka               1\n",
       "Turkey                  1\n",
       "Australasia             1\n",
       "Colombia                1\n",
       "Mexico                  1\n",
       "Estonia                 1\n",
       "Cameroon                1\n",
       "Germany, Berlin         1\n",
       "Venezuela               1\n",
       "Belgium                 1\n",
       "India                   1\n",
       "Antarctica              1\n",
       "Name: CountryName, dtype: int64"
      ]
     },
     "execution_count": 14,
     "metadata": {},
     "output_type": "execute_result"
    }
   ],
   "source": [
    "nsf['CountryName'].value_counts()"
   ]
  },
  {
   "cell_type": "markdown",
   "metadata": {},
   "source": [
    "### State Name"
   ]
  },
  {
   "cell_type": "code",
   "execution_count": 15,
   "metadata": {},
   "outputs": [
    {
     "name": "stdout",
     "output_type": "stream",
     "text": [
      "Number of states and other territories:  57\n",
      "California              43642\n",
      "New York                26653\n",
      "Massachusetts           23141\n",
      "Texas                   18343\n",
      "Pennsylvania            18014\n",
      "Illinois                15175\n",
      "Michigan                11631\n",
      "North Carolina          10802\n",
      "Florida                 10406\n",
      "Virginia                 9743\n",
      "Colorado                 9479\n",
      "Maryland                 8989\n",
      "Ohio                     8841\n",
      "Georgia                  8738\n",
      "New Jersey               8438\n",
      "Indiana                  8275\n",
      "Washington               8043\n",
      "Arizona                  7846\n",
      "Wisconsin                6050\n",
      "District of Columbia     5938\n",
      "Minnesota                5424\n",
      "Oregon                   5117\n",
      "Connecticut              4802\n",
      "Missouri                 4449\n",
      "Tennessee                4123\n",
      "Rhode Island             3882\n",
      "Iowa                     3621\n",
      "Utah                     3546\n",
      "South Carolina           3257\n",
      "Louisiana                3102\n",
      "Alabama                  3067\n",
      "New Mexico               2770\n",
      "Kansas                   2474\n",
      "Hawaii                   2183\n",
      "Oklahoma                 2112\n",
      "New Hampshire            2005\n",
      "Kentucky                 1978\n",
      "Delaware                 1971\n",
      "Alaska                   1828\n",
      "Nebraska                 1664\n",
      "Montana                  1643\n",
      "Maine                    1493\n",
      "Nevada                   1341\n",
      "Mississippi              1305\n",
      "Arkansas                 1267\n",
      "Idaho                    1159\n",
      "Wyoming                   805\n",
      "West Virginia             759\n",
      "South Dakota              710\n",
      "Vermont                   710\n",
      "North Dakota              685\n",
      "Puerto Rico               595\n",
      "Virgin Islands             52\n",
      "Guam                       30\n",
      "APO/FPO EUR, ME, AFR        4\n",
      "American Samoa              4\n",
      "Northern Mariana Isl        1\n",
      "Name: StateName, dtype: int64\n"
     ]
    },
    {
     "data": {
      "text/plain": [
       "<AxesSubplot:title={'center':'Number of projects per state'}>"
      ]
     },
     "execution_count": 15,
     "metadata": {},
     "output_type": "execute_result"
    },
    {
     "data": {
      "image/png": "[encoded data removed]",
      "text/plain": [
       "<Figure size 432x288 with 1 Axes>"
      ]
     },
     "metadata": {
      "needs_background": "light"
     },
     "output_type": "display_data"
    }
   ],
   "source": [
    "print('Number of states and other territories: ',len(nsf['StateName'].value_counts()))\n",
    "print(nsf['StateName'].value_counts())\n",
    "nsf['StateName'].value_counts().where(nsf['StateName'].value_counts()>10000).dropna().plot(kind='bar',color='k',title='Number of projects per state')"
   ]
  },
  {
   "cell_type": "markdown",
   "metadata": {},
   "source": [
    "### Abstract narration"
   ]
  },
  {
   "cell_type": "code",
   "execution_count": 13,
   "metadata": {},
   "outputs": [
    {
     "name": "stdout",
     "output_type": "stream",
     "text": [
      "Average abstract narration length:  2376.2361365085535\n",
      "startYear\n",
      "2002    1927.578084\n",
      "2003    2029.913671\n",
      "2004    2072.247896\n",
      "2005    2164.597111\n",
      "2006    2129.291331\n",
      "2007    2139.055548\n",
      "2008    2157.117237\n",
      "2009    2239.954960\n",
      "2010    2235.964118\n",
      "2011    2304.973738\n",
      "2012    2305.164382\n",
      "2013    2339.897648\n",
      "2014    2532.826776\n",
      "2015    2615.154658\n",
      "2016    2624.964771\n",
      "2017    2642.833311\n",
      "2018    2880.780407\n",
      "2019    2885.792299\n",
      "2020    2920.378648\n",
      "Name: AbstractNarration, dtype: float64\n"
     ]
    },
    {
     "data": {
      "text/plain": [
       "<AxesSubplot:title={'center':'Average abstract narration length (yearly)'}, xlabel='startYear'>"
      ]
     },
     "execution_count": 13,
     "metadata": {},
     "output_type": "execute_result"
    },
    {
     "data": {
      "image/png": "[encoded data removed]",
      "text/plain": [
       "<Figure size 432x288 with 1 Axes>"
      ]
     },
     "metadata": {
      "needs_background": "light"
     },
     "output_type": "display_data"
    }
   ],
   "source": [
    "print('Average abstract narration length: ',nsf.groupby('startYear').AbstractNarration.apply(lambda x: x.str.len().mean()).reindex(range(2002,2021)).mean())\n",
    "print(nsf.groupby('startYear').AbstractNarration.apply(lambda x: x.str.len().mean()))\n",
    "nsf.groupby('startYear').AbstractNarration.apply(lambda x: x.str.len().mean()).plot(kind='bar',title='Average abstract narration length (yearly)',color='k')"
   ]
  },
  {
   "cell_type": "code",
   "execution_count": null,
   "metadata": {},
   "outputs": [],
   "source": []
  }
 ],
 "metadata": {
  "kernelspec": {
   "display_name": "Python 3",
   "language": "python",
   "name": "python3"
  },
  "language_info": {
   "codemirror_mode": {
    "name": "ipython",
    "version": 3
   },
   "file_extension": ".py",
   "mimetype": "text/x-python",
   "name": "python",
   "nbconvert_exporter": "python",
   "pygments_lexer": "ipython3",
   "version": "3.8.6"
  }
 },
 "nbformat": 4,
 "nbformat_minor": 4
}
