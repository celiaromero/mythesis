{
 "cells": [
  {
   "cell_type": "markdown",
   "metadata": {},
   "source": [
    "# NSF"
   ]
  },
  {
   "cell_type": "code",
   "execution_count": 10,
   "metadata": {},
   "outputs": [],
   "source": [
    "# Libraries\n",
    "\n",
    "from os.path import join\n",
    "from os import listdir\n",
    "from bs4 import BeautifulSoup\n",
    "import pandas as pd"
   ]
  },
  {
   "cell_type": "markdown",
   "metadata": {},
   "source": [
    "## 1. Parsing XML"
   ]
  },
  {
   "cell_type": "code",
   "execution_count": null,
   "metadata": {},
   "outputs": [],
   "source": [
    "# Option 1: List of file paths for all years\n",
    "\n",
    "years = list(range(2002,2021))\n",
    "filelist = []\n",
    "\n",
    "for year in years:\n",
    "    folder_path = join('data/nsf/'+str(year))\n",
    "    filelist.extend([join(folder_path,f) for f in listdir(folder_path)])"
   ]
  },
  {
   "cell_type": "code",
   "execution_count": null,
   "metadata": {},
   "outputs": [],
   "source": [
    "# Option 2: Filelist year by year\n",
    "\n",
    "year = 2020\n",
    "folder_path = join('data/nsf/'+str(year))\n",
    "filelist = []\n",
    "filelist.extend([join(folder_path,f) for f in listdir(folder_path)])"
   ]
  },
  {
   "cell_type": "code",
   "execution_count": null,
   "metadata": {},
   "outputs": [],
   "source": [
    "# Option 3: File by file (testing purposes)\n",
    "\n",
    "xmlfile = open('data/nsf/2002/0200014.xml','r')\n",
    "xml_soup = BeautifulSoup(xmlfile,'xml')\n",
    "for element in xml_soup.find_all():\n",
    "    for column in list(xml_df):\n",
    "        if(element.name==column):\n",
    "            dict_aux[column] = element.string\n",
    "\n",
    "xml_df = xml_df.append(dict_aux,ignore_index=True)"
   ]
  },
  {
   "cell_type": "code",
   "execution_count": 101,
   "metadata": {},
   "outputs": [],
   "source": [
    "# XML Schema\n",
    "\n",
    "xsd_file = open('data/nsf/Award.xsd','r')\n",
    "xsd_soup = BeautifulSoup(xsd_file)\n",
    "\n",
    "tags = []\n",
    "for element in xsd_soup.find_all('xsd:element'):\n",
    "    tags.append(element['name'])"
   ]
  },
  {
   "cell_type": "code",
   "execution_count": 102,
   "metadata": {},
   "outputs": [],
   "source": [
    "# Build dataframe (Options 1 & 2)\n",
    "\n",
    "xml_df = pd.DataFrame(columns=tags)\n",
    "dict_aux = {}\n",
    "\n",
    "for file in filelist:\n",
    "    xmlfile = open(file,'r')\n",
    "    xml_soup = BeautifulSoup(xmlfile,'xml')\n",
    "    for element in xml_soup.find_all(): \n",
    "        for column in list(xml_df):\n",
    "            if(element.name==column):\n",
    "                dict_aux[column] = element.string\n",
    "    xml_df = xml_df.append(dict_aux,ignore_index=True)\n",
    "    dict_aux = {}"
   ]
  },
  {
   "cell_type": "code",
   "execution_count": 104,
   "metadata": {},
   "outputs": [],
   "source": [
    "# Write dataframe to csv file (Option 2: year by year)\n",
    "\n",
    "xml_df.to_csv('data/nsf/nsf_2020.csv')"
   ]
  },
  {
   "cell_type": "code",
   "execution_count": 53,
   "metadata": {},
   "outputs": [],
   "source": [
    "# Load csvs into joint dataframe (Option 2: year by year)\n",
    "\n",
    "columns_dates = ['AwardEffectiveDate','AwardExpirationDate']\n",
    "nsf_list = []\n",
    "\n",
    "for file in listdir(\"data/nsf\"):\n",
    "    if file.endswith(\".csv\"):\n",
    "        df = pd.read_csv(join('data/nsf',file),parse_dates=columns_dates)\n",
    "        nsf_list.append(df)\n",
    "\n",
    "nsf = pd.concat(nsf_list)\n",
    "nsf.to_csv('data/nsf/nsf.csv')"
   ]
  },
  {
   "cell_type": "markdown",
   "metadata": {},
   "source": [
    "## 2. Preprocessing"
   ]
  },
  {
   "cell_type": "code",
   "execution_count": 45,
   "metadata": {},
   "outputs": [
    {
     "name": "stderr",
     "output_type": "stream",
     "text": [
      "/Library/Frameworks/Python.framework/Versions/3.8/lib/python3.8/site-packages/IPython/core/interactiveshell.py:3146: DtypeWarning: Columns (28,32,33,35,44,47) have mixed types.Specify dtype option on import or set low_memory=False.\n",
      "  has_raised = await self.run_ast_nodes(code_ast.body, cell_name,\n"
     ]
    }
   ],
   "source": [
    "# Load csv (Option 1: all in one)\n",
    "\n",
    "columns_dates = ['AwardEffectiveDate','AwardExpirationDate','MinAmdLetterDate','MaxAmdLetterDate','StartDate']\n",
    "nsf = pd.read_csv('data/nsf/nsf.csv',parse_dates=columns_dates)"
   ]
  },
  {
   "cell_type": "code",
   "execution_count": 51,
   "metadata": {},
   "outputs": [],
   "source": [
    "# Duration in days\n",
    "nsf['durationAward'] = (nsf['AwardExpirationDate'] - nsf['AwardEffectiveDate']).dt.days\n",
    "\n",
    "# Extract years\n",
    "nsf['awardEffectiveYear'] = pd.DatetimeIndex(nsf['AwardEffectiveDate']).year\n",
    "nsf['awardExpirationYear'] = pd.DatetimeIndex(nsf['AwardExpirationDate']).year\n",
    "nsf['startYear'] = pd.DatetimeIndex(nsf['StartDate']).year\n",
    "nsf = nsf.fillna({'startYear':0})\n",
    "nsf = nsf.astype({\"startYear\":'int'}) "
   ]
  },
  {
   "cell_type": "code",
   "execution_count": 52,
   "metadata": {},
   "outputs": [],
   "source": [
    "# Find columns with most of their values nulls\n",
    "\n",
    "cols_to_drop = []\n",
    "\n",
    "for col in nsf.columns:\n",
    "    if(nsf[col].isnull().sum() > 12000):\n",
    "        cols_to_drop.append(col)"
   ]
  },
  {
   "cell_type": "code",
   "execution_count": 53,
   "metadata": {},
   "outputs": [],
   "source": [
    "# Drop useless columns\n",
    "\n",
    "cols_to_drop.extend(['Unnamed: 0','Unnamed: 0.1','Code','LongName.1','Code.1','Name.1','Code.2','Code.3'])\n",
    "\n",
    "nsf = nsf.drop(columns=cols_to_drop)"
   ]
  },
  {
   "cell_type": "code",
   "execution_count": 54,
   "metadata": {},
   "outputs": [
    {
     "data": {
      "text/html": [
       "<div>\n",
       "<style scoped>\n",
       "    .dataframe tbody tr th:only-of-type {\n",
       "        vertical-align: middle;\n",
       "    }\n",
       "\n",
       "    .dataframe tbody tr th {\n",
       "        vertical-align: top;\n",
       "    }\n",
       "\n",
       "    .dataframe thead th {\n",
       "        text-align: right;\n",
       "    }\n",
       "</style>\n",
       "<table border=\"1\" class=\"dataframe\">\n",
       "  <thead>\n",
       "    <tr style=\"text-align: right;\">\n",
       "      <th></th>\n",
       "      <th>AwardTitle</th>\n",
       "      <th>AwardEffectiveDate</th>\n",
       "      <th>AwardExpirationDate</th>\n",
       "      <th>AwardAmount</th>\n",
       "      <th>Value</th>\n",
       "      <th>LongName</th>\n",
       "      <th>SignBlockName</th>\n",
       "      <th>AbstractNarration</th>\n",
       "      <th>MinAmdLetterDate</th>\n",
       "      <th>MaxAmdLetterDate</th>\n",
       "      <th>...</th>\n",
       "      <th>RoleCode</th>\n",
       "      <th>Name</th>\n",
       "      <th>ZipCode</th>\n",
       "      <th>CountryName</th>\n",
       "      <th>StateName</th>\n",
       "      <th>StateCode</th>\n",
       "      <th>durationAward</th>\n",
       "      <th>awardEffectiveYear</th>\n",
       "      <th>awardExpirationYear</th>\n",
       "      <th>startYear</th>\n",
       "    </tr>\n",
       "  </thead>\n",
       "  <tbody>\n",
       "    <tr>\n",
       "      <th>0</th>\n",
       "      <td>Collaborative Research: Framework: Software: N...</td>\n",
       "      <td>2018-10-01</td>\n",
       "      <td>2022-09-30</td>\n",
       "      <td>700000</td>\n",
       "      <td>Standard Grant</td>\n",
       "      <td>Office of Advanced Cyberinfrastructure (OAC)</td>\n",
       "      <td>Seung-Jong Park</td>\n",
       "      <td>This award supports the design and implementat...</td>\n",
       "      <td>2018-09-12</td>\n",
       "      <td>2018-09-12</td>\n",
       "      <td>...</td>\n",
       "      <td>Principal Investigator</td>\n",
       "      <td>NSF RESEARCH &amp; RELATED ACTIVIT</td>\n",
       "      <td>837251135</td>\n",
       "      <td>United States</td>\n",
       "      <td>Idaho</td>\n",
       "      <td>ID</td>\n",
       "      <td>1460</td>\n",
       "      <td>2018</td>\n",
       "      <td>2022</td>\n",
       "      <td>2018</td>\n",
       "    </tr>\n",
       "    <tr>\n",
       "      <th>1</th>\n",
       "      <td>CRI: CI-P: Creating the Largest Speech Emotion...</td>\n",
       "      <td>2018-09-01</td>\n",
       "      <td>2021-02-28</td>\n",
       "      <td>115390</td>\n",
       "      <td>Standard Grant</td>\n",
       "      <td>Division Of Computer and Network Systems</td>\n",
       "      <td>Tatiana Korelsky</td>\n",
       "      <td>This community infrastructure planning project...</td>\n",
       "      <td>2018-07-25</td>\n",
       "      <td>2020-03-30</td>\n",
       "      <td>...</td>\n",
       "      <td>Principal Investigator</td>\n",
       "      <td>University of Texas at Dallas</td>\n",
       "      <td>750803021</td>\n",
       "      <td>United States</td>\n",
       "      <td>Texas</td>\n",
       "      <td>TX</td>\n",
       "      <td>911</td>\n",
       "      <td>2018</td>\n",
       "      <td>2021</td>\n",
       "      <td>2018</td>\n",
       "    </tr>\n",
       "    <tr>\n",
       "      <th>2</th>\n",
       "      <td>Collaborative Research: Targeted Observation b...</td>\n",
       "      <td>2018-09-01</td>\n",
       "      <td>2021-08-31</td>\n",
       "      <td>588488</td>\n",
       "      <td>Continuing Grant</td>\n",
       "      <td>Div Atmospheric &amp; Geospace Sciences</td>\n",
       "      <td>Chungu Lu</td>\n",
       "      <td>Storm-generated boundaries are the focal point...</td>\n",
       "      <td>2018-08-24</td>\n",
       "      <td>2020-10-15</td>\n",
       "      <td>...</td>\n",
       "      <td>Co-Principal Investigator</td>\n",
       "      <td>NSF RESEARCH &amp; RELATED ACTIVIT</td>\n",
       "      <td>803090429</td>\n",
       "      <td>United States</td>\n",
       "      <td>Colorado</td>\n",
       "      <td>CO</td>\n",
       "      <td>1095</td>\n",
       "      <td>2018</td>\n",
       "      <td>2021</td>\n",
       "      <td>2018</td>\n",
       "    </tr>\n",
       "    <tr>\n",
       "      <th>3</th>\n",
       "      <td>CAREER: Merging geoscience research and educat...</td>\n",
       "      <td>2019-08-15</td>\n",
       "      <td>2024-07-31</td>\n",
       "      <td>298009</td>\n",
       "      <td>Continuing Grant</td>\n",
       "      <td>Division Of Earth Sciences</td>\n",
       "      <td>Steven Whitmeyer</td>\n",
       "      <td>Mountain ranges have significant impacts on wa...</td>\n",
       "      <td>2019-06-14</td>\n",
       "      <td>2019-06-14</td>\n",
       "      <td>...</td>\n",
       "      <td>Principal Investigator</td>\n",
       "      <td>NSF RESEARCH &amp; RELATED ACTIVIT</td>\n",
       "      <td>778433115</td>\n",
       "      <td>United States</td>\n",
       "      <td>Texas</td>\n",
       "      <td>TX</td>\n",
       "      <td>1812</td>\n",
       "      <td>2019</td>\n",
       "      <td>2024</td>\n",
       "      <td>2019</td>\n",
       "    </tr>\n",
       "    <tr>\n",
       "      <th>4</th>\n",
       "      <td>Collaborative Research: RUI: A Half Century of...</td>\n",
       "      <td>2018-09-01</td>\n",
       "      <td>2021-08-31</td>\n",
       "      <td>412626</td>\n",
       "      <td>Standard Grant</td>\n",
       "      <td>Office of Polar Programs (OPP)</td>\n",
       "      <td>Colene Haffke</td>\n",
       "      <td>Meltwater reaching the base of a glacier behav...</td>\n",
       "      <td>2018-07-25</td>\n",
       "      <td>2018-07-25</td>\n",
       "      <td>...</td>\n",
       "      <td>Principal Investigator</td>\n",
       "      <td>NSF RESEARCH &amp; RELATED ACTIVIT</td>\n",
       "      <td>997757880</td>\n",
       "      <td>United States</td>\n",
       "      <td>Alaska</td>\n",
       "      <td>AK</td>\n",
       "      <td>1095</td>\n",
       "      <td>2018</td>\n",
       "      <td>2021</td>\n",
       "      <td>2018</td>\n",
       "    </tr>\n",
       "  </tbody>\n",
       "</table>\n",
       "<p>5 rows × 24 columns</p>\n",
       "</div>"
      ],
      "text/plain": [
       "                                          AwardTitle AwardEffectiveDate  \\\n",
       "0  Collaborative Research: Framework: Software: N...         2018-10-01   \n",
       "1  CRI: CI-P: Creating the Largest Speech Emotion...         2018-09-01   \n",
       "2  Collaborative Research: Targeted Observation b...         2018-09-01   \n",
       "3  CAREER: Merging geoscience research and educat...         2019-08-15   \n",
       "4  Collaborative Research: RUI: A Half Century of...         2018-09-01   \n",
       "\n",
       "  AwardExpirationDate  AwardAmount             Value  \\\n",
       "0          2022-09-30       700000    Standard Grant   \n",
       "1          2021-02-28       115390    Standard Grant   \n",
       "2          2021-08-31       588488  Continuing Grant   \n",
       "3          2024-07-31       298009  Continuing Grant   \n",
       "4          2021-08-31       412626    Standard Grant   \n",
       "\n",
       "                                       LongName     SignBlockName  \\\n",
       "0  Office of Advanced Cyberinfrastructure (OAC)   Seung-Jong Park   \n",
       "1      Division Of Computer and Network Systems  Tatiana Korelsky   \n",
       "2           Div Atmospheric & Geospace Sciences         Chungu Lu   \n",
       "3                    Division Of Earth Sciences  Steven Whitmeyer   \n",
       "4                Office of Polar Programs (OPP)     Colene Haffke   \n",
       "\n",
       "                                   AbstractNarration MinAmdLetterDate  \\\n",
       "0  This award supports the design and implementat...       2018-09-12   \n",
       "1  This community infrastructure planning project...       2018-07-25   \n",
       "2  Storm-generated boundaries are the focal point...       2018-08-24   \n",
       "3  Mountain ranges have significant impacts on wa...       2019-06-14   \n",
       "4  Meltwater reaching the base of a glacier behav...       2018-07-25   \n",
       "\n",
       "  MaxAmdLetterDate  ...                   RoleCode  \\\n",
       "0       2018-09-12  ...     Principal Investigator   \n",
       "1       2020-03-30  ...     Principal Investigator   \n",
       "2       2020-10-15  ...  Co-Principal Investigator   \n",
       "3       2019-06-14  ...     Principal Investigator   \n",
       "4       2018-07-25  ...     Principal Investigator   \n",
       "\n",
       "                             Name    ZipCode    CountryName StateName  \\\n",
       "0  NSF RESEARCH & RELATED ACTIVIT  837251135  United States     Idaho   \n",
       "1   University of Texas at Dallas  750803021  United States     Texas   \n",
       "2  NSF RESEARCH & RELATED ACTIVIT  803090429  United States  Colorado   \n",
       "3  NSF RESEARCH & RELATED ACTIVIT  778433115  United States     Texas   \n",
       "4  NSF RESEARCH & RELATED ACTIVIT  997757880  United States    Alaska   \n",
       "\n",
       "  StateCode durationAward awardEffectiveYear awardExpirationYear startYear  \n",
       "0        ID          1460               2018                2022      2018  \n",
       "1        TX           911               2018                2021      2018  \n",
       "2        CO          1095               2018                2021      2018  \n",
       "3        TX          1812               2019                2024      2019  \n",
       "4        AK          1095               2018                2021      2018  \n",
       "\n",
       "[5 rows x 24 columns]"
      ]
     },
     "execution_count": 54,
     "metadata": {},
     "output_type": "execute_result"
    }
   ],
   "source": [
    "nsf.head()"
   ]
  },
  {
   "cell_type": "code",
   "execution_count": 57,
   "metadata": {},
   "outputs": [
    {
     "data": {
      "text/plain": [
       "AwardTitle                     object\n",
       "AwardEffectiveDate     datetime64[ns]\n",
       "AwardExpirationDate    datetime64[ns]\n",
       "AwardAmount                     int64\n",
       "Value                          object\n",
       "LongName                       object\n",
       "SignBlockName                  object\n",
       "AbstractNarration              object\n",
       "MinAmdLetterDate       datetime64[ns]\n",
       "MaxAmdLetterDate       datetime64[ns]\n",
       "AwardID                       float64\n",
       "FirstName                      object\n",
       "LastName                       object\n",
       "StartDate              datetime64[ns]\n",
       "RoleCode                       object\n",
       "Name                           object\n",
       "ZipCode                        object\n",
       "CountryName                    object\n",
       "StateName                      object\n",
       "StateCode                      object\n",
       "durationAward                   int64\n",
       "awardEffectiveYear              int64\n",
       "awardExpirationYear             int64\n",
       "startYear                       int64\n",
       "dtype: object"
      ]
     },
     "execution_count": 57,
     "metadata": {},
     "output_type": "execute_result"
    }
   ],
   "source": [
    "nsf.dtypes"
   ]
  },
  {
   "cell_type": "markdown",
   "metadata": {},
   "source": [
    "## 3. Descriptive analysis"
   ]
  },
  {
   "cell_type": "markdown",
   "metadata": {},
   "source": [
    "### Award Amount"
   ]
  },
  {
   "cell_type": "code",
   "execution_count": 43,
   "metadata": {},
   "outputs": [
    {
     "data": {
      "text/plain": [
       "509660.8300755549"
      ]
     },
     "execution_count": 43,
     "metadata": {},
     "output_type": "execute_result"
    }
   ],
   "source": [
    "nsf['AwardAmount'].mean()"
   ]
  },
  {
   "cell_type": "code",
   "execution_count": 44,
   "metadata": {},
   "outputs": [
    {
     "data": {
      "text/plain": [
       "<AxesSubplot:>"
      ]
     },
     "execution_count": 44,
     "metadata": {},
     "output_type": "execute_result"
    },
    {
     "data": {
      "image/png": "[encoded data removed]",
      "text/plain": [
       "<Figure size 432x288 with 1 Axes>"
      ]
     },
     "metadata": {
      "needs_background": "light"
     },
     "output_type": "display_data"
    }
   ],
   "source": [
    "nsf['AwardAmount'].hist()"
   ]
  },
  {
   "cell_type": "markdown",
   "metadata": {},
   "source": [
    "### Value"
   ]
  },
  {
   "cell_type": "code",
   "execution_count": 23,
   "metadata": {},
   "outputs": [
    {
     "data": {
      "text/plain": [
       "Standard Grant                       478017\n",
       "Continuing Grant                     108762\n",
       "Continuing grant                      72387\n",
       "Fellowship Award                      10611\n",
       "Fellowship                             8865\n",
       "Cooperative Agreement                  5247\n",
       "Contract Interagency Agreement         2232\n",
       "Interagency Agreement                  1596\n",
       "Contract                                333\n",
       "BOA/Task Order                          294\n",
       "Fixed Price Award                       102\n",
       "Fixed Amount Award                       51\n",
       "Intergovernmental Personnel Award         6\n",
       "Personnel Agreement                       3\n",
       "Name: Value, dtype: int64"
      ]
     },
     "execution_count": 23,
     "metadata": {},
     "output_type": "execute_result"
    }
   ],
   "source": [
    "nsf['Value'].value_counts()"
   ]
  },
  {
   "cell_type": "markdown",
   "metadata": {},
   "source": [
    "### Country Name"
   ]
  },
  {
   "cell_type": "code",
   "execution_count": 24,
   "metadata": {},
   "outputs": [
    {
     "data": {
      "text/plain": [
       "United States      676689\n",
       "Bermuda               336\n",
       "Canada                192\n",
       "United Kingdom        162\n",
       "France                 99\n",
       "Germany                81\n",
       "Uruguay                60\n",
       "Sweden                 45\n",
       "Switzerland            30\n",
       "Australia              24\n",
       "Austria                12\n",
       "Denmark                12\n",
       "New Zealand            12\n",
       "Italy                   9\n",
       "Russia                  9\n",
       "Netherlands             9\n",
       "Spain                   6\n",
       "Japan                   6\n",
       "Puerto Rico             6\n",
       "Paraguay                6\n",
       "Finland                 6\n",
       "Sri Lanka               3\n",
       "Ukraine                 3\n",
       "Turkey                  3\n",
       "Colombia                3\n",
       "Estonia                 3\n",
       "Belgium                 3\n",
       "Israel                  3\n",
       "Mexico                  3\n",
       "Germany, Berlin         3\n",
       "Venezuela               3\n",
       "Antarctica              3\n",
       "Australasia             3\n",
       "Taiwan                  3\n",
       "Cameroon                3\n",
       "India                   3\n",
       "South Africa            3\n",
       "Name: CountryName, dtype: int64"
      ]
     },
     "execution_count": 24,
     "metadata": {},
     "output_type": "execute_result"
    }
   ],
   "source": [
    "nsf['CountryName'].value_counts()"
   ]
  },
  {
   "cell_type": "markdown",
   "metadata": {},
   "source": [
    "### State Name"
   ]
  },
  {
   "cell_type": "code",
   "execution_count": 25,
   "metadata": {},
   "outputs": [
    {
     "data": {
      "text/plain": [
       "California              85851\n",
       "New York                52173\n",
       "Massachusetts           45240\n",
       "Texas                   36471\n",
       "Pennsylvania            35313\n",
       "Illinois                29883\n",
       "Michigan                22875\n",
       "North Carolina          21090\n",
       "Florida                 20571\n",
       "Virginia                19275\n",
       "Colorado                18813\n",
       "Maryland                17589\n",
       "Ohio                    17370\n",
       "Georgia                 17256\n",
       "Indiana                 16530\n",
       "New Jersey              16380\n",
       "Washington              15879\n",
       "Arizona                 15525\n",
       "Wisconsin               11946\n",
       "District of Columbia    11568\n",
       "Minnesota               10599\n",
       "Oregon                  10038\n",
       "Connecticut              9348\n",
       "Missouri                 8631\n",
       "Tennessee                8184\n",
       "Rhode Island             7632\n",
       "Iowa                     7116\n",
       "Utah                     7002\n",
       "South Carolina           6408\n",
       "Alabama                  6069\n",
       "Louisiana                6033\n",
       "New Mexico               5409\n",
       "Kansas                   4740\n",
       "Hawaii                   4356\n",
       "Oklahoma                 4158\n",
       "Kentucky                 3909\n",
       "Delaware                 3909\n",
       "New Hampshire            3906\n",
       "Alaska                   3522\n",
       "Nebraska                 3234\n",
       "Montana                  3174\n",
       "Maine                    2931\n",
       "Mississippi              2700\n",
       "Nevada                   2610\n",
       "Arkansas                 2484\n",
       "Idaho                    2271\n",
       "Wyoming                  1539\n",
       "West Virginia            1518\n",
       "Vermont                  1443\n",
       "South Dakota             1395\n",
       "North Dakota             1338\n",
       "Puerto Rico              1212\n",
       "Virgin Islands             96\n",
       "Guam                       60\n",
       "APO/FPO EUR, ME, AFR        9\n",
       "American Samoa              6\n",
       "Northern Mariana Isl        3\n",
       "Name: StateName, dtype: int64"
      ]
     },
     "execution_count": 25,
     "metadata": {},
     "output_type": "execute_result"
    }
   ],
   "source": [
    "nsf['StateName'].value_counts()"
   ]
  },
  {
   "cell_type": "markdown",
   "metadata": {},
   "source": [
    "### Duration Award"
   ]
  },
  {
   "cell_type": "code",
   "execution_count": 58,
   "metadata": {},
   "outputs": [
    {
     "data": {
      "text/plain": [
       "1197.8278533520404"
      ]
     },
     "execution_count": 58,
     "metadata": {},
     "output_type": "execute_result"
    }
   ],
   "source": [
    "nsf['durationAward'].mean()"
   ]
  },
  {
   "cell_type": "code",
   "execution_count": 59,
   "metadata": {},
   "outputs": [
    {
     "data": {
      "text/plain": [
       "<AxesSubplot:>"
      ]
     },
     "execution_count": 59,
     "metadata": {},
     "output_type": "execute_result"
    },
    {
     "data": {
      "image/png": "[encoded data removed]",
      "text/plain": [
       "<Figure size 432x288 with 1 Axes>"
      ]
     },
     "metadata": {
      "needs_background": "light"
     },
     "output_type": "display_data"
    }
   ],
   "source": [
    "nsf['durationAward'].hist()"
   ]
  },
  {
   "cell_type": "markdown",
   "metadata": {},
   "source": [
    "### Start Year"
   ]
  },
  {
   "cell_type": "code",
   "execution_count": 63,
   "metadata": {},
   "outputs": [
    {
     "data": {
      "text/plain": [
       "2009    45012\n",
       "2010    39852\n",
       "2020    39789\n",
       "2019    38256\n",
       "2015    38160\n",
       "2016    38031\n",
       "2018    37989\n",
       "2017    36591\n",
       "2012    36195\n",
       "2007    35517\n",
       "2011    34710\n",
       "2008    34356\n",
       "2014    34200\n",
       "2013    33891\n",
       "2003    33483\n",
       "2006    32277\n",
       "2004    31401\n",
       "2005    30234\n",
       "2002    22851\n",
       "0       11556\n",
       "2021     3294\n",
       "2001      351\n",
       "2000      243\n",
       "1999      150\n",
       "1998       78\n",
       "1997       30\n",
       "1996        3\n",
       "1995        3\n",
       "1994        3\n",
       "Name: startYear, dtype: int64"
      ]
     },
     "execution_count": 63,
     "metadata": {},
     "output_type": "execute_result"
    }
   ],
   "source": [
    "nsf['startYear'].value_counts()"
   ]
  },
  {
   "cell_type": "markdown",
   "metadata": {},
   "source": [
    "### Award Effective Year"
   ]
  },
  {
   "cell_type": "code",
   "execution_count": 61,
   "metadata": {},
   "outputs": [
    {
     "data": {
      "text/plain": [
       "2009    45714\n",
       "2010    41463\n",
       "2016    38979\n",
       "2015    38787\n",
       "2018    37806\n",
       "2020    37545\n",
       "2012    36918\n",
       "2017    36591\n",
       "2007    36354\n",
       "2019    36333\n",
       "2014    35949\n",
       "2011    35856\n",
       "2008    35235\n",
       "2013    35106\n",
       "2003    34701\n",
       "2004    32766\n",
       "2006    32649\n",
       "2005    31221\n",
       "2002    22032\n",
       "2021     5469\n",
       "2001      996\n",
       "2000       27\n",
       "2022        6\n",
       "1995        3\n",
       "Name: awardEffectiveYear, dtype: int64"
      ]
     },
     "execution_count": 61,
     "metadata": {},
     "output_type": "execute_result"
    }
   ],
   "source": [
    "nsf['awardEffectiveYear'].value_counts()"
   ]
  },
  {
   "cell_type": "markdown",
   "metadata": {},
   "source": [
    "### Award Expiration Year"
   ]
  },
  {
   "cell_type": "code",
   "execution_count": 62,
   "metadata": {},
   "outputs": [
    {
     "data": {
      "text/plain": [
       "2021    66390\n",
       "2013    42276\n",
       "2012    38079\n",
       "2015    37125\n",
       "2014    37110\n",
       "2018    36681\n",
       "2016    36573\n",
       "2017    36411\n",
       "2011    36120\n",
       "2019    35601\n",
       "2022    35214\n",
       "2010    34395\n",
       "2009    31824\n",
       "2020    31374\n",
       "2008    30864\n",
       "2007    28860\n",
       "2023    24183\n",
       "2006    23520\n",
       "2005    15138\n",
       "2004    10545\n",
       "2024     8004\n",
       "2003     5013\n",
       "2025     4767\n",
       "2026     1539\n",
       "2002      882\n",
       "2027        9\n",
       "2001        9\n",
       "Name: awardExpirationYear, dtype: int64"
      ]
     },
     "execution_count": 62,
     "metadata": {},
     "output_type": "execute_result"
    }
   ],
   "source": [
    "nsf['awardExpirationYear'].value_counts()"
   ]
  },
  {
   "cell_type": "markdown",
   "metadata": {},
   "source": [
    "## 4. Corpus processing"
   ]
  },
  {
   "cell_type": "code",
   "execution_count": 82,
   "metadata": {},
   "outputs": [],
   "source": [
    "# The list of abstracts is the corpus\n",
    "nsf_corpus_raw = nsf['AbstractNarration']\n",
    "\n",
    "# Checking NAs (tokenizer will not work with them)\n",
    "nsf_corpus_raw.isnull().sum()"
   ]
  },
  {
   "cell_type": "code",
   "execution_count": 104,
   "metadata": {},
   "outputs": [],
   "source": [
    "# Dropping NAs\n",
    "nsf_corpus_raw = nsf_corpus_raw.dropna()\n",
    "nsf_corpus_raw.isnull().sum()"
   ]
  },
  {
   "cell_type": "markdown",
   "metadata": {},
   "source": [
    "### 4.1 Tokenization & Homogeneization\n",
    "Includes:\n",
    "- Filtering (removing capitals)\n",
    "- Cleaning (removing stopwords)\n",
    "- Lemmatization"
   ]
  },
  {
   "cell_type": "code",
   "execution_count": 97,
   "metadata": {},
   "outputs": [],
   "source": [
    "# Libraries\n",
    "\n",
    "from nltk import download\n",
    "# download('stopwords')\n",
    "from nltk.tokenize import word_tokenize\n",
    "from nltk.stem import WordNetLemmatizer\n",
    "from nltk.corpus import stopwords"
   ]
  },
  {
   "cell_type": "code",
   "execution_count": 109,
   "metadata": {},
   "outputs": [
    {
     "name": "stdout",
     "output_type": "stream",
     "text": [
      "\n",
      "\n",
      " The corpus has been tokenized. Check the result for the first abstract:\n",
      "This award supports the design and implementation of a software framework to simulate the movement of water at various scales. Understanding the movement and availability of water locally and across the country is of paramount importance to economic productivity and human health of our nation. Hydrologic scientists, are actively tackling these challenges using increasingly complex computational methods. However, modeling advances have not been easily translated to the broader community of scientists and professionals due to technical barriers to entry. This software platform draws from computer models and employs supercomputers capable of analyzing big data to provide unprecedented simulations of water movement over the continental US. Combining hydrologists and computer scientists the team behind the project envision a broad community of users who will have multiple ways to interact with the software framework. For the hydrologic scientist who is interested in generating their own scenarios the framework will facilitate direct interaction with the hydrologic models and the ability to generate simulations on the fly. Conversely, the framework will also provide a set of static output and a range of tools for a broader set of users who would like to evaluate hydrologic projections locally or extract model data for use in other analyses.<br/><br/>Continental scale simulation of water flow through rivers, streams and groundwater is an identified grand challenge in hydrology. Decades of model development, combined with advances in solver technology and software engineering have enabled large-scale, high-resolution simulations of the hydrologic cycle over the US, yet substantial technical and communication challenges remain. With support from this award, an interdisciplinary team of computer scientists and hydrologists is developing a framework to leverage advances in computer science transforming simulation and data-driven discovery in the Hydrologic Sciences and beyond. This project is advancing the science behind these national scale hydrologic models, accelerating their capabilities and building novel interfaces for user interaction. The framework brings computational and domain science (hydrology) communities together to move more quickly from tools (models, big data, high-performance computing) to discoveries. It facilitates decadal, national scale simulations, which are an unprecedented resource for both the hydrologic community and the much broader community of people working in water dependent systems (e.g., biological system, energy and food production). These simulations will enable the community to address scientific questions about water availability and dynamics from the watershed to the national scale. Additionally, this framework is designed to facilitate multiple modes of interaction and engage a broad spectrum of users outside the hydrologic community. We will provide easy-to-access pre-processed datasets that can be visualized and plotted using built-in tools that will require no computer science or hydrology background. Recognizing that most hydrology training does not generally include High Performance Computing and data analytics or software engineering, this framework will provide a gateway for computationally enhanced hydrologic discovery. Additionally, for educators we will develop packaged videos and educational modules on different hydrologic systems geared towards K-12 classrooms.<br/><br/>This award by the NSF Office of Advanced Cyberinfrastructure is jointly supported by the Cross-Cutting Activities Program of the Division of Earth Sciences within the NSF Directorate for Geosciences.<br/><br/>This award reflects NSF's statutory mission and has been deemed worthy of support through evaluation using the Foundation's intellectual merit and broader impacts review criteria.\n",
      "['award', 'support', 'design', 'implementation', 'software', 'framework', 'simulate', 'movement', 'water', 'various', 'scale', 'understanding', 'movement', 'availability', 'water', 'locally', 'across', 'country', 'paramount', 'importance', 'economic', 'productivity', 'human', 'health', 'nation', 'hydrologic', 'scientist', 'actively', 'tackling', 'challenge', 'using', 'increasingly', 'complex', 'computational', 'method', 'however', 'modeling', 'advance', 'easily', 'translated', 'broader', 'community', 'scientist', 'professional', 'due', 'technical', 'barrier', 'entry', 'software', 'platform', 'draw', 'computer', 'model', 'employ', 'supercomputer', 'capable', 'analyzing', 'big', 'data', 'provide', 'unprecedented', 'simulation', 'water', 'movement', 'continental', 'u', 'combining', 'hydrologist', 'computer', 'scientist', 'team', 'behind', 'project', 'envision', 'broad', 'community', 'user', 'multiple', 'way', 'interact', 'software', 'framework', 'hydrologic', 'scientist', 'interested', 'generating', 'scenario', 'framework', 'facilitate', 'direct', 'interaction', 'hydrologic', 'model', 'ability', 'generate', 'simulation', 'fly', 'conversely', 'framework', 'also', 'provide', 'set', 'static', 'output', 'range', 'tool', 'broader', 'set', 'user', 'would', 'like', 'evaluate', 'hydrologic', 'projection', 'locally', 'extract', 'model', 'data', 'use', 'continental', 'scale', 'simulation', 'water', 'flow', 'river', 'stream', 'groundwater', 'identified', 'grand', 'challenge', 'hydrology', 'decade', 'model', 'development', 'combined', 'advance', 'solver', 'technology', 'software', 'engineering', 'enabled', 'simulation', 'hydrologic', 'cycle', 'u', 'yet', 'substantial', 'technical', 'communication', 'challenge', 'remain', 'support', 'award', 'interdisciplinary', 'team', 'computer', 'scientist', 'hydrologist', 'developing', 'framework', 'leverage', 'advance', 'computer', 'science', 'transforming', 'simulation', 'discovery', 'hydrologic', 'science', 'beyond', 'project', 'advancing', 'science', 'behind', 'national', 'scale', 'hydrologic', 'model', 'accelerating', 'capability', 'building', 'novel', 'interface', 'user', 'interaction', 'framework', 'brings', 'computational', 'domain', 'science', 'hydrology', 'community', 'together', 'move', 'quickly', 'tool', 'model', 'big', 'data', 'computing', 'discovery', 'facilitates', 'decadal', 'national', 'scale', 'simulation', 'unprecedented', 'resource', 'hydrologic', 'community', 'much', 'broader', 'community', 'people', 'working', 'water', 'dependent', 'system', 'biological', 'system', 'energy', 'food', 'production', 'simulation', 'enable', 'community', 'address', 'scientific', 'question', 'water', 'availability', 'dynamic', 'watershed', 'national', 'scale', 'additionally', 'framework', 'designed', 'facilitate', 'multiple', 'mode', 'interaction', 'engage', 'broad', 'spectrum', 'user', 'outside', 'hydrologic', 'community', 'provide', 'datasets', 'visualized', 'plotted', 'using', 'tool', 'require', 'computer', 'science', 'hydrology', 'background', 'recognizing', 'hydrology', 'training', 'doe', 'generally', 'include', 'high', 'performance', 'computing', 'data', 'analytics', 'software', 'engineering', 'framework', 'provide', 'gateway', 'computationally', 'enhanced', 'hydrologic', 'discovery', 'additionally', 'educator', 'develop', 'packaged', 'video', 'educational', 'module', 'different', 'hydrologic', 'system', 'geared', 'towards', 'award', 'nsf', 'office', 'advanced', 'cyberinfrastructure', 'jointly', 'supported', 'activity', 'program', 'division', 'earth', 'science', 'within', 'nsf', 'directorate', 'award', 'reflects', 'nsf', 'statutory', 'mission', 'ha', 'deemed', 'worthy', 'support', 'evaluation', 'using', 'foundation', 'intellectual', 'merit', 'broader', 'impact', 'review', 'criterion']\n"
     ]
    }
   ],
   "source": [
    "wnl = WordNetLemmatizer()\n",
    "\n",
    "stopwords_en = stopwords.words('english')\n",
    "\n",
    "# Initialize ouput corpus\n",
    "nsf_corpus_clean = []\n",
    "\n",
    "ndocs = len(nsf_corpus_raw)\n",
    "for n, text in enumerate(nsf_corpus_raw):\n",
    "    if not n%100:\n",
    "        print('\\rTokenizing document', n, 'out of', ndocs, end='', flush=True)\n",
    "\n",
    "    # Tokenize each text entry. \n",
    "    tokens = word_tokenize(text)\n",
    "    tokens_filtered = [el.lower() for el in tokens if el.isalnum()]\n",
    "    tokens_lemmatized = [wnl.lemmatize(el) for el in tokens_filtered]\n",
    "    tokens_clean = [token for token in tokens_lemmatized if token not in stopwords_en]    \n",
    "    \n",
    "    # Add the new token list as a new element to corpus_clean (that will be a list of lists)\n",
    "    nsf_corpus_clean.append(tokens_clean)\n",
    "\n",
    "print('\\n\\n The corpus has been tokenized. Check the result for the first abstract:')\n",
    "print(nsf_corpus_raw[0])\n",
    "print(nsf_corpus_clean[0])"
   ]
  },
  {
   "cell_type": "code",
   "execution_count": 111,
   "metadata": {},
   "outputs": [],
   "source": [
    "df = pd.DataFrame(data={\"tokens\": nsf_corpus_clean})\n",
    "df.to_csv(\"data/nsf/nsf_tokens.csv\", sep=';',index=False)"
   ]
  },
  {
   "cell_type": "markdown",
   "metadata": {},
   "source": [
    "### 4.2 Vectorization"
   ]
  },
  {
   "cell_type": "code",
   "execution_count": null,
   "metadata": {},
   "outputs": [],
   "source": []
  },
  {
   "cell_type": "markdown",
   "metadata": {},
   "source": [
    "## 5. Topic modelling"
   ]
  },
  {
   "cell_type": "code",
   "execution_count": null,
   "metadata": {},
   "outputs": [],
   "source": []
  }
 ],
 "metadata": {
  "kernelspec": {
   "display_name": "Python 3",
   "language": "python",
   "name": "python3"
  },
  "language_info": {
   "codemirror_mode": {
    "name": "ipython",
    "version": 3
   },
   "file_extension": ".py",
   "mimetype": "text/x-python",
   "name": "python",
   "nbconvert_exporter": "python",
   "pygments_lexer": "ipython3",
   "version": "3.8.6"
  }
 },
 "nbformat": 4,
 "nbformat_minor": 4
}
