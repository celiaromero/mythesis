{
 "cells": [
  {
   "cell_type": "markdown",
   "metadata": {},
   "source": [
    "# NSF"
   ]
  },
  {
   "cell_type": "code",
   "execution_count": 3,
   "metadata": {},
   "outputs": [],
   "source": [
    "# Libraries\n",
    "\n",
    "from os.path import join\n",
    "from os import listdir\n",
    "from bs4 import BeautifulSoup\n",
    "import pandas as pd"
   ]
  },
  {
   "cell_type": "markdown",
   "metadata": {},
   "source": [
    "## 1. Parsing XML"
   ]
  },
  {
   "cell_type": "code",
   "execution_count": null,
   "metadata": {},
   "outputs": [],
   "source": [
    "# Option 1: List of file paths for all years\n",
    "\n",
    "years = list(range(2002,2021))\n",
    "filelist = []\n",
    "\n",
    "for year in years:\n",
    "    folder_path = join('data/nsf/'+str(year))\n",
    "    filelist.extend([join(folder_path,f) for f in listdir(folder_path)])"
   ]
  },
  {
   "cell_type": "code",
   "execution_count": null,
   "metadata": {},
   "outputs": [],
   "source": [
    "# Option 2: Filelist year by year\n",
    "\n",
    "year = 2020\n",
    "folder_path = join('data/nsf/'+str(year))\n",
    "filelist = []\n",
    "filelist.extend([join(folder_path,f) for f in listdir(folder_path)])"
   ]
  },
  {
   "cell_type": "code",
   "execution_count": null,
   "metadata": {},
   "outputs": [],
   "source": [
    "# Option 3: File by file (testing purposes)\n",
    "\n",
    "xmlfile = open('data/nsf/2002/0200014.xml','r')\n",
    "xml_soup = BeautifulSoup(xmlfile,'xml')\n",
    "for element in xml_soup.find_all():\n",
    "    for column in list(xml_df):\n",
    "        if(element.name==column):\n",
    "            dict_aux[column] = element.string\n",
    "\n",
    "xml_df = xml_df.append(dict_aux,ignore_index=True)"
   ]
  },
  {
   "cell_type": "code",
   "execution_count": 101,
   "metadata": {},
   "outputs": [],
   "source": [
    "# XML Schema\n",
    "\n",
    "xsd_file = open('data/nsf/Award.xsd','r')\n",
    "xsd_soup = BeautifulSoup(xsd_file)\n",
    "\n",
    "tags = []\n",
    "for element in xsd_soup.find_all('xsd:element'):\n",
    "    tags.append(element['name'])"
   ]
  },
  {
   "cell_type": "code",
   "execution_count": 102,
   "metadata": {},
   "outputs": [],
   "source": [
    "# Build dataframe (Options 1 & 2)\n",
    "\n",
    "xml_df = pd.DataFrame(columns=tags)\n",
    "dict_aux = {}\n",
    "\n",
    "for file in filelist:\n",
    "    xmlfile = open(file,'r')\n",
    "    xml_soup = BeautifulSoup(xmlfile,'xml')\n",
    "    for element in xml_soup.find_all(): \n",
    "        for column in list(xml_df):\n",
    "            if(element.name==column):\n",
    "                dict_aux[column] = element.string\n",
    "    xml_df = xml_df.append(dict_aux,ignore_index=True)\n",
    "    dict_aux = {}"
   ]
  },
  {
   "cell_type": "code",
   "execution_count": 104,
   "metadata": {},
   "outputs": [],
   "source": [
    "# Write dataframe to csv file (Option 2: year by year)\n",
    "\n",
    "xml_df.to_csv('data/nsf/nsf_2020.csv')"
   ]
  },
  {
   "cell_type": "code",
   "execution_count": 53,
   "metadata": {},
   "outputs": [],
   "source": [
    "# Load csvs into joint dataframe (Option 2: year by year)\n",
    "\n",
    "columns_dates = ['AwardEffectiveDate','AwardExpirationDate']\n",
    "nsf_list = []\n",
    "\n",
    "for file in listdir(\"data/nsf\"):\n",
    "    if file.endswith(\".csv\"):\n",
    "        df = pd.read_csv(join('data/nsf',file),parse_dates=columns_dates)\n",
    "        nsf_list.append(df)\n",
    "\n",
    "nsf = pd.concat(nsf_list)\n",
    "nsf.to_csv('data/nsf/nsf.csv')"
   ]
  },
  {
   "cell_type": "markdown",
   "metadata": {},
   "source": [
    "## 2. Preprocessing"
   ]
  },
  {
   "cell_type": "code",
   "execution_count": 79,
   "metadata": {},
   "outputs": [
    {
     "name": "stderr",
     "output_type": "stream",
     "text": [
      "/Library/Frameworks/Python.framework/Versions/3.8/lib/python3.8/site-packages/IPython/core/interactiveshell.py:3146: DtypeWarning: Columns (28,32,33,35,44,47) have mixed types.Specify dtype option on import or set low_memory=False.\n",
      "  has_raised = await self.run_ast_nodes(code_ast.body, cell_name,\n"
     ]
    }
   ],
   "source": [
    "# Load csv (Option 1: all in one)\n",
    "\n",
    "columns_dates = ['AwardEffectiveDate','AwardExpirationDate','MinAmdLetterDate','MaxAmdLetterDate']\n",
    "nsf = pd.read_csv('data/nsf/nsf.csv',parse_dates=columns_dates)"
   ]
  },
  {
   "cell_type": "code",
   "execution_count": 94,
   "metadata": {},
   "outputs": [],
   "source": [
    "# Find columns with most of their values nulls\n",
    "\n",
    "cols_to_drop = []\n",
    "\n",
    "for col in nsf.columns:\n",
    "    if(nsf[col].isnull().sum() > 12000):\n",
    "        cols_to_drop.append(col)"
   ]
  },
  {
   "cell_type": "code",
   "execution_count": 108,
   "metadata": {},
   "outputs": [],
   "source": [
    "# Drop useless columns\n",
    "\n",
    "cols_to_drop.extend(['Unnamed: 0','Unnamed: 0.1','Code','LongName.1','Code.1','Name.1','Code.2','Code.3',\n",
    "                     'AwardEffectiveDate','AwardExpirationDate'])\n",
    "\n",
    "nsf = nsf.drop(columns=cols_to_drop)"
   ]
  },
  {
   "cell_type": "markdown",
   "metadata": {},
   "source": [
    "## 3. Descriptive analysis"
   ]
  },
  {
   "cell_type": "markdown",
   "metadata": {},
   "source": [
    "### Award Amount"
   ]
  },
  {
   "cell_type": "code",
   "execution_count": 112,
   "metadata": {},
   "outputs": [
    {
     "data": {
      "text/plain": [
       "509660.8300755549"
      ]
     },
     "execution_count": 112,
     "metadata": {},
     "output_type": "execute_result"
    }
   ],
   "source": [
    "nsf['AwardAmount'].mean()"
   ]
  },
  {
   "cell_type": "code",
   "execution_count": 126,
   "metadata": {},
   "outputs": [
    {
     "data": {
      "text/plain": [
       "<AxesSubplot:>"
      ]
     },
     "execution_count": 126,
     "metadata": {},
     "output_type": "execute_result"
    },
    {
     "data": {
      "image/png": "[encoded data removed]",
      "text/plain": [
       "<Figure size 432x288 with 1 Axes>"
      ]
     },
     "metadata": {
      "needs_background": "light"
     },
     "output_type": "display_data"
    }
   ],
   "source": [
    "nsf['AwardAmount'].hist()"
   ]
  },
  {
   "cell_type": "markdown",
   "metadata": {},
   "source": [
    "### Value"
   ]
  },
  {
   "cell_type": "code",
   "execution_count": 119,
   "metadata": {},
   "outputs": [
    {
     "data": {
      "text/plain": [
       "Standard Grant                       478017\n",
       "Continuing Grant                     108762\n",
       "Continuing grant                      72387\n",
       "Fellowship Award                      10611\n",
       "Fellowship                             8865\n",
       "Cooperative Agreement                  5247\n",
       "Contract Interagency Agreement         2232\n",
       "Interagency Agreement                  1596\n",
       "Contract                                333\n",
       "BOA/Task Order                          294\n",
       "Fixed Price Award                       102\n",
       "Fixed Amount Award                       51\n",
       "Intergovernmental Personnel Award         6\n",
       "Personnel Agreement                       3\n",
       "Name: Value, dtype: int64"
      ]
     },
     "execution_count": 119,
     "metadata": {},
     "output_type": "execute_result"
    }
   ],
   "source": [
    "nsf['Value'].value_counts()"
   ]
  },
  {
   "cell_type": "markdown",
   "metadata": {},
   "source": [
    "### Country Name"
   ]
  },
  {
   "cell_type": "code",
   "execution_count": 122,
   "metadata": {},
   "outputs": [
    {
     "data": {
      "text/plain": [
       "United States      676689\n",
       "Bermuda               336\n",
       "Canada                192\n",
       "United Kingdom        162\n",
       "France                 99\n",
       "Germany                81\n",
       "Uruguay                60\n",
       "Sweden                 45\n",
       "Switzerland            30\n",
       "Australia              24\n",
       "New Zealand            12\n",
       "Austria                12\n",
       "Denmark                12\n",
       "Netherlands             9\n",
       "Russia                  9\n",
       "Italy                   9\n",
       "Paraguay                6\n",
       "Spain                   6\n",
       "Finland                 6\n",
       "Japan                   6\n",
       "Puerto Rico             6\n",
       "Israel                  3\n",
       "Turkey                  3\n",
       "Belgium                 3\n",
       "Cameroon                3\n",
       "Ukraine                 3\n",
       "Antarctica              3\n",
       "Taiwan                  3\n",
       "Germany, Berlin         3\n",
       "Mexico                  3\n",
       "Colombia                3\n",
       "Sri Lanka               3\n",
       "India                   3\n",
       "Venezuela               3\n",
       "Australasia             3\n",
       "South Africa            3\n",
       "Estonia                 3\n",
       "Name: CountryName, dtype: int64"
      ]
     },
     "execution_count": 122,
     "metadata": {},
     "output_type": "execute_result"
    }
   ],
   "source": [
    "nsf['CountryName'].value_counts()"
   ]
  },
  {
   "cell_type": "markdown",
   "metadata": {},
   "source": [
    "### State Name"
   ]
  },
  {
   "cell_type": "code",
   "execution_count": 123,
   "metadata": {},
   "outputs": [
    {
     "data": {
      "text/plain": [
       "California              85851\n",
       "New York                52173\n",
       "Massachusetts           45240\n",
       "Texas                   36471\n",
       "Pennsylvania            35313\n",
       "Illinois                29883\n",
       "Michigan                22875\n",
       "North Carolina          21090\n",
       "Florida                 20571\n",
       "Virginia                19275\n",
       "Colorado                18813\n",
       "Maryland                17589\n",
       "Ohio                    17370\n",
       "Georgia                 17256\n",
       "Indiana                 16530\n",
       "New Jersey              16380\n",
       "Washington              15879\n",
       "Arizona                 15525\n",
       "Wisconsin               11946\n",
       "District of Columbia    11568\n",
       "Minnesota               10599\n",
       "Oregon                  10038\n",
       "Connecticut              9348\n",
       "Missouri                 8631\n",
       "Tennessee                8184\n",
       "Rhode Island             7632\n",
       "Iowa                     7116\n",
       "Utah                     7002\n",
       "South Carolina           6408\n",
       "Alabama                  6069\n",
       "Louisiana                6033\n",
       "New Mexico               5409\n",
       "Kansas                   4740\n",
       "Hawaii                   4356\n",
       "Oklahoma                 4158\n",
       "Kentucky                 3909\n",
       "Delaware                 3909\n",
       "New Hampshire            3906\n",
       "Alaska                   3522\n",
       "Nebraska                 3234\n",
       "Montana                  3174\n",
       "Maine                    2931\n",
       "Mississippi              2700\n",
       "Nevada                   2610\n",
       "Arkansas                 2484\n",
       "Idaho                    2271\n",
       "Wyoming                  1539\n",
       "West Virginia            1518\n",
       "Vermont                  1443\n",
       "South Dakota             1395\n",
       "North Dakota             1338\n",
       "Puerto Rico              1212\n",
       "Virgin Islands             96\n",
       "Guam                       60\n",
       "APO/FPO EUR, ME, AFR        9\n",
       "American Samoa              6\n",
       "Northern Mariana Isl        3\n",
       "Name: StateName, dtype: int64"
      ]
     },
     "execution_count": 123,
     "metadata": {},
     "output_type": "execute_result"
    }
   ],
   "source": [
    "nsf['StateName'].value_counts()"
   ]
  },
  {
   "cell_type": "code",
   "execution_count": null,
   "metadata": {},
   "outputs": [],
   "source": []
  }
 ],
 "metadata": {
  "kernelspec": {
   "display_name": "Python 3",
   "language": "python",
   "name": "python3"
  },
  "language_info": {
   "codemirror_mode": {
    "name": "ipython",
    "version": 3
   },
   "file_extension": ".py",
   "mimetype": "text/x-python",
   "name": "python",
   "nbconvert_exporter": "python",
   "pygments_lexer": "ipython3",
   "version": "3.8.6"
  }
 },
 "nbformat": 4,
 "nbformat_minor": 4
}
