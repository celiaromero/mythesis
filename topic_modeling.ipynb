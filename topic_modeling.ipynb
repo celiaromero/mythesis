{
 "cells": [
  {
   "cell_type": "markdown",
   "metadata": {},
   "source": [
    "# Topic Modelling"
   ]
  },
  {
   "cell_type": "markdown",
   "metadata": {},
   "source": [
    "## 1. Creating dataframe"
   ]
  },
  {
   "cell_type": "code",
   "execution_count": 22,
   "metadata": {},
   "outputs": [],
   "source": [
    "import pandas as pd"
   ]
  },
  {
   "cell_type": "code",
   "execution_count": 23,
   "metadata": {},
   "outputs": [
    {
     "name": "stdout",
     "output_type": "stream",
     "text": [
      "Cordis null abstracts:  160\n",
      "Cordis shape with null abstracts:  (68021, 2)\n",
      "Cordis shape without null abstracts:  (67861, 2)\n"
     ]
    },
    {
     "data": {
      "text/plain": [
       "0"
      ]
     },
     "execution_count": 23,
     "metadata": {},
     "output_type": "execute_result"
    }
   ],
   "source": [
    "# Read CSVs, only columns of interest\n",
    "\n",
    "## Cordis\n",
    "cordish2020 = pd.read_csv(\"data/cordis/cordis-h2020projects.csv\",sep=\";\",usecols=['id','objective'])\n",
    "cordisfp6 = pd.read_csv(\"data/cordis/cordis-fp6projects.csv\",sep=\";\",usecols=['id','objective'])\n",
    "cordisfp7 = pd.read_csv(\"data/cordis/cordis-fp7projects.csv\",sep=\";\",usecols=['id','objective'])\n",
    "cordis = cordish2020.append(cordisfp7)\n",
    "cordis = cordis.append(cordisfp6)\n",
    "\n",
    "print('Cordis null abstracts: ',cordis['objective'].isnull().sum())\n",
    "print('Cordis shape with null abstracts: ',cordis.shape)\n",
    "cordis = cordis[cordis['objective'].notna()]\n",
    "print('Cordis shape without null abstracts: ',cordis.shape)\n",
    "cordis['objective'].isnull().sum()"
   ]
  },
  {
   "cell_type": "code",
   "execution_count": 24,
   "metadata": {},
   "outputs": [
    {
     "name": "stdout",
     "output_type": "stream",
     "text": [
      "NSF null abstracts:  7857\n",
      "NSF shape with null abstracts:  (688506, 2)\n",
      "NSF shape without null abstracts:  (680649, 2)\n"
     ]
    },
    {
     "data": {
      "text/plain": [
       "0"
      ]
     },
     "execution_count": 24,
     "metadata": {},
     "output_type": "execute_result"
    }
   ],
   "source": [
    "## NSF\n",
    "nsf = pd.read_csv('data/nsf/nsf.csv',usecols=['AwardID','AbstractNarration'])\n",
    "\n",
    "print('NSF null abstracts: ',nsf['AbstractNarration'].isnull().sum())\n",
    "print('NSF shape with null abstracts: ',nsf.shape)\n",
    "nsf = nsf[nsf['AbstractNarration'].notna()]\n",
    "print('NSF shape without null abstracts: ',nsf.shape)\n",
    "nsf['AbstractNarration'].isnull().sum()"
   ]
  },
  {
   "cell_type": "code",
   "execution_count": 25,
   "metadata": {},
   "outputs": [
    {
     "data": {
      "text/html": [
       "<div>\n",
       "<style scoped>\n",
       "    .dataframe tbody tr th:only-of-type {\n",
       "        vertical-align: middle;\n",
       "    }\n",
       "\n",
       "    .dataframe tbody tr th {\n",
       "        vertical-align: top;\n",
       "    }\n",
       "\n",
       "    .dataframe thead th {\n",
       "        text-align: right;\n",
       "    }\n",
       "</style>\n",
       "<table border=\"1\" class=\"dataframe\">\n",
       "  <thead>\n",
       "    <tr style=\"text-align: right;\">\n",
       "      <th></th>\n",
       "      <th>id</th>\n",
       "      <th>abstract</th>\n",
       "    </tr>\n",
       "  </thead>\n",
       "  <tbody>\n",
       "    <tr>\n",
       "      <th>0</th>\n",
       "      <td>EU_672890</td>\n",
       "      <td>'The project targets all luxury fashion firms ...</td>\n",
       "    </tr>\n",
       "    <tr>\n",
       "      <th>1</th>\n",
       "      <td>EU_633814</td>\n",
       "      <td>EU's agricultural and forestry land provides a...</td>\n",
       "    </tr>\n",
       "    <tr>\n",
       "      <th>2</th>\n",
       "      <td>EU_785419</td>\n",
       "      <td>According to the Global Market Forecast, there...</td>\n",
       "    </tr>\n",
       "    <tr>\n",
       "      <th>3</th>\n",
       "      <td>EU_721362</td>\n",
       "      <td>In the aerospace industry very high quality st...</td>\n",
       "    </tr>\n",
       "    <tr>\n",
       "      <th>4</th>\n",
       "      <td>EU_861924</td>\n",
       "      <td>Large areas of agricultural land in W. and N. ...</td>\n",
       "    </tr>\n",
       "    <tr>\n",
       "      <th>...</th>\n",
       "      <td>...</td>\n",
       "      <td>...</td>\n",
       "    </tr>\n",
       "    <tr>\n",
       "      <th>688501</th>\n",
       "      <td>NSF_1614484.0</td>\n",
       "      <td>A few micro-seconds after the Big Bang the uni...</td>\n",
       "    </tr>\n",
       "    <tr>\n",
       "      <th>688502</th>\n",
       "      <td>NSF_1624547.0</td>\n",
       "      <td>Calcium sulfate in crystalline form (anhydrite...</td>\n",
       "    </tr>\n",
       "    <tr>\n",
       "      <th>688503</th>\n",
       "      <td>NSF_1604697.0</td>\n",
       "      <td>The Rocky Mountain-Great Plains Graduate Resea...</td>\n",
       "    </tr>\n",
       "    <tr>\n",
       "      <th>688504</th>\n",
       "      <td>NSF_1653917.0</td>\n",
       "      <td>Investments made across national boundaries cr...</td>\n",
       "    </tr>\n",
       "    <tr>\n",
       "      <th>688505</th>\n",
       "      <td>NSF_1622136.0</td>\n",
       "      <td>This Small Business Innovation Research Phase ...</td>\n",
       "    </tr>\n",
       "  </tbody>\n",
       "</table>\n",
       "<p>748510 rows × 2 columns</p>\n",
       "</div>"
      ],
      "text/plain": [
       "                   id                                           abstract\n",
       "0           EU_672890  'The project targets all luxury fashion firms ...\n",
       "1           EU_633814  EU's agricultural and forestry land provides a...\n",
       "2           EU_785419  According to the Global Market Forecast, there...\n",
       "3           EU_721362  In the aerospace industry very high quality st...\n",
       "4           EU_861924  Large areas of agricultural land in W. and N. ...\n",
       "...               ...                                                ...\n",
       "688501  NSF_1614484.0  A few micro-seconds after the Big Bang the uni...\n",
       "688502  NSF_1624547.0  Calcium sulfate in crystalline form (anhydrite...\n",
       "688503  NSF_1604697.0  The Rocky Mountain-Great Plains Graduate Resea...\n",
       "688504  NSF_1653917.0  Investments made across national boundaries cr...\n",
       "688505  NSF_1622136.0  This Small Business Innovation Research Phase ...\n",
       "\n",
       "[748510 rows x 2 columns]"
      ]
     },
     "execution_count": 25,
     "metadata": {},
     "output_type": "execute_result"
    }
   ],
   "source": [
    "# Add source of documents to identifier\n",
    "cordis['id'] = 'EU_' + cordis['id'].astype(str)\n",
    "nsf['AwardID'] = 'NSF_' + nsf['AwardID'].astype(str)\n",
    "\n",
    "# Rename columns to match headers later\n",
    "cordis = cordis.rename(columns={'objective':'abstract'})\n",
    "nsf = nsf.rename(columns={'AwardID':'id','AbstractNarration':'abstract'})\n",
    "\n",
    "# Join dataframes into 1\n",
    "corpusdata = cordis.append(nsf)\n",
    "corpusdata"
   ]
  },
  {
   "cell_type": "markdown",
   "metadata": {},
   "source": [
    "## 2. Lemmatization with Spacy"
   ]
  },
  {
   "cell_type": "code",
   "execution_count": 26,
   "metadata": {},
   "outputs": [],
   "source": [
    "import spacy\n",
    "from termcolor import colored"
   ]
  },
  {
   "cell_type": "code",
   "execution_count": 27,
   "metadata": {},
   "outputs": [],
   "source": [
    "nlp = spacy.load('en_core_web_md')\n",
    "nlp.disable_pipe('parser')\n",
    "nlp.disable_pipe('ner')\n",
    "\n",
    "valid_POS = set(['VERB', 'NOUN', 'ADJ', 'PROPN'])\n",
    "specific_stw = set(['relevant', 'simple', 'base'])\n",
    "\n",
    "def text_preprocessing(rawtext):\n",
    "    lemmatized = ' '.join([token.lemma_ for token in doc \n",
    "                           if token.is_alpha\n",
    "                           and token.pos_ in valid_POS\n",
    "                           and not token.is_stop\n",
    "                           and token.lemma_ not in specific_stw])\n",
    "    return lemmatized"
   ]
  },
  {
   "cell_type": "code",
   "execution_count": 30,
   "metadata": {},
   "outputs": [
    {
     "data": {
      "text/html": [
       "<div>\n",
       "<style scoped>\n",
       "    .dataframe tbody tr th:only-of-type {\n",
       "        vertical-align: middle;\n",
       "    }\n",
       "\n",
       "    .dataframe tbody tr th {\n",
       "        vertical-align: top;\n",
       "    }\n",
       "\n",
       "    .dataframe thead th {\n",
       "        text-align: right;\n",
       "    }\n",
       "</style>\n",
       "<table border=\"1\" class=\"dataframe\">\n",
       "  <thead>\n",
       "    <tr style=\"text-align: right;\">\n",
       "      <th></th>\n",
       "      <th>id</th>\n",
       "      <th>abstract</th>\n",
       "      <th>lemmas</th>\n",
       "    </tr>\n",
       "  </thead>\n",
       "  <tbody>\n",
       "    <tr>\n",
       "      <th>0</th>\n",
       "      <td>EU_672890</td>\n",
       "      <td>'The project targets all luxury fashion firms ...</td>\n",
       "      <td>project target luxury fashion firm manufacture...</td>\n",
       "    </tr>\n",
       "    <tr>\n",
       "      <th>1</th>\n",
       "      <td>EU_633814</td>\n",
       "      <td>EU's agricultural and forestry land provides a...</td>\n",
       "      <td>EU agricultural forestry land provide wide ran...</td>\n",
       "    </tr>\n",
       "    <tr>\n",
       "      <th>2</th>\n",
       "      <td>EU_785419</td>\n",
       "      <td>According to the Global Market Forecast, there...</td>\n",
       "      <td>accord Global Market Forecast strong need ramp...</td>\n",
       "    </tr>\n",
       "    <tr>\n",
       "      <th>3</th>\n",
       "      <td>EU_721362</td>\n",
       "      <td>In the aerospace industry very high quality st...</td>\n",
       "      <td>aerospace industry high quality standard meet ...</td>\n",
       "    </tr>\n",
       "    <tr>\n",
       "      <th>4</th>\n",
       "      <td>EU_861924</td>\n",
       "      <td>Large areas of agricultural land in W. and N. ...</td>\n",
       "      <td>large area agricultural land Africa degrade wa...</td>\n",
       "    </tr>\n",
       "  </tbody>\n",
       "</table>\n",
       "</div>"
      ],
      "text/plain": [
       "          id                                           abstract  \\\n",
       "0  EU_672890  'The project targets all luxury fashion firms ...   \n",
       "1  EU_633814  EU's agricultural and forestry land provides a...   \n",
       "2  EU_785419  According to the Global Market Forecast, there...   \n",
       "3  EU_721362  In the aerospace industry very high quality st...   \n",
       "4  EU_861924  Large areas of agricultural land in W. and N. ...   \n",
       "\n",
       "                                              lemmas  \n",
       "0  project target luxury fashion firm manufacture...  \n",
       "1  EU agricultural forestry land provide wide ran...  \n",
       "2  accord Global Market Forecast strong need ramp...  \n",
       "3  aerospace industry high quality standard meet ...  \n",
       "4  large area agricultural land Africa degrade wa...  "
      ]
     },
     "execution_count": 30,
     "metadata": {},
     "output_type": "execute_result"
    }
   ],
   "source": [
    "corpusdata['lemmas'] = None\n",
    "\n",
    "for i in range(len(corpusdata)):\n",
    "    doc = nlp(corpusdata['abstract'].iloc[i])\n",
    "    corpusdata['lemmas'].iloc[i] = text_preprocessing(doc)\n",
    "\n",
    "corpusdata.head()"
   ]
  },
  {
   "cell_type": "code",
   "execution_count": 32,
   "metadata": {},
   "outputs": [],
   "source": [
    "corpusdata.to_csv('data/corpus_lemmatized.csv')"
   ]
  },
  {
   "cell_type": "code",
   "execution_count": null,
   "metadata": {},
   "outputs": [],
   "source": [
    "corpusdata = pd.read_csv('data/corpus_lemmatized.csv')"
   ]
  },
  {
   "cell_type": "code",
   "execution_count": 33,
   "metadata": {},
   "outputs": [],
   "source": [
    "import matplotlib.pyplot as plt\n",
    "import seaborn as sns"
   ]
  },
  {
   "cell_type": "code",
   "execution_count": 34,
   "metadata": {},
   "outputs": [
    {
     "data": {
      "image/png": "[encoded data removed]",
      "text/plain": [
       "<Figure size 576x288 with 1 Axes>"
      ]
     },
     "metadata": {
      "needs_background": "light"
     },
     "output_type": "display_data"
    }
   ],
   "source": [
    "def count_lemmas(x):\n",
    "    return len(x.split())\n",
    "\n",
    "corpusdata['nlemmas'] = corpusdata['lemmas'].apply(count_lemmas)\n",
    "fig, axes = plt.subplots(1, 1, figsize=(8, 4), sharex=True)\n",
    "sns.histplot(data = corpusdata, x='nlemmas')\n",
    "plt.show()"
   ]
  },
  {
   "cell_type": "code",
   "execution_count": 37,
   "metadata": {},
   "outputs": [
    {
     "name": "stdout",
     "output_type": "stream",
     "text": [
      "Number of projects after removing short abstracts: 679547\n"
     ]
    }
   ],
   "source": [
    "corpusdata = corpusdata[corpusdata['nlemmas']>=100]\n",
    "print('Number of projects after removing short abstracts:', len(corpusdata))"
   ]
  },
  {
   "cell_type": "markdown",
   "metadata": {},
   "source": [
    "## 3. Vectorization with Gensim"
   ]
  },
  {
   "cell_type": "code",
   "execution_count": 47,
   "metadata": {},
   "outputs": [
    {
     "name": "stdout",
     "output_type": "stream",
     "text": [
      "The dictionary contains 291281 terms\n",
      "First terms in the dictionary:\n",
      "0 : adult\n",
      "1 : alienation\n",
      "2 : animate\n",
      "3 : attract\n",
      "4 : audio\n",
      "5 : build\n",
      "6 : cohort\n",
      "7 : component\n",
      "8 : connect\n",
      "9 : consciousness\n"
     ]
    }
   ],
   "source": [
    "corpuslemmas = corpusdata.lemmas.tolist()\n",
    "corpuslemmas = list(set(corpuslemmas)) # project order lost at this point\n",
    "corpuslemmas = [el.split() for el in corpuslemmas]\n",
    "\n",
    "import gensim\n",
    "\n",
    "# Create dictionary of tokens\n",
    "D = gensim.corpora.Dictionary(corpuslemmas)\n",
    "n_tokens = len(D)\n",
    "\n",
    "print('The dictionary contains', n_tokens, 'terms')\n",
    "print('First terms in the dictionary:')\n",
    "for n in range(10):\n",
    "    print(str(n), ':', D[n])"
   ]
  },
  {
   "cell_type": "code",
   "execution_count": 48,
   "metadata": {},
   "outputs": [
    {
     "name": "stdout",
     "output_type": "stream",
     "text": [
      "The dictionary contains 67612 terms\n",
      "First terms in the dictionary:\n",
      "0 : adult\n",
      "1 : alienation\n",
      "2 : animate\n",
      "3 : attract\n",
      "4 : audio\n",
      "5 : build\n",
      "6 : cohort\n",
      "7 : component\n",
      "8 : connect\n",
      "9 : consciousness\n"
     ]
    }
   ],
   "source": [
    "no_below = 5 #Minimum number of documents to keep a term in the dictionary\n",
    "no_above = .4 #Maximum proportion of documents in which a term can appear to be kept in the dictionary\n",
    "\n",
    "# D.filter_extremes(no_below=no_below,no_above=no_above, keep_n=25000)\n",
    "D.filter_extremes(no_below=no_below,no_above=no_above) # keep all\n",
    "n_tokens = len(D)\n",
    "\n",
    "print('The dictionary contains', n_tokens, 'terms')\n",
    "\n",
    "print('First terms in the dictionary:')\n",
    "for n in range(10):\n",
    "    print(str(n), ':', D[n])"
   ]
  },
  {
   "cell_type": "code",
   "execution_count": 50,
   "metadata": {},
   "outputs": [],
   "source": [
    "corpusbow = [D.doc2bow(doc) for doc in corpuslemmas]"
   ]
  },
  {
   "cell_type": "markdown",
   "metadata": {},
   "source": [
    "### Initial topic model"
   ]
  },
  {
   "cell_type": "code",
   "execution_count": 59,
   "metadata": {},
   "outputs": [
    {
     "name": "stdout",
     "output_type": "stream",
     "text": [
      "zsh:1: command not found: apt-get\n",
      "java version \"15.0.2\" 2021-01-19\n",
      "Java(TM) SE Runtime Environment (build 15.0.2+7-27)\n",
      "Java HotSpot(TM) 64-Bit Server VM (build 15.0.2+7-27, mixed mode, sharing)\n"
     ]
    }
   ],
   "source": [
    "import os\n",
    "def install_java():\n",
    "    !apt-get install -y openjdk-8-jdk-headless -qq > /dev/null\n",
    "    os.environ[\"JAVA_HOME\"] = \"/usr/lib/jvm/java-8-openjdk-amd64\"\n",
    "    !java -version\n",
    "install_java()"
   ]
  },
  {
   "cell_type": "code",
   "execution_count": 60,
   "metadata": {},
   "outputs": [
    {
     "name": "stdout",
     "output_type": "stream",
     "text": [
      "zsh:1: command not found: wget\n",
      "unzip:  cannot find or open mallet-2.0.8.zip, mallet-2.0.8.zip.zip or mallet-2.0.8.zip.ZIP.\n"
     ]
    }
   ],
   "source": [
    "!wget http://mallet.cs.umass.edu/dist/mallet-2.0.8.zip\n",
    "!unzip mallet-2.0.8.zip"
   ]
  },
  {
   "cell_type": "code",
   "execution_count": 61,
   "metadata": {},
   "outputs": [],
   "source": [
    "os.environ['MALLET_HOME'] = 'mallet-2.0.8'\n",
    "mallet_path = 'mallet-2.0.8/bin/mallet'"
   ]
  },
  {
   "cell_type": "code",
   "execution_count": 62,
   "metadata": {},
   "outputs": [
    {
     "ename": "CalledProcessError",
     "evalue": "Command 'mallet-2.0.8/bin/mallet import-file --preserve-case --keep-sequence --remove-stopwords --token-regex \"\\S+\" --input /var/folders/10/3phfwz9d72540wxbxsl8ym600000gn/T/30ddd8_corpus.txt --output /var/folders/10/3phfwz9d72540wxbxsl8ym600000gn/T/30ddd8_corpus.mallet' returned non-zero exit status 127.",
     "output_type": "error",
     "traceback": [
      "\u001b[0;31m---------------------------------------------------------------------------\u001b[0m",
      "\u001b[0;31mCalledProcessError\u001b[0m                        Traceback (most recent call last)",
      "\u001b[0;32m<ipython-input-62-b62f8187faa8>\u001b[0m in \u001b[0;36m<module>\u001b[0;34m\u001b[0m\n\u001b[1;32m      1\u001b[0m \u001b[0;32mfrom\u001b[0m \u001b[0mgensim\u001b[0m\u001b[0;34m.\u001b[0m\u001b[0mmodels\u001b[0m\u001b[0;34m.\u001b[0m\u001b[0mwrappers\u001b[0m \u001b[0;32mimport\u001b[0m \u001b[0mLdaMallet\u001b[0m\u001b[0;34m\u001b[0m\u001b[0;34m\u001b[0m\u001b[0m\n\u001b[0;32m----> 2\u001b[0;31m \u001b[0mldamallet\u001b[0m \u001b[0;34m=\u001b[0m \u001b[0mLdaMallet\u001b[0m\u001b[0;34m(\u001b[0m\u001b[0mmallet_path\u001b[0m\u001b[0;34m,\u001b[0m \u001b[0mcorpus\u001b[0m\u001b[0;34m=\u001b[0m\u001b[0mcorpusbow\u001b[0m\u001b[0;34m,\u001b[0m \u001b[0mnum_topics\u001b[0m\u001b[0;34m=\u001b[0m\u001b[0;36m20\u001b[0m\u001b[0;34m,\u001b[0m \u001b[0mid2word\u001b[0m\u001b[0;34m=\u001b[0m\u001b[0mD\u001b[0m\u001b[0;34m,\u001b[0m \u001b[0malpha\u001b[0m\u001b[0;34m=\u001b[0m\u001b[0;36m5\u001b[0m\u001b[0;34m,\u001b[0m \u001b[0miterations\u001b[0m\u001b[0;34m=\u001b[0m\u001b[0;36m100\u001b[0m\u001b[0;34m)\u001b[0m\u001b[0;34m\u001b[0m\u001b[0;34m\u001b[0m\u001b[0m\n\u001b[0m",
      "\u001b[0;32m/Library/Frameworks/Python.framework/Versions/3.8/lib/python3.8/site-packages/gensim/models/wrappers/ldamallet.py\u001b[0m in \u001b[0;36m__init__\u001b[0;34m(self, mallet_path, corpus, num_topics, alpha, id2word, workers, prefix, optimize_interval, iterations, topic_threshold, random_seed)\u001b[0m\n\u001b[1;32m    129\u001b[0m         \u001b[0mself\u001b[0m\u001b[0;34m.\u001b[0m\u001b[0mrandom_seed\u001b[0m \u001b[0;34m=\u001b[0m \u001b[0mrandom_seed\u001b[0m\u001b[0;34m\u001b[0m\u001b[0;34m\u001b[0m\u001b[0m\n\u001b[1;32m    130\u001b[0m         \u001b[0;32mif\u001b[0m \u001b[0mcorpus\u001b[0m \u001b[0;32mis\u001b[0m \u001b[0;32mnot\u001b[0m \u001b[0;32mNone\u001b[0m\u001b[0;34m:\u001b[0m\u001b[0;34m\u001b[0m\u001b[0;34m\u001b[0m\u001b[0m\n\u001b[0;32m--> 131\u001b[0;31m             \u001b[0mself\u001b[0m\u001b[0;34m.\u001b[0m\u001b[0mtrain\u001b[0m\u001b[0;34m(\u001b[0m\u001b[0mcorpus\u001b[0m\u001b[0;34m)\u001b[0m\u001b[0;34m\u001b[0m\u001b[0;34m\u001b[0m\u001b[0m\n\u001b[0m\u001b[1;32m    132\u001b[0m \u001b[0;34m\u001b[0m\u001b[0m\n\u001b[1;32m    133\u001b[0m     \u001b[0;32mdef\u001b[0m \u001b[0mfinferencer\u001b[0m\u001b[0;34m(\u001b[0m\u001b[0mself\u001b[0m\u001b[0;34m)\u001b[0m\u001b[0;34m:\u001b[0m\u001b[0;34m\u001b[0m\u001b[0;34m\u001b[0m\u001b[0m\n",
      "\u001b[0;32m/Library/Frameworks/Python.framework/Versions/3.8/lib/python3.8/site-packages/gensim/models/wrappers/ldamallet.py\u001b[0m in \u001b[0;36mtrain\u001b[0;34m(self, corpus)\u001b[0m\n\u001b[1;32m    270\u001b[0m \u001b[0;34m\u001b[0m\u001b[0m\n\u001b[1;32m    271\u001b[0m         \"\"\"\n\u001b[0;32m--> 272\u001b[0;31m         \u001b[0mself\u001b[0m\u001b[0;34m.\u001b[0m\u001b[0mconvert_input\u001b[0m\u001b[0;34m(\u001b[0m\u001b[0mcorpus\u001b[0m\u001b[0;34m,\u001b[0m \u001b[0minfer\u001b[0m\u001b[0;34m=\u001b[0m\u001b[0;32mFalse\u001b[0m\u001b[0;34m)\u001b[0m\u001b[0;34m\u001b[0m\u001b[0;34m\u001b[0m\u001b[0m\n\u001b[0m\u001b[1;32m    273\u001b[0m         \u001b[0mcmd\u001b[0m \u001b[0;34m=\u001b[0m \u001b[0mself\u001b[0m\u001b[0;34m.\u001b[0m\u001b[0mmallet_path\u001b[0m \u001b[0;34m+\u001b[0m \u001b[0;34m' train-topics --input %s --num-topics %s  --alpha %s --optimize-interval %s '\u001b[0m\u001b[0;31m\\\u001b[0m\u001b[0;34m\u001b[0m\u001b[0;34m\u001b[0m\u001b[0m\n\u001b[1;32m    274\u001b[0m             \u001b[0;34m'--num-threads %s --output-state %s --output-doc-topics %s --output-topic-keys %s '\u001b[0m\u001b[0;31m\\\u001b[0m\u001b[0;34m\u001b[0m\u001b[0;34m\u001b[0m\u001b[0m\n",
      "\u001b[0;32m/Library/Frameworks/Python.framework/Versions/3.8/lib/python3.8/site-packages/gensim/models/wrappers/ldamallet.py\u001b[0m in \u001b[0;36mconvert_input\u001b[0;34m(self, corpus, infer, serialize_corpus)\u001b[0m\n\u001b[1;32m    259\u001b[0m             \u001b[0mcmd\u001b[0m \u001b[0;34m=\u001b[0m \u001b[0mcmd\u001b[0m \u001b[0;34m%\u001b[0m \u001b[0;34m(\u001b[0m\u001b[0mself\u001b[0m\u001b[0;34m.\u001b[0m\u001b[0mfcorpustxt\u001b[0m\u001b[0;34m(\u001b[0m\u001b[0;34m)\u001b[0m\u001b[0;34m,\u001b[0m \u001b[0mself\u001b[0m\u001b[0;34m.\u001b[0m\u001b[0mfcorpusmallet\u001b[0m\u001b[0;34m(\u001b[0m\u001b[0;34m)\u001b[0m\u001b[0;34m)\u001b[0m\u001b[0;34m\u001b[0m\u001b[0;34m\u001b[0m\u001b[0m\n\u001b[1;32m    260\u001b[0m         \u001b[0mlogger\u001b[0m\u001b[0;34m.\u001b[0m\u001b[0minfo\u001b[0m\u001b[0;34m(\u001b[0m\u001b[0;34m\"converting temporary corpus to MALLET format with %s\"\u001b[0m\u001b[0;34m,\u001b[0m \u001b[0mcmd\u001b[0m\u001b[0;34m)\u001b[0m\u001b[0;34m\u001b[0m\u001b[0;34m\u001b[0m\u001b[0m\n\u001b[0;32m--> 261\u001b[0;31m         \u001b[0mcheck_output\u001b[0m\u001b[0;34m(\u001b[0m\u001b[0margs\u001b[0m\u001b[0;34m=\u001b[0m\u001b[0mcmd\u001b[0m\u001b[0;34m,\u001b[0m \u001b[0mshell\u001b[0m\u001b[0;34m=\u001b[0m\u001b[0;32mTrue\u001b[0m\u001b[0;34m)\u001b[0m\u001b[0;34m\u001b[0m\u001b[0;34m\u001b[0m\u001b[0m\n\u001b[0m\u001b[1;32m    262\u001b[0m \u001b[0;34m\u001b[0m\u001b[0m\n\u001b[1;32m    263\u001b[0m     \u001b[0;32mdef\u001b[0m \u001b[0mtrain\u001b[0m\u001b[0;34m(\u001b[0m\u001b[0mself\u001b[0m\u001b[0;34m,\u001b[0m \u001b[0mcorpus\u001b[0m\u001b[0;34m)\u001b[0m\u001b[0;34m:\u001b[0m\u001b[0;34m\u001b[0m\u001b[0;34m\u001b[0m\u001b[0m\n",
      "\u001b[0;32m/Library/Frameworks/Python.framework/Versions/3.8/lib/python3.8/site-packages/gensim/utils.py\u001b[0m in \u001b[0;36mcheck_output\u001b[0;34m(stdout, *popenargs, **kwargs)\u001b[0m\n\u001b[1;32m   1930\u001b[0m             \u001b[0merror\u001b[0m \u001b[0;34m=\u001b[0m \u001b[0msubprocess\u001b[0m\u001b[0;34m.\u001b[0m\u001b[0mCalledProcessError\u001b[0m\u001b[0;34m(\u001b[0m\u001b[0mretcode\u001b[0m\u001b[0;34m,\u001b[0m \u001b[0mcmd\u001b[0m\u001b[0;34m)\u001b[0m\u001b[0;34m\u001b[0m\u001b[0;34m\u001b[0m\u001b[0m\n\u001b[1;32m   1931\u001b[0m             \u001b[0merror\u001b[0m\u001b[0;34m.\u001b[0m\u001b[0moutput\u001b[0m \u001b[0;34m=\u001b[0m \u001b[0moutput\u001b[0m\u001b[0;34m\u001b[0m\u001b[0;34m\u001b[0m\u001b[0m\n\u001b[0;32m-> 1932\u001b[0;31m             \u001b[0;32mraise\u001b[0m \u001b[0merror\u001b[0m\u001b[0;34m\u001b[0m\u001b[0;34m\u001b[0m\u001b[0m\n\u001b[0m\u001b[1;32m   1933\u001b[0m         \u001b[0;32mreturn\u001b[0m \u001b[0moutput\u001b[0m\u001b[0;34m\u001b[0m\u001b[0;34m\u001b[0m\u001b[0m\n\u001b[1;32m   1934\u001b[0m     \u001b[0;32mexcept\u001b[0m \u001b[0mKeyboardInterrupt\u001b[0m\u001b[0;34m:\u001b[0m\u001b[0;34m\u001b[0m\u001b[0;34m\u001b[0m\u001b[0m\n",
      "\u001b[0;31mCalledProcessError\u001b[0m: Command 'mallet-2.0.8/bin/mallet import-file --preserve-case --keep-sequence --remove-stopwords --token-regex \"\\S+\" --input /var/folders/10/3phfwz9d72540wxbxsl8ym600000gn/T/30ddd8_corpus.txt --output /var/folders/10/3phfwz9d72540wxbxsl8ym600000gn/T/30ddd8_corpus.mallet' returned non-zero exit status 127."
     ]
    }
   ],
   "source": [
    "from gensim.models.wrappers import LdaMallet\n",
    "ldamallet = LdaMallet(mallet_path, corpus=corpusbow, num_topics=20, id2word=D, alpha=5, iterations=100)"
   ]
  },
  {
   "cell_type": "code",
   "execution_count": null,
   "metadata": {},
   "outputs": [],
   "source": [
    "topn = 25\n",
    "\n",
    "fig, axes = plt.subplots(4, 5, figsize=(16, 20), sharex=True)\n",
    "\n",
    "for i in range(5):\n",
    "\n",
    "    # Build a dataframe with columns 'token' and 'weight' for topic i\n",
    "    df = pd.DataFrame(ldamallet.show_topic(i, topn=topn), columns=['token','weight'])\n",
    "    sns.barplot(x='weight', y='token', data=df, color='c', orient='h', ax=axes[0][i])\n",
    "    axes[0][i].set_title('Topic ' + str(i))\n",
    "    # Build a dataframe with columns 'token' and 'weight' for topic i + 5\n",
    "    df = pd.DataFrame(ldamallet.show_topic(i+5, topn=topn), columns=['token','weight'])\n",
    "    sns.barplot(x='weight', y='token', data=df, color='c', orient='h', ax=axes[1][i])\n",
    "    axes[1][i].set_title('Topic ' + str(i+5))\n",
    "    # Build a dataframe with columns 'token' and 'weight' for topic i + 10\n",
    "    df = pd.DataFrame(ldamallet.show_topic(i+10, topn=topn), columns=['token','weight'])\n",
    "    sns.barplot(x='weight', y='token', data=df, color='c', orient='h', ax=axes[2][i])\n",
    "    axes[2][i].set_title('Topic ' + str(i+10))\n",
    "    # Build a dataframe with columns 'token' and 'weight' for topic i + 15\n",
    "    df = pd.DataFrame(ldamallet.show_topic(i + 15, topn=topn), columns=['token','weight'])\n",
    "    sns.barplot(x='weight', y='token', data=df, color='c', orient='h', ax=axes[3][i])\n",
    "    axes[3][i].set_title('Topic ' + str(i + 15))\n",
    "    \n",
    "plt.show()"
   ]
  },
  {
   "cell_type": "markdown",
   "metadata": {},
   "source": [
    "### Cleaning vocabulary"
   ]
  },
  {
   "cell_type": "code",
   "execution_count": null,
   "metadata": {},
   "outputs": [],
   "source": [
    "specific_stw = []"
   ]
  },
  {
   "cell_type": "markdown",
   "metadata": {},
   "source": [
    "## 4. Topic modeling with Mallet"
   ]
  },
  {
   "cell_type": "code",
   "execution_count": null,
   "metadata": {},
   "outputs": [],
   "source": []
  }
 ],
 "metadata": {
  "kernelspec": {
   "display_name": "Python 3",
   "language": "python",
   "name": "python3"
  },
  "language_info": {
   "codemirror_mode": {
    "name": "ipython",
    "version": 3
   },
   "file_extension": ".py",
   "mimetype": "text/x-python",
   "name": "python",
   "nbconvert_exporter": "python",
   "pygments_lexer": "ipython3",
   "version": "3.8.6"
  }
 },
 "nbformat": 4,
 "nbformat_minor": 4
}
