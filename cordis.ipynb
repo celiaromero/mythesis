{
 "cells": [
  {
   "cell_type": "markdown",
   "metadata": {},
   "source": [
    "# CORDIS"
   ]
  },
  {
   "cell_type": "code",
   "execution_count": 4,
   "metadata": {},
   "outputs": [],
   "source": [
    "%matplotlib inline\n",
    "import pandas as pd\n",
    "import matplotlib.pyplot as plt\n",
    "import seaborn as sns"
   ]
  },
  {
   "cell_type": "markdown",
   "metadata": {},
   "source": [
    "## 1. Data loading and preprocessing"
   ]
  },
  {
   "cell_type": "code",
   "execution_count": 5,
   "metadata": {},
   "outputs": [],
   "source": [
    "# Load data\n",
    "\n",
    "columns_dates = ['startDate','endDate']\n",
    "\n",
    "cordish2020 = pd.read_csv(\"data/cordis/cordis-h2020projects.csv\",sep=\";\",decimal=\",\",parse_dates=columns_dates)\n",
    "cordisfp7 = pd.read_csv(\"data/cordis/cordis-fp7projects.csv\",sep=\";\",decimal=\",\",parse_dates=columns_dates)\n",
    "cordisfp6 = pd.read_csv(\"data/cordis/cordis-fp6projects.csv\",sep=\";\",decimal=\",\",parse_dates=columns_dates)\n",
    "\n",
    "# Manual preprocessing...\n",
    "\n",
    "cordisfp6 = cordisfp6.drop(columns=['totalCost'])\n",
    "cordisfp6 = cordisfp6.drop(columns=['ecMaxContribution'])\n",
    "totalCostFP6 = pd.read_csv(\"data/cordis/totalCostFP6.csv\",sep=\";\",decimal=\".\")\n",
    "cordisfp6['totalCost'] = totalCostFP6\n",
    "ecMaxContributionFP6 = pd.read_csv(\"data/cordis/ecMaxContributionFP6.csv\",sep=\";\",decimal=\".\")\n",
    "cordisfp6['ecMaxContribution'] = ecMaxContributionFP6"
   ]
  },
  {
   "cell_type": "code",
   "execution_count": 6,
   "metadata": {},
   "outputs": [
    {
     "name": "stdout",
     "output_type": "stream",
     "text": [
      "H2020 (2014-2020):  (32161, 21)\n",
      "FP7 (2007-2013):  (25778, 21)\n",
      "FP6 (2002-2006):  (10082, 21)\n"
     ]
    }
   ],
   "source": [
    "# Shapes\n",
    "print(\"H2020 (2014-2020): \",cordish2020.shape)\n",
    "print(\"FP7 (2007-2013): \",cordisfp7.shape)\n",
    "print(\"FP6 (2002-2006): \",cordisfp6.shape)"
   ]
  },
  {
   "cell_type": "code",
   "execution_count": 7,
   "metadata": {},
   "outputs": [
    {
     "name": "stdout",
     "output_type": "stream",
     "text": [
      "(32161, 21)\n",
      "(25778, 21)\n",
      "(10082, 21)\n"
     ]
    }
   ],
   "source": [
    "# Check duplicates\n",
    "print(cordish2020.drop_duplicates().shape)\n",
    "print(cordisfp7.drop_duplicates().shape)\n",
    "print(cordisfp6.drop_duplicates().shape)"
   ]
  },
  {
   "cell_type": "code",
   "execution_count": 8,
   "metadata": {},
   "outputs": [
    {
     "name": "stdout",
     "output_type": "stream",
     "text": [
      "CORDIS original dataframe shape:  (68021, 21)\n"
     ]
    },
    {
     "data": {
      "text/html": [
       "<div>\n",
       "<style scoped>\n",
       "    .dataframe tbody tr th:only-of-type {\n",
       "        vertical-align: middle;\n",
       "    }\n",
       "\n",
       "    .dataframe tbody tr th {\n",
       "        vertical-align: top;\n",
       "    }\n",
       "\n",
       "    .dataframe thead th {\n",
       "        text-align: right;\n",
       "    }\n",
       "</style>\n",
       "<table border=\"1\" class=\"dataframe\">\n",
       "  <thead>\n",
       "    <tr style=\"text-align: right;\">\n",
       "      <th></th>\n",
       "      <th>rcn</th>\n",
       "      <th>id</th>\n",
       "      <th>acronym</th>\n",
       "      <th>status</th>\n",
       "      <th>programme</th>\n",
       "      <th>topics</th>\n",
       "      <th>frameworkProgramme</th>\n",
       "      <th>title</th>\n",
       "      <th>startDate</th>\n",
       "      <th>endDate</th>\n",
       "      <th>...</th>\n",
       "      <th>objective</th>\n",
       "      <th>totalCost</th>\n",
       "      <th>ecMaxContribution</th>\n",
       "      <th>call</th>\n",
       "      <th>fundingScheme</th>\n",
       "      <th>coordinator</th>\n",
       "      <th>coordinatorCountry</th>\n",
       "      <th>participants</th>\n",
       "      <th>participantCountries</th>\n",
       "      <th>subjects</th>\n",
       "    </tr>\n",
       "  </thead>\n",
       "  <tbody>\n",
       "    <tr>\n",
       "      <th>0</th>\n",
       "      <td>197163</td>\n",
       "      <td>672890</td>\n",
       "      <td>TailorFit</td>\n",
       "      <td>CLOSED</td>\n",
       "      <td>H2020-EU.2.3.1.;H2020-EU.2.1.2.</td>\n",
       "      <td>NMP-25-2014-1</td>\n",
       "      <td>H2020</td>\n",
       "      <td>TailorFit; The Integrated “made to measure” wo...</td>\n",
       "      <td>2015-06-01</td>\n",
       "      <td>2015-11-30</td>\n",
       "      <td>...</td>\n",
       "      <td>'The project targets all luxury fashion firms ...</td>\n",
       "      <td>71429.00</td>\n",
       "      <td>50000.00</td>\n",
       "      <td>H2020-SMEINST-1-2014</td>\n",
       "      <td>SME-1</td>\n",
       "      <td>CREA SOLUTION SRL</td>\n",
       "      <td>IT</td>\n",
       "      <td>NaN</td>\n",
       "      <td>NaN</td>\n",
       "      <td>NaN</td>\n",
       "    </tr>\n",
       "    <tr>\n",
       "      <th>1</th>\n",
       "      <td>193257</td>\n",
       "      <td>633814</td>\n",
       "      <td>PEGASUS</td>\n",
       "      <td>CLOSED</td>\n",
       "      <td>H2020-EU.3.2.</td>\n",
       "      <td>ISIB-01-2014</td>\n",
       "      <td>H2020</td>\n",
       "      <td>Public Ecosystem Goods And Services from land ...</td>\n",
       "      <td>2015-03-01</td>\n",
       "      <td>2018-02-28</td>\n",
       "      <td>...</td>\n",
       "      <td>EU's agricultural and forestry land provides a...</td>\n",
       "      <td>3007800.00</td>\n",
       "      <td>2977525.00</td>\n",
       "      <td>H2020-ISIB-2014-2</td>\n",
       "      <td>RIA</td>\n",
       "      <td>INSTITUTE FOR EUROPEAN ENVIRONMENTAL POLICY, L...</td>\n",
       "      <td>UK</td>\n",
       "      <td>MITTETULUNDUSUHING OKOLOOGILISTE TEHNOLOOGIATE...</td>\n",
       "      <td>EE;FR;NL;AT;PT;UK;CZ;IT;DE;SI;BE</td>\n",
       "      <td>NaN</td>\n",
       "    </tr>\n",
       "    <tr>\n",
       "      <th>2</th>\n",
       "      <td>213807</td>\n",
       "      <td>785419</td>\n",
       "      <td>LABOR</td>\n",
       "      <td>SIGNED</td>\n",
       "      <td>H2020-EU.3.4.5.4.</td>\n",
       "      <td>JTI-CS2-2017-CFP06-AIR-02-49</td>\n",
       "      <td>H2020</td>\n",
       "      <td>Lean robotized AssemBly and cOntrol of composi...</td>\n",
       "      <td>2018-03-01</td>\n",
       "      <td>2021-02-28</td>\n",
       "      <td>...</td>\n",
       "      <td>According to the Global Market Forecast, there...</td>\n",
       "      <td>2509375.00</td>\n",
       "      <td>1995062.50</td>\n",
       "      <td>H2020-CS2-CFP06-2017-01</td>\n",
       "      <td>CS2-IA</td>\n",
       "      <td>AEA s.r.l.</td>\n",
       "      <td>IT</td>\n",
       "      <td>UNIVERSITA DEGLI STUDI DI SALERNO;UNIVERSITA D...</td>\n",
       "      <td>IT</td>\n",
       "      <td>NaN</td>\n",
       "    </tr>\n",
       "    <tr>\n",
       "      <th>3</th>\n",
       "      <td>205543</td>\n",
       "      <td>721362</td>\n",
       "      <td>ZAero</td>\n",
       "      <td>CLOSED</td>\n",
       "      <td>H2020-EU.2.1.5.1.</td>\n",
       "      <td>FOF-03-2016</td>\n",
       "      <td>H2020</td>\n",
       "      <td>Zero-defect manufacturing of composite parts i...</td>\n",
       "      <td>2016-10-01</td>\n",
       "      <td>2019-09-30</td>\n",
       "      <td>...</td>\n",
       "      <td>In the aerospace industry very high quality st...</td>\n",
       "      <td>4124143.75</td>\n",
       "      <td>3548206.01</td>\n",
       "      <td>H2020-FOF-2016</td>\n",
       "      <td>IA</td>\n",
       "      <td>PROFACTOR GMBH</td>\n",
       "      <td>AT</td>\n",
       "      <td>M TORRES DISEÑOS INDUSTRIALES SA;FUNDACION PAR...</td>\n",
       "      <td>ES;FR;DE</td>\n",
       "      <td>NaN</td>\n",
       "    </tr>\n",
       "    <tr>\n",
       "      <th>4</th>\n",
       "      <td>229365</td>\n",
       "      <td>861924</td>\n",
       "      <td>SustInAfrica</td>\n",
       "      <td>SIGNED</td>\n",
       "      <td>H2020-EU.3.2.1.1.</td>\n",
       "      <td>SFS-35-2019-2020</td>\n",
       "      <td>H2020</td>\n",
       "      <td>Sustainable intensification of food production...</td>\n",
       "      <td>2020-09-01</td>\n",
       "      <td>2025-08-31</td>\n",
       "      <td>...</td>\n",
       "      <td>Large areas of agricultural land in W. and N. ...</td>\n",
       "      <td>6997318.74</td>\n",
       "      <td>6997318.74</td>\n",
       "      <td>H2020-SFS-2019-2</td>\n",
       "      <td>RIA</td>\n",
       "      <td>LUONNONVARAKESKUS</td>\n",
       "      <td>FI</td>\n",
       "      <td>GORTA;FCIENCIAS.ID - ASSOCIACAO PARA A INVESTI...</td>\n",
       "      <td>IE;PT;GH;BF;TN;NE;EG;AT;IT;DE</td>\n",
       "      <td>NaN</td>\n",
       "    </tr>\n",
       "  </tbody>\n",
       "</table>\n",
       "<p>5 rows × 21 columns</p>\n",
       "</div>"
      ],
      "text/plain": [
       "      rcn      id       acronym  status                        programme  \\\n",
       "0  197163  672890     TailorFit  CLOSED  H2020-EU.2.3.1.;H2020-EU.2.1.2.   \n",
       "1  193257  633814       PEGASUS  CLOSED                    H2020-EU.3.2.   \n",
       "2  213807  785419         LABOR  SIGNED                H2020-EU.3.4.5.4.   \n",
       "3  205543  721362         ZAero  CLOSED                H2020-EU.2.1.5.1.   \n",
       "4  229365  861924  SustInAfrica  SIGNED                H2020-EU.3.2.1.1.   \n",
       "\n",
       "                         topics frameworkProgramme  \\\n",
       "0                 NMP-25-2014-1              H2020   \n",
       "1                  ISIB-01-2014              H2020   \n",
       "2  JTI-CS2-2017-CFP06-AIR-02-49              H2020   \n",
       "3                   FOF-03-2016              H2020   \n",
       "4              SFS-35-2019-2020              H2020   \n",
       "\n",
       "                                               title  startDate    endDate  \\\n",
       "0  TailorFit; The Integrated “made to measure” wo... 2015-06-01 2015-11-30   \n",
       "1  Public Ecosystem Goods And Services from land ... 2015-03-01 2018-02-28   \n",
       "2  Lean robotized AssemBly and cOntrol of composi... 2018-03-01 2021-02-28   \n",
       "3  Zero-defect manufacturing of composite parts i... 2016-10-01 2019-09-30   \n",
       "4  Sustainable intensification of food production... 2020-09-01 2025-08-31   \n",
       "\n",
       "   ...                                          objective   totalCost  \\\n",
       "0  ...  'The project targets all luxury fashion firms ...    71429.00   \n",
       "1  ...  EU's agricultural and forestry land provides a...  3007800.00   \n",
       "2  ...  According to the Global Market Forecast, there...  2509375.00   \n",
       "3  ...  In the aerospace industry very high quality st...  4124143.75   \n",
       "4  ...  Large areas of agricultural land in W. and N. ...  6997318.74   \n",
       "\n",
       "   ecMaxContribution                     call fundingScheme  \\\n",
       "0           50000.00     H2020-SMEINST-1-2014         SME-1   \n",
       "1         2977525.00        H2020-ISIB-2014-2           RIA   \n",
       "2         1995062.50  H2020-CS2-CFP06-2017-01        CS2-IA   \n",
       "3         3548206.01           H2020-FOF-2016            IA   \n",
       "4         6997318.74         H2020-SFS-2019-2           RIA   \n",
       "\n",
       "                                         coordinator coordinatorCountry  \\\n",
       "0                                  CREA SOLUTION SRL                 IT   \n",
       "1  INSTITUTE FOR EUROPEAN ENVIRONMENTAL POLICY, L...                 UK   \n",
       "2                                         AEA s.r.l.                 IT   \n",
       "3                                     PROFACTOR GMBH                 AT   \n",
       "4                                  LUONNONVARAKESKUS                 FI   \n",
       "\n",
       "                                        participants  \\\n",
       "0                                                NaN   \n",
       "1  MITTETULUNDUSUHING OKOLOOGILISTE TEHNOLOOGIATE...   \n",
       "2  UNIVERSITA DEGLI STUDI DI SALERNO;UNIVERSITA D...   \n",
       "3  M TORRES DISEÑOS INDUSTRIALES SA;FUNDACION PAR...   \n",
       "4  GORTA;FCIENCIAS.ID - ASSOCIACAO PARA A INVESTI...   \n",
       "\n",
       "               participantCountries subjects  \n",
       "0                               NaN      NaN  \n",
       "1  EE;FR;NL;AT;PT;UK;CZ;IT;DE;SI;BE      NaN  \n",
       "2                                IT      NaN  \n",
       "3                          ES;FR;DE      NaN  \n",
       "4     IE;PT;GH;BF;TN;NE;EG;AT;IT;DE      NaN  \n",
       "\n",
       "[5 rows x 21 columns]"
      ]
     },
     "execution_count": 8,
     "metadata": {},
     "output_type": "execute_result"
    }
   ],
   "source": [
    "# Append data\n",
    "cordis = cordish2020.append(cordisfp7)\n",
    "cordis = cordis.append(cordisfp6)\n",
    "print('CORDIS original dataframe shape: ',cordis.shape)\n",
    "cordis.head()"
   ]
  },
  {
   "cell_type": "code",
   "execution_count": 9,
   "metadata": {},
   "outputs": [
    {
     "name": "stdout",
     "output_type": "stream",
     "text": [
      "CORDIS original dataframe column names:  ['rcn', 'id', 'acronym', 'status', 'programme', 'topics', 'frameworkProgramme', 'title', 'startDate', 'endDate', 'projectUrl', 'objective', 'totalCost', 'ecMaxContribution', 'call', 'fundingScheme', 'coordinator', 'coordinatorCountry', 'participants', 'participantCountries', 'subjects']\n"
     ]
    }
   ],
   "source": [
    "print('CORDIS original dataframe column names: ',list(cordis.columns))"
   ]
  },
  {
   "cell_type": "code",
   "execution_count": 10,
   "metadata": {},
   "outputs": [],
   "source": [
    "# Compute duration in days\n",
    "# cordis['duration_days'] = (cordis['endDate'] - cordis['startDate']).dt.days\n",
    "\n",
    "# Extract start and end years and store in new column of dataframe\n",
    "cordis['startYear'] = pd.DatetimeIndex(cordis['startDate']).year\n",
    "cordis['endYear'] = pd.DatetimeIndex(cordis['endDate']).year\n",
    "cordis = cordis.fillna({'startYear':0,'endYear':0})\n",
    "cordis = cordis.astype({\"startYear\":'int', \"endYear\":'int'}) \n",
    "\n",
    "# Remove start and end years equal to 0\n",
    "cordis = cordis.drop(cordis[(cordis.startYear < 0) | (cordis.endYear < 0)].index)\n",
    "\n",
    "# Remove columns in yyyy-mm-dd date format\n",
    "cordis = cordis.drop(columns=['startDate','endDate'])"
   ]
  },
  {
   "cell_type": "code",
   "execution_count": 11,
   "metadata": {},
   "outputs": [
    {
     "name": "stdout",
     "output_type": "stream",
     "text": [
      "Number of projects in non-European countries:  318\n",
      "Number of projects in European countries:  67703\n"
     ]
    }
   ],
   "source": [
    "# Discard non-European countries\n",
    "europe_countries = ['IT', 'UK', 'AT', 'FI', 'EL', 'DE', 'SE', 'NL', 'IE', 'ES', 'CH',\n",
    "                    'NO', 'FR', 'DK', 'EE', 'RS', 'PT', 'IL', 'CY', 'SI', 'PL', 'SK',\n",
    "                    'LV', 'LU', 'BE', 'TR', 'RO', 'LT', 'BG', 'IS', 'HU', 'UA', 'MT',\n",
    "                    'HR', 'ME', 'CZ', 'GE', 'BA', 'FO', 'MD', 'MK', 'AM', 'AL', 'MC', \n",
    "                    'RU', 'BY', 'AZ', 'LI']\n",
    "\n",
    "print('Number of projects in non-European countries: ',cordis[~cordis['coordinatorCountry'].isin(europe_countries)].shape[0])\n",
    "print('Number of projects in European countries: ',cordis[cordis['coordinatorCountry'].isin(europe_countries)].shape[0])\n",
    "\n",
    "cordis = cordis[cordis['coordinatorCountry'].isin(europe_countries)]"
   ]
  },
  {
   "cell_type": "code",
   "execution_count": 12,
   "metadata": {},
   "outputs": [
    {
     "data": {
      "text/plain": [
       "rcn                       int64\n",
       "id                       object\n",
       "acronym                  object\n",
       "status                   object\n",
       "programme                object\n",
       "topics                   object\n",
       "frameworkProgramme       object\n",
       "title                    object\n",
       "projectUrl               object\n",
       "objective                object\n",
       "totalCost               float64\n",
       "ecMaxContribution       float64\n",
       "call                     object\n",
       "fundingScheme            object\n",
       "coordinator              object\n",
       "coordinatorCountry       object\n",
       "participants             object\n",
       "participantCountries     object\n",
       "subjects                float64\n",
       "startYear                 int64\n",
       "endYear                   int64\n",
       "dtype: object"
      ]
     },
     "execution_count": 12,
     "metadata": {},
     "output_type": "execute_result"
    }
   ],
   "source": [
    "cordis.dtypes"
   ]
  },
  {
   "cell_type": "code",
   "execution_count": 13,
   "metadata": {},
   "outputs": [
    {
     "data": {
      "text/plain": [
       "(67703, 21)"
      ]
     },
     "execution_count": 13,
     "metadata": {},
     "output_type": "execute_result"
    }
   ],
   "source": [
    "cordis.shape"
   ]
  },
  {
   "cell_type": "code",
   "execution_count": null,
   "metadata": {},
   "outputs": [],
   "source": [
    "cordis.to_csv(\"data/cordis/cordis.csv\")"
   ]
  },
  {
   "cell_type": "code",
   "execution_count": null,
   "metadata": {},
   "outputs": [],
   "source": [
    "cordis = pd.read_csv(\"data/cordis/cordis.csv\")"
   ]
  },
  {
   "cell_type": "markdown",
   "metadata": {},
   "source": [
    "## 2. Descriptive analysis"
   ]
  },
  {
   "cell_type": "markdown",
   "metadata": {},
   "source": [
    "### Start year"
   ]
  },
  {
   "cell_type": "code",
   "execution_count": 14,
   "metadata": {},
   "outputs": [
    {
     "name": "stdout",
     "output_type": "stream",
     "text": [
      "2002       NaN\n",
      "2003     216.0\n",
      "2004    2439.0\n",
      "2005    2751.0\n",
      "2006    3012.0\n",
      "2007    1516.0\n",
      "2008    2879.0\n",
      "2009    2895.0\n",
      "2010    3584.0\n",
      "2011    3942.0\n",
      "2012    4306.0\n",
      "2013    4539.0\n",
      "2014    3327.0\n",
      "2015    5024.0\n",
      "2016    4945.0\n",
      "2017    4972.0\n",
      "2018    5059.0\n",
      "2019    5546.0\n",
      "2020    4479.0\n",
      "Name: startYear, dtype: float64\n"
     ]
    },
    {
     "data": {
      "text/plain": [
       "<AxesSubplot:title={'center':'Number of projects per year'}>"
      ]
     },
     "execution_count": 14,
     "metadata": {},
     "output_type": "execute_result"
    },
    {
     "data": {
      "image/png": "[encoded data removed]",
      "text/plain": [
       "<Figure size 432x288 with 1 Axes>"
      ]
     },
     "metadata": {
      "needs_background": "light"
     },
     "output_type": "display_data"
    }
   ],
   "source": [
    "print(cordis['startYear'].value_counts().reindex(range(2002,2021)))\n",
    "cordis['startYear'].value_counts().reindex(range(2002,2021)).plot(kind='bar',title='Number of projects per year',color='gray')"
   ]
  },
  {
   "cell_type": "code",
   "execution_count": 15,
   "metadata": {},
   "outputs": [
    {
     "data": {
      "text/plain": [
       "3223.9523809523807"
      ]
     },
     "execution_count": 15,
     "metadata": {},
     "output_type": "execute_result"
    }
   ],
   "source": [
    "cordis['startYear'].value_counts().mean()"
   ]
  },
  {
   "cell_type": "code",
   "execution_count": 16,
   "metadata": {},
   "outputs": [
    {
     "name": "stdout",
     "output_type": "stream",
     "text": [
      "H2020    32139\n",
      "FP7      25618\n",
      "FP6       9946\n",
      "Name: frameworkProgramme, dtype: int64\n"
     ]
    },
    {
     "data": {
      "text/plain": [
       "<AxesSubplot:title={'center':'Number of projects per FP'}>"
      ]
     },
     "execution_count": 16,
     "metadata": {},
     "output_type": "execute_result"
    },
    {
     "data": {
      "image/png": "[encoded data removed]",
      "text/plain": [
       "<Figure size 432x288 with 1 Axes>"
      ]
     },
     "metadata": {
      "needs_background": "light"
     },
     "output_type": "display_data"
    }
   ],
   "source": [
    "print(cordis['frameworkProgramme'].value_counts())\n",
    "cordis['frameworkProgramme'].value_counts().reindex(['FP6','FP7','H2020']).plot(kind='bar',title='Number of projects per FP',color='gray')"
   ]
  },
  {
   "cell_type": "markdown",
   "metadata": {},
   "source": [
    "### EC Max contribution"
   ]
  },
  {
   "cell_type": "code",
   "execution_count": 17,
   "metadata": {},
   "outputs": [
    {
     "name": "stdout",
     "output_type": "stream",
     "text": [
      "Mean contribution per project:  1856392.7889873683\n",
      "Mean contribution per year:  5948412893.855257\n"
     ]
    }
   ],
   "source": [
    "print('Mean contribution per project: ',cordis['ecMaxContribution'].mean())\n",
    "print('Mean contribution per year: ',cordis.groupby('startYear')['ecMaxContribution'].sum().mean())"
   ]
  },
  {
   "cell_type": "code",
   "execution_count": 18,
   "metadata": {},
   "outputs": [
    {
     "name": "stdout",
     "output_type": "stream",
     "text": [
      "Total contribution per year:\n",
      "startYear\n",
      "2002             NaN\n",
      "2003    4.967262e+08\n",
      "2004    5.285175e+09\n",
      "2005    4.255719e+09\n",
      "2006    6.091726e+09\n",
      "2007    2.098851e+09\n",
      "2008    5.566903e+09\n",
      "2009    4.908517e+09\n",
      "2010    6.127859e+09\n",
      "2011    6.820999e+09\n",
      "2012    7.628495e+09\n",
      "2013    8.813757e+09\n",
      "2014    6.154620e+09\n",
      "2015    9.236820e+09\n",
      "2016    8.821270e+09\n",
      "2017    8.664734e+09\n",
      "2018    8.435562e+09\n",
      "2019    1.051616e+10\n",
      "2020    1.094690e+10\n",
      "Name: ecMaxContribution, dtype: float64\n"
     ]
    },
    {
     "data": {
      "text/plain": [
       "<AxesSubplot:title={'center':'Total contributions (yearly)'}, xlabel='startYear'>"
      ]
     },
     "execution_count": 18,
     "metadata": {},
     "output_type": "execute_result"
    },
    {
     "data": {
      "image/png": "[encoded data removed]",
      "text/plain": [
       "<Figure size 432x288 with 1 Axes>"
      ]
     },
     "metadata": {
      "needs_background": "light"
     },
     "output_type": "display_data"
    }
   ],
   "source": [
    "# Total contribution per year\n",
    "print('Total contribution per year:')\n",
    "print(cordis.groupby('startYear')['ecMaxContribution'].sum().reindex(range(2002,2021)))\n",
    "cordis.groupby('startYear')['ecMaxContribution'].sum().reindex(range(2002,2021)).plot(kind='bar',title='Total contributions (yearly)',color='gray')"
   ]
  },
  {
   "cell_type": "code",
   "execution_count": 19,
   "metadata": {},
   "outputs": [
    {
     "name": "stdout",
     "output_type": "stream",
     "text": [
      "Total contribution per FP:\n",
      "frameworkProgramme\n",
      "FP6      1.780911e+10\n",
      "FP7      4.539674e+10\n",
      "H2020    6.171083e+10\n",
      "Name: ecMaxContribution, dtype: float64\n"
     ]
    },
    {
     "data": {
      "text/plain": [
       "<AxesSubplot:title={'center':'Total contributions per FP'}, xlabel='frameworkProgramme'>"
      ]
     },
     "execution_count": 19,
     "metadata": {},
     "output_type": "execute_result"
    },
    {
     "data": {
      "image/png": "[encoded data removed]",
      "text/plain": [
       "<Figure size 432x288 with 1 Axes>"
      ]
     },
     "metadata": {
      "needs_background": "light"
     },
     "output_type": "display_data"
    }
   ],
   "source": [
    "# Total contribution per FP\n",
    "print('Total contribution per FP:')\n",
    "print(cordis.groupby('frameworkProgramme')['ecMaxContribution'].sum())\n",
    "cordis.groupby('frameworkProgramme')['ecMaxContribution'].sum().plot(kind='bar',title='Total contributions per FP',color='gray')"
   ]
  },
  {
   "cell_type": "markdown",
   "metadata": {},
   "source": [
    "### Coordinator country"
   ]
  },
  {
   "cell_type": "code",
   "execution_count": 20,
   "metadata": {},
   "outputs": [
    {
     "name": "stdout",
     "output_type": "stream",
     "text": [
      "Number of coordinator countries:  48\n"
     ]
    },
    {
     "data": {
      "text/plain": [
       "UK    11918\n",
       "DE     8096\n",
       "FR     7049\n",
       "ES     7018\n",
       "IT     5739\n",
       "NL     4522\n",
       "BE     2660\n",
       "CH     2563\n",
       "SE     2002\n",
       "AT     1833\n",
       "DK     1798\n",
       "IL     1740\n",
       "EL     1634\n",
       "IE     1377\n",
       "FI     1169\n",
       "NO     1112\n",
       "PT     1071\n",
       "PL      736\n",
       "TR      548\n",
       "HU      522\n",
       "CZ      351\n",
       "SI      264\n",
       "EE      250\n",
       "CY      240\n",
       "RO      200\n",
       "IS      184\n",
       "BG      152\n",
       "SK      140\n",
       "LT      123\n",
       "LU      122\n",
       "RS      107\n",
       "HR      100\n",
       "LV       87\n",
       "MT       64\n",
       "RU       48\n",
       "UA       45\n",
       "MK       22\n",
       "BA       19\n",
       "AM       16\n",
       "ME       15\n",
       "MD       15\n",
       "FO       11\n",
       "GE        7\n",
       "AZ        4\n",
       "AL        4\n",
       "BY        3\n",
       "LI        2\n",
       "MC        1\n",
       "Name: coordinatorCountry, dtype: int64"
      ]
     },
     "execution_count": 20,
     "metadata": {},
     "output_type": "execute_result"
    }
   ],
   "source": [
    "print('Number of coordinator countries: ',len(cordis['coordinatorCountry'].value_counts()))\n",
    "cordis['coordinatorCountry'].value_counts()"
   ]
  },
  {
   "cell_type": "markdown",
   "metadata": {},
   "source": [
    "### Objective"
   ]
  },
  {
   "cell_type": "code",
   "execution_count": 21,
   "metadata": {},
   "outputs": [
    {
     "data": {
      "text/plain": [
       "157"
      ]
     },
     "execution_count": 21,
     "metadata": {},
     "output_type": "execute_result"
    }
   ],
   "source": [
    "cordis.objective.isnull().sum()"
   ]
  },
  {
   "cell_type": "code",
   "execution_count": 22,
   "metadata": {},
   "outputs": [
    {
     "name": "stdout",
     "output_type": "stream",
     "text": [
      "Average abstract narration length:  1800.691510846919\n",
      "startYear\n",
      "2002            NaN\n",
      "2003    1787.862245\n",
      "2004    1798.506926\n",
      "2005    1781.679039\n",
      "2006    1767.250083\n",
      "2007    1722.994059\n",
      "2008    1771.235846\n",
      "2009    1767.434888\n",
      "2010    1782.089032\n",
      "2011    1801.572190\n",
      "2012    1816.084301\n",
      "2013    1826.290152\n",
      "2014    1801.705741\n",
      "2015    1814.270303\n",
      "2016    1830.978766\n",
      "2017    1828.216412\n",
      "2018    1838.167227\n",
      "2019    1832.725748\n",
      "2020    1843.384238\n",
      "Name: objective, dtype: float64\n"
     ]
    },
    {
     "data": {
      "text/plain": [
       "<AxesSubplot:title={'center':'Average objective length (yearly)'}, xlabel='startYear'>"
      ]
     },
     "execution_count": 22,
     "metadata": {},
     "output_type": "execute_result"
    },
    {
     "data": {
      "image/png": "[encoded data removed]",
      "text/plain": [
       "<Figure size 432x288 with 1 Axes>"
      ]
     },
     "metadata": {
      "needs_background": "light"
     },
     "output_type": "display_data"
    }
   ],
   "source": [
    "print('Average abstract narration length: ',cordis.groupby('startYear').objective.apply(lambda x: x.str.len().mean()).reindex(range(2002,2021)).mean())\n",
    "print(cordis.groupby('startYear').objective.apply(lambda x: x.str.len().mean()).reindex(range(2002,2021)))\n",
    "cordis.groupby('startYear').objective.apply(lambda x: x.str.len().mean()).reindex(range(2002,2021)).plot(kind='bar',title='Average objective length (yearly)',color='gray')"
   ]
  },
  {
   "cell_type": "code",
   "execution_count": null,
   "metadata": {},
   "outputs": [],
   "source": []
  }
 ],
 "metadata": {
  "kernelspec": {
   "display_name": "Python 3",
   "language": "python",
   "name": "python3"
  },
  "language_info": {
   "codemirror_mode": {
    "name": "ipython",
    "version": 3
   },
   "file_extension": ".py",
   "mimetype": "text/x-python",
   "name": "python",
   "nbconvert_exporter": "python",
   "pygments_lexer": "ipython3",
   "version": "3.8.6"
  }
 },
 "nbformat": 4,
 "nbformat_minor": 4
}
