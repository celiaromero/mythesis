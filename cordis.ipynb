{
 "cells": [
  {
   "cell_type": "code",
   "execution_count": 1,
   "metadata": {},
   "outputs": [],
   "source": [
    "%matplotlib inline\n",
    "import pandas as pd\n",
    "import matplotlib.pyplot as plt\n",
    "import seaborn as sns"
   ]
  },
  {
   "cell_type": "markdown",
   "metadata": {},
   "source": [
    "# CORDIS"
   ]
  },
  {
   "cell_type": "markdown",
   "metadata": {},
   "source": [
    "## 1. Data loading and preprocessing"
   ]
  },
  {
   "cell_type": "code",
   "execution_count": 2,
   "metadata": {},
   "outputs": [],
   "source": [
    "# Load data\n",
    "\n",
    "columns_dates = ['startDate','endDate']\n",
    "\n",
    "cordish2020 = pd.read_csv(\"data/cordis/cordis-h2020projects.csv\",sep=\";\",decimal=\",\",parse_dates=columns_dates)\n",
    "cordisfp7 = pd.read_csv(\"data/cordis/cordis-fp7projects.csv\",sep=\";\",decimal=\",\",parse_dates=columns_dates)\n",
    "cordisfp6 = pd.read_csv(\"data/cordis/cordis-fp6projects.csv\",sep=\";\",decimal=\",\",parse_dates=columns_dates)\n",
    "\n",
    "# Manual preprocessing...\n",
    "\n",
    "cordisfp6 = cordisfp6.drop(columns=['totalCost'])\n",
    "cordisfp6 = cordisfp6.drop(columns=['ecMaxContribution'])\n",
    "totalCostFP6 = pd.read_csv(\"data/cordis/totalCostFP6.csv\",sep=\";\",decimal=\".\")\n",
    "cordisfp6['totalCost'] = totalCostFP6\n",
    "ecMaxContributionFP6 = pd.read_csv(\"data/cordis/ecMaxContributionFP6.csv\",sep=\";\",decimal=\".\")\n",
    "cordisfp6['ecMaxContribution'] = ecMaxContributionFP6"
   ]
  },
  {
   "cell_type": "code",
   "execution_count": 3,
   "metadata": {},
   "outputs": [
    {
     "name": "stdout",
     "output_type": "stream",
     "text": [
      "H2020 (2014-2020):  (32161, 21)\n",
      "FP7 (2007-2013):  (25778, 21)\n",
      "FP6 (2002-2006):  (10082, 21)\n"
     ]
    }
   ],
   "source": [
    "# Shapes\n",
    "print(\"H2020 (2014-2020): \",cordish2020.shape)\n",
    "print(\"FP7 (2007-2013): \",cordisfp7.shape)\n",
    "print(\"FP6 (2002-2006): \",cordisfp6.shape)"
   ]
  },
  {
   "cell_type": "code",
   "execution_count": 4,
   "metadata": {},
   "outputs": [
    {
     "data": {
      "text/plain": [
       "(68021, 21)"
      ]
     },
     "execution_count": 4,
     "metadata": {},
     "output_type": "execute_result"
    }
   ],
   "source": [
    "# Append data\n",
    "cordis = cordish2020.append(cordisfp7)\n",
    "cordis = cordis.append(cordisfp6)\n",
    "cordis.shape"
   ]
  },
  {
   "cell_type": "code",
   "execution_count": 5,
   "metadata": {},
   "outputs": [],
   "source": [
    "# Compute duration in days\n",
    "cordis['duration_days'] = (cordis['endDate'] - cordis['startDate']).dt.days\n",
    "\n",
    "# Extract start and end years and store in new column of dataframe\n",
    "cordis['startYear'] = pd.DatetimeIndex(cordis['startDate']).year\n",
    "cordis['endYear'] = pd.DatetimeIndex(cordis['endDate']).year\n",
    "cordis = cordis.fillna({'startYear':0,'endYear':0})\n",
    "cordis = cordis.astype({\"startYear\":'int', \"endYear\":'int'}) "
   ]
  },
  {
   "cell_type": "code",
   "execution_count": 6,
   "metadata": {},
   "outputs": [],
   "source": [
    "# Discard non-european countries\n",
    "europe_countries = ['IT', 'UK', 'AT', 'FI', 'EL', 'DE', 'SE', 'NL', 'IE', 'ES', 'CH',\n",
    "                    'NO', 'FR', 'DK', 'EE', 'RS', 'PT', 'IL', 'CY', 'SI', 'PL', 'SK',\n",
    "                    'LV', 'LU', 'BE', 'TR', 'RO', 'LT', 'BG', 'IS', 'HU', 'UA', 'MT',\n",
    "                    'HR', 'ME', 'CZ', 'GE', 'BA', 'FO', 'MD', 'MK', 'AM', 'AL', 'MC', \n",
    "                    'RU', 'BY', 'AZ', 'LI']\n",
    "cordis = cordis[cordis['coordinatorCountry'].isin(europe_countries)]"
   ]
  },
  {
   "cell_type": "code",
   "execution_count": 7,
   "metadata": {},
   "outputs": [],
   "source": [
    "# Remove start and end years equal to 0\n",
    "cordis = cordis.drop(cordis[(cordis.startYear < 0) | (cordis.endYear < 0)].index)"
   ]
  },
  {
   "cell_type": "code",
   "execution_count": 8,
   "metadata": {},
   "outputs": [],
   "source": [
    "# Remove useless columns\n",
    "cordis = cordis.drop(columns=['startDate','endDate','subjects'])"
   ]
  },
  {
   "cell_type": "code",
   "execution_count": 9,
   "metadata": {},
   "outputs": [
    {
     "data": {
      "text/plain": [
       "(67703, 21)"
      ]
     },
     "execution_count": 9,
     "metadata": {},
     "output_type": "execute_result"
    }
   ],
   "source": [
    "cordis.shape"
   ]
  },
  {
   "cell_type": "code",
   "execution_count": 10,
   "metadata": {},
   "outputs": [
    {
     "data": {
      "text/plain": [
       "rcn                       int64\n",
       "id                       object\n",
       "acronym                  object\n",
       "status                   object\n",
       "programme                object\n",
       "topics                   object\n",
       "frameworkProgramme       object\n",
       "title                    object\n",
       "projectUrl               object\n",
       "objective                object\n",
       "totalCost               float64\n",
       "ecMaxContribution       float64\n",
       "call                     object\n",
       "fundingScheme            object\n",
       "coordinator              object\n",
       "coordinatorCountry       object\n",
       "participants             object\n",
       "participantCountries     object\n",
       "duration_days           float64\n",
       "startYear                 int64\n",
       "endYear                   int64\n",
       "dtype: object"
      ]
     },
     "execution_count": 10,
     "metadata": {},
     "output_type": "execute_result"
    }
   ],
   "source": [
    "cordis.dtypes"
   ]
  },
  {
   "cell_type": "code",
   "execution_count": 11,
   "metadata": {},
   "outputs": [
    {
     "data": {
      "text/html": [
       "<div>\n",
       "<style scoped>\n",
       "    .dataframe tbody tr th:only-of-type {\n",
       "        vertical-align: middle;\n",
       "    }\n",
       "\n",
       "    .dataframe tbody tr th {\n",
       "        vertical-align: top;\n",
       "    }\n",
       "\n",
       "    .dataframe thead th {\n",
       "        text-align: right;\n",
       "    }\n",
       "</style>\n",
       "<table border=\"1\" class=\"dataframe\">\n",
       "  <thead>\n",
       "    <tr style=\"text-align: right;\">\n",
       "      <th></th>\n",
       "      <th>rcn</th>\n",
       "      <th>id</th>\n",
       "      <th>acronym</th>\n",
       "      <th>status</th>\n",
       "      <th>programme</th>\n",
       "      <th>topics</th>\n",
       "      <th>frameworkProgramme</th>\n",
       "      <th>title</th>\n",
       "      <th>projectUrl</th>\n",
       "      <th>objective</th>\n",
       "      <th>...</th>\n",
       "      <th>ecMaxContribution</th>\n",
       "      <th>call</th>\n",
       "      <th>fundingScheme</th>\n",
       "      <th>coordinator</th>\n",
       "      <th>coordinatorCountry</th>\n",
       "      <th>participants</th>\n",
       "      <th>participantCountries</th>\n",
       "      <th>duration_days</th>\n",
       "      <th>startYear</th>\n",
       "      <th>endYear</th>\n",
       "    </tr>\n",
       "  </thead>\n",
       "  <tbody>\n",
       "    <tr>\n",
       "      <th>0</th>\n",
       "      <td>197163</td>\n",
       "      <td>672890</td>\n",
       "      <td>TailorFit</td>\n",
       "      <td>CLOSED</td>\n",
       "      <td>H2020-EU.2.3.1.;H2020-EU.2.1.2.</td>\n",
       "      <td>NMP-25-2014-1</td>\n",
       "      <td>H2020</td>\n",
       "      <td>TailorFit; The Integrated “made to measure” wo...</td>\n",
       "      <td>http://www.creasolution.com</td>\n",
       "      <td>'The project targets all luxury fashion firms ...</td>\n",
       "      <td>...</td>\n",
       "      <td>50000.00</td>\n",
       "      <td>H2020-SMEINST-1-2014</td>\n",
       "      <td>SME-1</td>\n",
       "      <td>CREA SOLUTION SRL</td>\n",
       "      <td>IT</td>\n",
       "      <td>NaN</td>\n",
       "      <td>NaN</td>\n",
       "      <td>182.0</td>\n",
       "      <td>2015</td>\n",
       "      <td>2015</td>\n",
       "    </tr>\n",
       "    <tr>\n",
       "      <th>1</th>\n",
       "      <td>193257</td>\n",
       "      <td>633814</td>\n",
       "      <td>PEGASUS</td>\n",
       "      <td>CLOSED</td>\n",
       "      <td>H2020-EU.3.2.</td>\n",
       "      <td>ISIB-01-2014</td>\n",
       "      <td>H2020</td>\n",
       "      <td>Public Ecosystem Goods And Services from land ...</td>\n",
       "      <td>http://pegasus.ieep.eu/</td>\n",
       "      <td>EU's agricultural and forestry land provides a...</td>\n",
       "      <td>...</td>\n",
       "      <td>2977525.00</td>\n",
       "      <td>H2020-ISIB-2014-2</td>\n",
       "      <td>RIA</td>\n",
       "      <td>INSTITUTE FOR EUROPEAN ENVIRONMENTAL POLICY, L...</td>\n",
       "      <td>UK</td>\n",
       "      <td>MITTETULUNDUSUHING OKOLOOGILISTE TEHNOLOOGIATE...</td>\n",
       "      <td>EE;FR;NL;AT;PT;UK;CZ;IT;DE;SI;BE</td>\n",
       "      <td>1095.0</td>\n",
       "      <td>2015</td>\n",
       "      <td>2018</td>\n",
       "    </tr>\n",
       "    <tr>\n",
       "      <th>2</th>\n",
       "      <td>213807</td>\n",
       "      <td>785419</td>\n",
       "      <td>LABOR</td>\n",
       "      <td>SIGNED</td>\n",
       "      <td>H2020-EU.3.4.5.4.</td>\n",
       "      <td>JTI-CS2-2017-CFP06-AIR-02-49</td>\n",
       "      <td>H2020</td>\n",
       "      <td>Lean robotized AssemBly and cOntrol of composi...</td>\n",
       "      <td>https://www.labor-project.eu/</td>\n",
       "      <td>According to the Global Market Forecast, there...</td>\n",
       "      <td>...</td>\n",
       "      <td>1995062.50</td>\n",
       "      <td>H2020-CS2-CFP06-2017-01</td>\n",
       "      <td>CS2-IA</td>\n",
       "      <td>AEA s.r.l.</td>\n",
       "      <td>IT</td>\n",
       "      <td>UNIVERSITA DEGLI STUDI DI SALERNO;UNIVERSITA D...</td>\n",
       "      <td>IT</td>\n",
       "      <td>1095.0</td>\n",
       "      <td>2018</td>\n",
       "      <td>2021</td>\n",
       "    </tr>\n",
       "    <tr>\n",
       "      <th>3</th>\n",
       "      <td>205543</td>\n",
       "      <td>721362</td>\n",
       "      <td>ZAero</td>\n",
       "      <td>CLOSED</td>\n",
       "      <td>H2020-EU.2.1.5.1.</td>\n",
       "      <td>FOF-03-2016</td>\n",
       "      <td>H2020</td>\n",
       "      <td>Zero-defect manufacturing of composite parts i...</td>\n",
       "      <td>http://www.zaero-project.eu</td>\n",
       "      <td>In the aerospace industry very high quality st...</td>\n",
       "      <td>...</td>\n",
       "      <td>3548206.01</td>\n",
       "      <td>H2020-FOF-2016</td>\n",
       "      <td>IA</td>\n",
       "      <td>PROFACTOR GMBH</td>\n",
       "      <td>AT</td>\n",
       "      <td>M TORRES DISEÑOS INDUSTRIALES SA;FUNDACION PAR...</td>\n",
       "      <td>ES;FR;DE</td>\n",
       "      <td>1094.0</td>\n",
       "      <td>2016</td>\n",
       "      <td>2019</td>\n",
       "    </tr>\n",
       "    <tr>\n",
       "      <th>4</th>\n",
       "      <td>229365</td>\n",
       "      <td>861924</td>\n",
       "      <td>SustInAfrica</td>\n",
       "      <td>SIGNED</td>\n",
       "      <td>H2020-EU.3.2.1.1.</td>\n",
       "      <td>SFS-35-2019-2020</td>\n",
       "      <td>H2020</td>\n",
       "      <td>Sustainable intensification of food production...</td>\n",
       "      <td>NaN</td>\n",
       "      <td>Large areas of agricultural land in W. and N. ...</td>\n",
       "      <td>...</td>\n",
       "      <td>6997318.74</td>\n",
       "      <td>H2020-SFS-2019-2</td>\n",
       "      <td>RIA</td>\n",
       "      <td>LUONNONVARAKESKUS</td>\n",
       "      <td>FI</td>\n",
       "      <td>GORTA;FCIENCIAS.ID - ASSOCIACAO PARA A INVESTI...</td>\n",
       "      <td>IE;PT;GH;BF;TN;NE;EG;AT;IT;DE</td>\n",
       "      <td>1825.0</td>\n",
       "      <td>2020</td>\n",
       "      <td>2025</td>\n",
       "    </tr>\n",
       "  </tbody>\n",
       "</table>\n",
       "<p>5 rows × 21 columns</p>\n",
       "</div>"
      ],
      "text/plain": [
       "      rcn      id       acronym  status                        programme  \\\n",
       "0  197163  672890     TailorFit  CLOSED  H2020-EU.2.3.1.;H2020-EU.2.1.2.   \n",
       "1  193257  633814       PEGASUS  CLOSED                    H2020-EU.3.2.   \n",
       "2  213807  785419         LABOR  SIGNED                H2020-EU.3.4.5.4.   \n",
       "3  205543  721362         ZAero  CLOSED                H2020-EU.2.1.5.1.   \n",
       "4  229365  861924  SustInAfrica  SIGNED                H2020-EU.3.2.1.1.   \n",
       "\n",
       "                         topics frameworkProgramme  \\\n",
       "0                 NMP-25-2014-1              H2020   \n",
       "1                  ISIB-01-2014              H2020   \n",
       "2  JTI-CS2-2017-CFP06-AIR-02-49              H2020   \n",
       "3                   FOF-03-2016              H2020   \n",
       "4              SFS-35-2019-2020              H2020   \n",
       "\n",
       "                                               title  \\\n",
       "0  TailorFit; The Integrated “made to measure” wo...   \n",
       "1  Public Ecosystem Goods And Services from land ...   \n",
       "2  Lean robotized AssemBly and cOntrol of composi...   \n",
       "3  Zero-defect manufacturing of composite parts i...   \n",
       "4  Sustainable intensification of food production...   \n",
       "\n",
       "                      projectUrl  \\\n",
       "0    http://www.creasolution.com   \n",
       "1        http://pegasus.ieep.eu/   \n",
       "2  https://www.labor-project.eu/   \n",
       "3    http://www.zaero-project.eu   \n",
       "4                            NaN   \n",
       "\n",
       "                                           objective  ...  ecMaxContribution  \\\n",
       "0  'The project targets all luxury fashion firms ...  ...           50000.00   \n",
       "1  EU's agricultural and forestry land provides a...  ...         2977525.00   \n",
       "2  According to the Global Market Forecast, there...  ...         1995062.50   \n",
       "3  In the aerospace industry very high quality st...  ...         3548206.01   \n",
       "4  Large areas of agricultural land in W. and N. ...  ...         6997318.74   \n",
       "\n",
       "                      call fundingScheme  \\\n",
       "0     H2020-SMEINST-1-2014         SME-1   \n",
       "1        H2020-ISIB-2014-2           RIA   \n",
       "2  H2020-CS2-CFP06-2017-01        CS2-IA   \n",
       "3           H2020-FOF-2016            IA   \n",
       "4         H2020-SFS-2019-2           RIA   \n",
       "\n",
       "                                         coordinator coordinatorCountry  \\\n",
       "0                                  CREA SOLUTION SRL                 IT   \n",
       "1  INSTITUTE FOR EUROPEAN ENVIRONMENTAL POLICY, L...                 UK   \n",
       "2                                         AEA s.r.l.                 IT   \n",
       "3                                     PROFACTOR GMBH                 AT   \n",
       "4                                  LUONNONVARAKESKUS                 FI   \n",
       "\n",
       "                                        participants  \\\n",
       "0                                                NaN   \n",
       "1  MITTETULUNDUSUHING OKOLOOGILISTE TEHNOLOOGIATE...   \n",
       "2  UNIVERSITA DEGLI STUDI DI SALERNO;UNIVERSITA D...   \n",
       "3  M TORRES DISEÑOS INDUSTRIALES SA;FUNDACION PAR...   \n",
       "4  GORTA;FCIENCIAS.ID - ASSOCIACAO PARA A INVESTI...   \n",
       "\n",
       "               participantCountries duration_days  startYear  endYear  \n",
       "0                               NaN         182.0       2015     2015  \n",
       "1  EE;FR;NL;AT;PT;UK;CZ;IT;DE;SI;BE        1095.0       2015     2018  \n",
       "2                                IT        1095.0       2018     2021  \n",
       "3                          ES;FR;DE        1094.0       2016     2019  \n",
       "4     IE;PT;GH;BF;TN;NE;EG;AT;IT;DE        1825.0       2020     2025  \n",
       "\n",
       "[5 rows x 21 columns]"
      ]
     },
     "execution_count": 11,
     "metadata": {},
     "output_type": "execute_result"
    }
   ],
   "source": [
    "cordis.head(5)"
   ]
  },
  {
   "cell_type": "markdown",
   "metadata": {},
   "source": [
    "## 2. Descriptive analysis"
   ]
  },
  {
   "cell_type": "markdown",
   "metadata": {},
   "source": [
    "### Status\n",
    "- ONG: ongoing\n",
    "- SIGNED: firmado\n",
    "- CLOSED: cerrado (¿sin terminar?)\n",
    "- CLO: ¿=closed?\n",
    "- TERMINATED: terminado (¿finalizado?)\n",
    "- CAN: ¿?"
   ]
  },
  {
   "cell_type": "code",
   "execution_count": 12,
   "metadata": {},
   "outputs": [
    {
     "data": {
      "text/plain": [
       "ONG           23354\n",
       "SIGNED        20542\n",
       "CLOSED        11173\n",
       "CLO            2135\n",
       "TERMINATED      424\n",
       "CAN             171\n",
       "Name: status, dtype: int64"
      ]
     },
     "execution_count": 12,
     "metadata": {},
     "output_type": "execute_result"
    }
   ],
   "source": [
    "cordis['status'].value_counts()"
   ]
  },
  {
   "cell_type": "code",
   "execution_count": 13,
   "metadata": {},
   "outputs": [
    {
     "data": {
      "image/png": "[encoded data removed]",
      "text/plain": [
       "<Figure size 432x288 with 1 Axes>"
      ]
     },
     "metadata": {
      "needs_background": "light"
     },
     "output_type": "display_data"
    }
   ],
   "source": [
    "cordis.groupby('status')['id'].nunique().plot(kind='bar')\n",
    "plt.show()"
   ]
  },
  {
   "cell_type": "markdown",
   "metadata": {},
   "source": [
    "### Start and end dates"
   ]
  },
  {
   "cell_type": "code",
   "execution_count": 14,
   "metadata": {},
   "outputs": [
    {
     "data": {
      "text/plain": [
       "2019    5546\n",
       "2018    5059\n",
       "2015    5024\n",
       "2017    4972\n",
       "2016    4945\n",
       "2013    4539\n",
       "2020    4479\n",
       "2012    4306\n",
       "2011    3942\n",
       "2010    3584\n",
       "2014    3327\n",
       "2006    3012\n",
       "2009    2895\n",
       "2008    2879\n",
       "2005    2751\n",
       "2004    2439\n",
       "2021    2032\n",
       "2007    1516\n",
       "0        223\n",
       "2003     216\n",
       "2022      17\n",
       "Name: startYear, dtype: int64"
      ]
     },
     "execution_count": 14,
     "metadata": {},
     "output_type": "execute_result"
    }
   ],
   "source": [
    "cordis['startYear'].value_counts()"
   ]
  },
  {
   "cell_type": "code",
   "execution_count": 15,
   "metadata": {},
   "outputs": [
    {
     "data": {
      "image/png": "[encoded data removed]",
      "text/plain": [
       "<Figure size 432x288 with 1 Axes>"
      ]
     },
     "metadata": {
      "needs_background": "light"
     },
     "output_type": "display_data"
    }
   ],
   "source": [
    "cordis.groupby('startYear')['id'].nunique().plot(kind='bar')\n",
    "plt.show()"
   ]
  },
  {
   "cell_type": "code",
   "execution_count": 16,
   "metadata": {},
   "outputs": [
    {
     "data": {
      "text/plain": [
       "2021    5139\n",
       "2018    5103\n",
       "2016    4980\n",
       "2019    4933\n",
       "2017    4893\n",
       "2015    4706\n",
       "2022    4689\n",
       "2020    3621\n",
       "2014    3583\n",
       "2023    3318\n",
       "2013    3156\n",
       "2012    2664\n",
       "2008    2632\n",
       "2011    2235\n",
       "2009    2227\n",
       "2007    2120\n",
       "2010    2098\n",
       "2024    1871\n",
       "2025    1200\n",
       "2006    1190\n",
       "2005     495\n",
       "2026     430\n",
       "0        307\n",
       "2004      96\n",
       "2027      15\n",
       "2003       2\n",
       "Name: endYear, dtype: int64"
      ]
     },
     "execution_count": 16,
     "metadata": {},
     "output_type": "execute_result"
    }
   ],
   "source": [
    "cordis['endYear'].value_counts()"
   ]
  },
  {
   "cell_type": "code",
   "execution_count": 17,
   "metadata": {},
   "outputs": [
    {
     "data": {
      "image/png": "[encoded data removed]",
      "text/plain": [
       "<Figure size 432x288 with 1 Axes>"
      ]
     },
     "metadata": {
      "needs_background": "light"
     },
     "output_type": "display_data"
    }
   ],
   "source": [
    "cordis.groupby('endYear')['id'].nunique().plot(kind='bar')\n",
    "plt.show()"
   ]
  },
  {
   "cell_type": "code",
   "execution_count": 18,
   "metadata": {},
   "outputs": [
    {
     "data": {
      "text/plain": [
       "1105.7746238537554"
      ]
     },
     "execution_count": 18,
     "metadata": {},
     "output_type": "execute_result"
    }
   ],
   "source": [
    "cordis['duration_days'].mean()"
   ]
  },
  {
   "cell_type": "code",
   "execution_count": 19,
   "metadata": {},
   "outputs": [
    {
     "data": {
      "text/plain": [
       "array([[<AxesSubplot:title={'center':'duration_days'}>]], dtype=object)"
      ]
     },
     "execution_count": 19,
     "metadata": {},
     "output_type": "execute_result"
    },
    {
     "data": {
      "image/png": "[encoded data removed]",
      "text/plain": [
       "<Figure size 432x288 with 1 Axes>"
      ]
     },
     "metadata": {
      "needs_background": "light"
     },
     "output_type": "display_data"
    }
   ],
   "source": [
    "cordis.hist(column='duration_days',bins=50)"
   ]
  },
  {
   "cell_type": "code",
   "execution_count": 20,
   "metadata": {},
   "outputs": [
    {
     "data": {
      "text/plain": [
       "<matplotlib.collections.PathCollection at 0x7fb0e0011cd0>"
      ]
     },
     "execution_count": 20,
     "metadata": {},
     "output_type": "execute_result"
    },
    {
     "data": {
      "image/png": "[encoded data removed]",
      "text/plain": [
       "<Figure size 432x288 with 1 Axes>"
      ]
     },
     "metadata": {
      "needs_background": "light"
     },
     "output_type": "display_data"
    }
   ],
   "source": [
    "plt.scatter(cordis['startYear'],cordis['endYear'])"
   ]
  },
  {
   "cell_type": "markdown",
   "metadata": {},
   "source": [
    "### Total cost"
   ]
  },
  {
   "cell_type": "code",
   "execution_count": 21,
   "metadata": {},
   "outputs": [
    {
     "data": {
      "text/plain": [
       "2609587.2945091953"
      ]
     },
     "execution_count": 21,
     "metadata": {},
     "output_type": "execute_result"
    }
   ],
   "source": [
    "cordis['totalCost'].mean()"
   ]
  },
  {
   "cell_type": "code",
   "execution_count": 22,
   "metadata": {},
   "outputs": [
    {
     "data": {
      "text/plain": [
       "array([[<AxesSubplot:title={'center':'totalCost'}>]], dtype=object)"
      ]
     },
     "execution_count": 22,
     "metadata": {},
     "output_type": "execute_result"
    },
    {
     "data": {
      "image/png": "[encoded data removed]",
      "text/plain": [
       "<Figure size 432x288 with 1 Axes>"
      ]
     },
     "metadata": {
      "needs_background": "light"
     },
     "output_type": "display_data"
    }
   ],
   "source": [
    "cordis.hist(column='totalCost',bins=20)"
   ]
  },
  {
   "cell_type": "code",
   "execution_count": 23,
   "metadata": {},
   "outputs": [
    {
     "data": {
      "text/plain": [
       "1856392.7889873683"
      ]
     },
     "execution_count": 23,
     "metadata": {},
     "output_type": "execute_result"
    }
   ],
   "source": [
    "cordis['ecMaxContribution'].mean()"
   ]
  },
  {
   "cell_type": "code",
   "execution_count": 24,
   "metadata": {},
   "outputs": [
    {
     "data": {
      "text/plain": [
       "array([[<AxesSubplot:title={'center':'ecMaxContribution'}>]], dtype=object)"
      ]
     },
     "execution_count": 24,
     "metadata": {},
     "output_type": "execute_result"
    },
    {
     "data": {
      "image/png": "[encoded data removed]",
      "text/plain": [
       "<Figure size 432x288 with 1 Axes>"
      ]
     },
     "metadata": {
      "needs_background": "light"
     },
     "output_type": "display_data"
    }
   ],
   "source": [
    "cordis.hist(column='ecMaxContribution',bins=20)"
   ]
  },
  {
   "cell_type": "code",
   "execution_count": 25,
   "metadata": {},
   "outputs": [
    {
     "data": {
      "text/plain": [
       "<matplotlib.collections.PathCollection at 0x7fb0e060dbe0>"
      ]
     },
     "execution_count": 25,
     "metadata": {},
     "output_type": "execute_result"
    },
    {
     "data": {
      "image/png": "[encoded data removed]",
      "text/plain": [
       "<Figure size 432x288 with 1 Axes>"
      ]
     },
     "metadata": {
      "needs_background": "light"
     },
     "output_type": "display_data"
    }
   ],
   "source": [
    "plt.scatter(cordis['endYear'],cordis['totalCost'])"
   ]
  },
  {
   "cell_type": "code",
   "execution_count": 26,
   "metadata": {},
   "outputs": [
    {
     "data": {
      "text/plain": [
       "<matplotlib.collections.PathCollection at 0x7fb0f3435f10>"
      ]
     },
     "execution_count": 26,
     "metadata": {},
     "output_type": "execute_result"
    },
    {
     "data": {
      "image/png": "[encoded data removed]",
      "text/plain": [
       "<Figure size 432x288 with 1 Axes>"
      ]
     },
     "metadata": {
      "needs_background": "light"
     },
     "output_type": "display_data"
    }
   ],
   "source": [
    "plt.scatter(cordis['startYear'],cordis['totalCost'])"
   ]
  },
  {
   "cell_type": "markdown",
   "metadata": {},
   "source": [
    "### Coordinator country"
   ]
  },
  {
   "cell_type": "code",
   "execution_count": 27,
   "metadata": {},
   "outputs": [
    {
     "data": {
      "text/plain": [
       "UK    11918\n",
       "DE     8096\n",
       "FR     7049\n",
       "ES     7018\n",
       "IT     5739\n",
       "NL     4522\n",
       "BE     2660\n",
       "CH     2563\n",
       "SE     2002\n",
       "AT     1833\n",
       "DK     1798\n",
       "IL     1740\n",
       "EL     1634\n",
       "IE     1377\n",
       "FI     1169\n",
       "NO     1112\n",
       "PT     1071\n",
       "PL      736\n",
       "TR      548\n",
       "HU      522\n",
       "CZ      351\n",
       "SI      264\n",
       "EE      250\n",
       "CY      240\n",
       "RO      200\n",
       "IS      184\n",
       "BG      152\n",
       "SK      140\n",
       "LT      123\n",
       "LU      122\n",
       "RS      107\n",
       "HR      100\n",
       "LV       87\n",
       "MT       64\n",
       "RU       48\n",
       "UA       45\n",
       "MK       22\n",
       "BA       19\n",
       "AM       16\n",
       "MD       15\n",
       "ME       15\n",
       "FO       11\n",
       "GE        7\n",
       "AL        4\n",
       "AZ        4\n",
       "BY        3\n",
       "LI        2\n",
       "MC        1\n",
       "Name: coordinatorCountry, dtype: int64"
      ]
     },
     "execution_count": 27,
     "metadata": {},
     "output_type": "execute_result"
    }
   ],
   "source": [
    "cordis['coordinatorCountry'].value_counts()"
   ]
  },
  {
   "cell_type": "code",
   "execution_count": 28,
   "metadata": {},
   "outputs": [
    {
     "data": {
      "image/png": "[encoded data removed]",
      "text/plain": [
       "<Figure size 432x288 with 1 Axes>"
      ]
     },
     "metadata": {
      "needs_background": "light"
     },
     "output_type": "display_data"
    }
   ],
   "source": [
    "cordis.groupby('coordinatorCountry')['id'].nunique().plot(kind='bar')\n",
    "plt.show()"
   ]
  },
  {
   "cell_type": "code",
   "execution_count": 29,
   "metadata": {},
   "outputs": [
    {
     "data": {
      "text/html": [
       "<div>\n",
       "<style scoped>\n",
       "    .dataframe tbody tr th:only-of-type {\n",
       "        vertical-align: middle;\n",
       "    }\n",
       "\n",
       "    .dataframe tbody tr th {\n",
       "        vertical-align: top;\n",
       "    }\n",
       "\n",
       "    .dataframe thead th {\n",
       "        text-align: right;\n",
       "    }\n",
       "</style>\n",
       "<table border=\"1\" class=\"dataframe\">\n",
       "  <thead>\n",
       "    <tr style=\"text-align: right;\">\n",
       "      <th>endYear</th>\n",
       "      <th>0</th>\n",
       "      <th>2003</th>\n",
       "      <th>2004</th>\n",
       "      <th>2005</th>\n",
       "      <th>2006</th>\n",
       "      <th>2007</th>\n",
       "      <th>2008</th>\n",
       "      <th>2009</th>\n",
       "      <th>2010</th>\n",
       "      <th>2011</th>\n",
       "      <th>...</th>\n",
       "      <th>2018</th>\n",
       "      <th>2019</th>\n",
       "      <th>2020</th>\n",
       "      <th>2021</th>\n",
       "      <th>2022</th>\n",
       "      <th>2023</th>\n",
       "      <th>2024</th>\n",
       "      <th>2025</th>\n",
       "      <th>2026</th>\n",
       "      <th>2027</th>\n",
       "    </tr>\n",
       "    <tr>\n",
       "      <th>coordinatorCountry</th>\n",
       "      <th></th>\n",
       "      <th></th>\n",
       "      <th></th>\n",
       "      <th></th>\n",
       "      <th></th>\n",
       "      <th></th>\n",
       "      <th></th>\n",
       "      <th></th>\n",
       "      <th></th>\n",
       "      <th></th>\n",
       "      <th></th>\n",
       "      <th></th>\n",
       "      <th></th>\n",
       "      <th></th>\n",
       "      <th></th>\n",
       "      <th></th>\n",
       "      <th></th>\n",
       "      <th></th>\n",
       "      <th></th>\n",
       "      <th></th>\n",
       "      <th></th>\n",
       "    </tr>\n",
       "  </thead>\n",
       "  <tbody>\n",
       "    <tr>\n",
       "      <th>AL</th>\n",
       "      <td>NaN</td>\n",
       "      <td>NaN</td>\n",
       "      <td>NaN</td>\n",
       "      <td>NaN</td>\n",
       "      <td>NaN</td>\n",
       "      <td>NaN</td>\n",
       "      <td>2.999700e+05</td>\n",
       "      <td>1.360000e+05</td>\n",
       "      <td>NaN</td>\n",
       "      <td>NaN</td>\n",
       "      <td>...</td>\n",
       "      <td>NaN</td>\n",
       "      <td>NaN</td>\n",
       "      <td>NaN</td>\n",
       "      <td>NaN</td>\n",
       "      <td>1.376794e+05</td>\n",
       "      <td>NaN</td>\n",
       "      <td>NaN</td>\n",
       "      <td>NaN</td>\n",
       "      <td>NaN</td>\n",
       "      <td>NaN</td>\n",
       "    </tr>\n",
       "    <tr>\n",
       "      <th>AM</th>\n",
       "      <td>7500.000000</td>\n",
       "      <td>NaN</td>\n",
       "      <td>NaN</td>\n",
       "      <td>NaN</td>\n",
       "      <td>NaN</td>\n",
       "      <td>NaN</td>\n",
       "      <td>NaN</td>\n",
       "      <td>NaN</td>\n",
       "      <td>NaN</td>\n",
       "      <td>NaN</td>\n",
       "      <td>...</td>\n",
       "      <td>1.592750e+04</td>\n",
       "      <td>4.203575e+04</td>\n",
       "      <td>NaN</td>\n",
       "      <td>2.702250e+04</td>\n",
       "      <td>5.998362e+05</td>\n",
       "      <td>8.884475e+05</td>\n",
       "      <td>NaN</td>\n",
       "      <td>NaN</td>\n",
       "      <td>NaN</td>\n",
       "      <td>NaN</td>\n",
       "    </tr>\n",
       "    <tr>\n",
       "      <th>AT</th>\n",
       "      <td>881189.666667</td>\n",
       "      <td>NaN</td>\n",
       "      <td>35620.0</td>\n",
       "      <td>871814.083333</td>\n",
       "      <td>1.073526e+06</td>\n",
       "      <td>1.585329e+06</td>\n",
       "      <td>2.794646e+06</td>\n",
       "      <td>3.588618e+06</td>\n",
       "      <td>2.878515e+06</td>\n",
       "      <td>2.510376e+06</td>\n",
       "      <td>...</td>\n",
       "      <td>3.003642e+06</td>\n",
       "      <td>2.800298e+06</td>\n",
       "      <td>2.954941e+06</td>\n",
       "      <td>3.105699e+06</td>\n",
       "      <td>3.356279e+06</td>\n",
       "      <td>3.857159e+06</td>\n",
       "      <td>4.187262e+06</td>\n",
       "      <td>3.699815e+06</td>\n",
       "      <td>5.924658e+06</td>\n",
       "      <td>7560221.93</td>\n",
       "    </tr>\n",
       "    <tr>\n",
       "      <th>AZ</th>\n",
       "      <td>NaN</td>\n",
       "      <td>NaN</td>\n",
       "      <td>NaN</td>\n",
       "      <td>NaN</td>\n",
       "      <td>2.800000e+04</td>\n",
       "      <td>NaN</td>\n",
       "      <td>NaN</td>\n",
       "      <td>NaN</td>\n",
       "      <td>NaN</td>\n",
       "      <td>NaN</td>\n",
       "      <td>...</td>\n",
       "      <td>NaN</td>\n",
       "      <td>NaN</td>\n",
       "      <td>NaN</td>\n",
       "      <td>NaN</td>\n",
       "      <td>NaN</td>\n",
       "      <td>NaN</td>\n",
       "      <td>NaN</td>\n",
       "      <td>NaN</td>\n",
       "      <td>NaN</td>\n",
       "      <td>NaN</td>\n",
       "    </tr>\n",
       "    <tr>\n",
       "      <th>BA</th>\n",
       "      <td>NaN</td>\n",
       "      <td>NaN</td>\n",
       "      <td>NaN</td>\n",
       "      <td>NaN</td>\n",
       "      <td>NaN</td>\n",
       "      <td>NaN</td>\n",
       "      <td>NaN</td>\n",
       "      <td>2.718470e+05</td>\n",
       "      <td>NaN</td>\n",
       "      <td>NaN</td>\n",
       "      <td>...</td>\n",
       "      <td>4.702750e+04</td>\n",
       "      <td>7.595158e+04</td>\n",
       "      <td>NaN</td>\n",
       "      <td>5.825417e+04</td>\n",
       "      <td>5.000000e+04</td>\n",
       "      <td>8.917575e+05</td>\n",
       "      <td>NaN</td>\n",
       "      <td>NaN</td>\n",
       "      <td>NaN</td>\n",
       "      <td>NaN</td>\n",
       "    </tr>\n",
       "  </tbody>\n",
       "</table>\n",
       "<p>5 rows × 26 columns</p>\n",
       "</div>"
      ],
      "text/plain": [
       "endYear                      0     2003     2004           2005          2006  \\\n",
       "coordinatorCountry                                                              \n",
       "AL                            NaN   NaN      NaN            NaN           NaN   \n",
       "AM                    7500.000000   NaN      NaN            NaN           NaN   \n",
       "AT                  881189.666667   NaN  35620.0  871814.083333  1.073526e+06   \n",
       "AZ                            NaN   NaN      NaN            NaN  2.800000e+04   \n",
       "BA                            NaN   NaN      NaN            NaN           NaN   \n",
       "\n",
       "endYear                     2007          2008          2009          2010  \\\n",
       "coordinatorCountry                                                           \n",
       "AL                           NaN  2.999700e+05  1.360000e+05           NaN   \n",
       "AM                           NaN           NaN           NaN           NaN   \n",
       "AT                  1.585329e+06  2.794646e+06  3.588618e+06  2.878515e+06   \n",
       "AZ                           NaN           NaN           NaN           NaN   \n",
       "BA                           NaN           NaN  2.718470e+05           NaN   \n",
       "\n",
       "endYear                     2011  ...          2018          2019  \\\n",
       "coordinatorCountry                ...                               \n",
       "AL                           NaN  ...           NaN           NaN   \n",
       "AM                           NaN  ...  1.592750e+04  4.203575e+04   \n",
       "AT                  2.510376e+06  ...  3.003642e+06  2.800298e+06   \n",
       "AZ                           NaN  ...           NaN           NaN   \n",
       "BA                           NaN  ...  4.702750e+04  7.595158e+04   \n",
       "\n",
       "endYear                     2020          2021          2022          2023  \\\n",
       "coordinatorCountry                                                           \n",
       "AL                           NaN           NaN  1.376794e+05           NaN   \n",
       "AM                           NaN  2.702250e+04  5.998362e+05  8.884475e+05   \n",
       "AT                  2.954941e+06  3.105699e+06  3.356279e+06  3.857159e+06   \n",
       "AZ                           NaN           NaN           NaN           NaN   \n",
       "BA                           NaN  5.825417e+04  5.000000e+04  8.917575e+05   \n",
       "\n",
       "endYear                     2024          2025          2026        2027  \n",
       "coordinatorCountry                                                        \n",
       "AL                           NaN           NaN           NaN         NaN  \n",
       "AM                           NaN           NaN           NaN         NaN  \n",
       "AT                  4.187262e+06  3.699815e+06  5.924658e+06  7560221.93  \n",
       "AZ                           NaN           NaN           NaN         NaN  \n",
       "BA                           NaN           NaN           NaN         NaN  \n",
       "\n",
       "[5 rows x 26 columns]"
      ]
     },
     "execution_count": 29,
     "metadata": {},
     "output_type": "execute_result"
    }
   ],
   "source": [
    "heatmap_country_year_budget = pd.pivot_table(data=cordis,index='coordinatorCountry',values='totalCost',columns='endYear')\n",
    "heatmap_country_year_budget.head()"
   ]
  },
  {
   "cell_type": "code",
   "execution_count": 30,
   "metadata": {},
   "outputs": [
    {
     "data": {
      "text/plain": [
       "<AxesSubplot:xlabel='endYear', ylabel='coordinatorCountry'>"
      ]
     },
     "execution_count": 30,
     "metadata": {},
     "output_type": "execute_result"
    },
    {
     "data": {
      "image/png": "[encoded data removed]",
      "text/plain": [
       "<Figure size 432x288 with 2 Axes>"
      ]
     },
     "metadata": {
      "needs_background": "light"
     },
     "output_type": "display_data"
    }
   ],
   "source": [
    "sns.heatmap(heatmap_country_year_budget)"
   ]
  },
  {
   "cell_type": "markdown",
   "metadata": {},
   "source": [
    "# MALLET"
   ]
  },
  {
   "cell_type": "code",
   "execution_count": 31,
   "metadata": {},
   "outputs": [],
   "source": [
    "from customMallet import CustomMallet"
   ]
  },
  {
   "cell_type": "code",
   "execution_count": 32,
   "metadata": {},
   "outputs": [
    {
     "name": "stderr",
     "output_type": "stream",
     "text": [
      "/Library/Frameworks/Python.framework/Versions/3.8/lib/python3.8/site-packages/ipykernel/ipkernel.py:287: DeprecationWarning: `should_run_async` will not call `transform_cell` automatically in the future. Please pass the result to `transformed_cell` argument and any exception that happen during thetransform in `preprocessing_exc_tuple` in IPython 7.17 and above.\n",
      "  and should_run_async(code)\n"
     ]
    }
   ],
   "source": [
    "corpus_list = cordis['objective'].tolist()"
   ]
  },
  {
   "cell_type": "code",
   "execution_count": 33,
   "metadata": {},
   "outputs": [
    {
     "name": "stderr",
     "output_type": "stream",
     "text": [
      "/Library/Frameworks/Python.framework/Versions/3.8/lib/python3.8/site-packages/ipykernel/ipkernel.py:287: DeprecationWarning: `should_run_async` will not call `transform_cell` automatically in the future. Please pass the result to `transformed_cell` argument and any exception that happen during thetransform in `preprocessing_exc_tuple` in IPython 7.17 and above.\n",
      "  and should_run_async(code)\n"
     ]
    }
   ],
   "source": [
    "testmallet = CustomMallet()"
   ]
  },
  {
   "cell_type": "code",
   "execution_count": 34,
   "metadata": {},
   "outputs": [
    {
     "name": "stderr",
     "output_type": "stream",
     "text": [
      "/Library/Frameworks/Python.framework/Versions/3.8/lib/python3.8/site-packages/ipykernel/ipkernel.py:287: DeprecationWarning: `should_run_async` will not call `transform_cell` automatically in the future. Please pass the result to `transformed_cell` argument and any exception that happen during thetransform in `preprocessing_exc_tuple` in IPython 7.17 and above.\n",
      "  and should_run_async(code)\n"
     ]
    },
    {
     "ename": "TypeError",
     "evalue": "can only join an iterable",
     "output_type": "error",
     "traceback": [
      "\u001b[0;31m---------------------------------------------------------------------------\u001b[0m",
      "\u001b[0;31mTypeError\u001b[0m                                 Traceback (most recent call last)",
      "\u001b[0;32m<ipython-input-34-ddee02d0a05c>\u001b[0m in \u001b[0;36m<module>\u001b[0;34m\u001b[0m\n\u001b[0;32m----> 1\u001b[0;31m \u001b[0mtestmallet\u001b[0m\u001b[0;34m.\u001b[0m\u001b[0mcorpus2doctopic\u001b[0m\u001b[0;34m(\u001b[0m\u001b[0mcorpus_list\u001b[0m\u001b[0;34m,\u001b[0m\u001b[0;36m10\u001b[0m\u001b[0;34m)\u001b[0m\u001b[0;34m\u001b[0m\u001b[0;34m\u001b[0m\u001b[0m\n\u001b[0m",
      "\u001b[0;32m~/Documents/BigDataAnalytics-UC3M-Master/Master Thesis/Notebooks-scripts/customMallet.py\u001b[0m in \u001b[0;36mcorpus2doctopic\u001b[0;34m(self, corpus, ntopics)\u001b[0m\n\u001b[1;32m     64\u001b[0m         \u001b[0;32mwith\u001b[0m \u001b[0mopen\u001b[0m\u001b[0;34m(\u001b[0m\u001b[0;34mf'{dir_txt}'\u001b[0m\u001b[0;34m,\u001b[0m \u001b[0;34m'w'\u001b[0m\u001b[0;34m,\u001b[0m \u001b[0mencoding\u001b[0m\u001b[0;34m=\u001b[0m\u001b[0;34m'utf8'\u001b[0m\u001b[0;34m)\u001b[0m \u001b[0;32mas\u001b[0m \u001b[0mfout\u001b[0m\u001b[0;34m:\u001b[0m\u001b[0;34m\u001b[0m\u001b[0;34m\u001b[0m\u001b[0m\n\u001b[1;32m     65\u001b[0m             \u001b[0;32mfor\u001b[0m \u001b[0mc\u001b[0m \u001b[0;32min\u001b[0m \u001b[0mcorpus\u001b[0m\u001b[0;34m:\u001b[0m\u001b[0;34m\u001b[0m\u001b[0;34m\u001b[0m\u001b[0m\n\u001b[0;32m---> 66\u001b[0;31m                 \u001b[0mfout\u001b[0m\u001b[0;34m.\u001b[0m\u001b[0mwrite\u001b[0m\u001b[0;34m(\u001b[0m\u001b[0;34m'0'\u001b[0m \u001b[0;34m+\u001b[0m \u001b[0;34m' 0 '\u001b[0m \u001b[0;34m+\u001b[0m \u001b[0;34m' '\u001b[0m\u001b[0;34m.\u001b[0m\u001b[0mjoin\u001b[0m\u001b[0;34m(\u001b[0m\u001b[0mc\u001b[0m\u001b[0;34m)\u001b[0m \u001b[0;34m+\u001b[0m \u001b[0;34m'\\n'\u001b[0m\u001b[0;34m)\u001b[0m\u001b[0;34m\u001b[0m\u001b[0;34m\u001b[0m\u001b[0m\n\u001b[0m\u001b[1;32m     67\u001b[0m \u001b[0;34m\u001b[0m\u001b[0m\n\u001b[1;32m     68\u001b[0m         \u001b[0;31m# Convert to mallet using previous corpus (corpus used in training)\u001b[0m\u001b[0;34m\u001b[0m\u001b[0;34m\u001b[0m\u001b[0;34m\u001b[0m\u001b[0m\n",
      "\u001b[0;31mTypeError\u001b[0m: can only join an iterable"
     ]
    }
   ],
   "source": [
    "testmallet.corpus2doctopic(corpus_list,10)"
   ]
  }
 ],
 "metadata": {
  "kernelspec": {
   "display_name": "Python 3",
   "language": "python",
   "name": "python3"
  },
  "language_info": {
   "codemirror_mode": {
    "name": "ipython",
    "version": 3
   },
   "file_extension": ".py",
   "mimetype": "text/x-python",
   "name": "python",
   "nbconvert_exporter": "python",
   "pygments_lexer": "ipython3",
   "version": "3.8.6"
  }
 },
 "nbformat": 4,
 "nbformat_minor": 4
}
