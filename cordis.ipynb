{
 "cells": [
  {
   "cell_type": "code",
   "execution_count": 2,
   "metadata": {},
   "outputs": [],
   "source": [
    "%matplotlib inline\n",
    "import pandas as pd\n",
    "import matplotlib.pyplot as plt\n",
    "import seaborn as sns"
   ]
  },
  {
   "cell_type": "markdown",
   "metadata": {},
   "source": [
    "# CORDIS"
   ]
  },
  {
   "cell_type": "markdown",
   "metadata": {},
   "source": [
    "## 1. Data loading and preprocessing"
   ]
  },
  {
   "cell_type": "code",
   "execution_count": 3,
   "metadata": {},
   "outputs": [],
   "source": [
    "# Load data\n",
    "\n",
    "columns_dates = ['startDate','endDate']\n",
    "\n",
    "cordish2020 = pd.read_csv(\"data/cordis/cordis-h2020projects.csv\",sep=\";\",decimal=\",\",parse_dates=columns_dates)\n",
    "cordisfp7 = pd.read_csv(\"data/cordis/cordis-fp7projects.csv\",sep=\";\",decimal=\",\",parse_dates=columns_dates)\n",
    "cordisfp6 = pd.read_csv(\"data/cordis/cordis-fp6projects.csv\",sep=\";\",decimal=\",\",parse_dates=columns_dates)\n",
    "\n",
    "# Manual preprocessing...\n",
    "cordisfp6 = cordisfp6.drop(columns=['totalCost'])\n",
    "cordisfp6 = cordisfp6.drop(columns=['ecMaxContribution'])\n",
    "totalCostFP6 = pd.read_csv(\"data/cordis/totalCostFP6.csv\",sep=\";\",decimal=\".\")\n",
    "cordisfp6['totalCost'] = totalCostFP6\n",
    "ecMaxContributionFP6 = pd.read_csv(\"data/cordis/ecMaxContributionFP6.csv\",sep=\";\",decimal=\".\")\n",
    "cordisfp6['ecMaxContribution'] = ecMaxContributionFP6"
   ]
  },
  {
   "cell_type": "code",
   "execution_count": 4,
   "metadata": {},
   "outputs": [
    {
     "name": "stdout",
     "output_type": "stream",
     "text": [
      "H2020 (2014-2020):  (32161, 21)\n",
      "FP7 (2007-2013):  (25778, 21)\n",
      "FP6 (2002-2006):  (10082, 21)\n"
     ]
    }
   ],
   "source": [
    "# Shapes\n",
    "print(\"H2020 (2014-2020): \",cordish2020.shape)\n",
    "print(\"FP7 (2007-2013): \",cordisfp7.shape)\n",
    "print(\"FP6 (2002-2006): \",cordisfp6.shape)"
   ]
  },
  {
   "cell_type": "code",
   "execution_count": 8,
   "metadata": {},
   "outputs": [
    {
     "data": {
      "text/plain": [
       "(68021, 21)"
      ]
     },
     "execution_count": 8,
     "metadata": {},
     "output_type": "execute_result"
    }
   ],
   "source": [
    "# Append data\n",
    "cordis = cordish2020.append(cordisfp7)\n",
    "cordis = cordis.append(cordisfp6)\n",
    "cordis.shape"
   ]
  },
  {
   "cell_type": "code",
   "execution_count": 89,
   "metadata": {},
   "outputs": [],
   "source": [
    "# Compute duration in days\n",
    "cordis['duration_days'] = (cordis['endDate'] - cordis['startDate']).dt.days\n",
    "\n",
    "# Extract start and end years and store in new column of dataframe\n",
    "cordis['startYear'] = pd.DatetimeIndex(cordis['startDate']).year\n",
    "cordis['endYear'] = pd.DatetimeIndex(cordis['endDate']).year\n",
    "cordis = cordis.fillna({'startYear':0,'endYear':0})\n",
    "cordis = cordis.astype({\"startYear\":'int', \"endYear\":'int'}) \n",
    "\n",
    "# Remove useless columns\n",
    "cordis = cordis.drop(columns=['startDate','endDate','subjects'])"
   ]
  },
  {
   "cell_type": "code",
   "execution_count": 90,
   "metadata": {},
   "outputs": [
    {
     "data": {
      "text/plain": [
       "rcn                       int64\n",
       "id                       object\n",
       "acronym                  object\n",
       "status                   object\n",
       "programme                object\n",
       "topics                   object\n",
       "frameworkProgramme       object\n",
       "title                    object\n",
       "projectUrl               object\n",
       "objective                object\n",
       "totalCost               float64\n",
       "ecMaxContribution       float64\n",
       "call                     object\n",
       "fundingScheme            object\n",
       "coordinator              object\n",
       "coordinatorCountry       object\n",
       "participants             object\n",
       "participantCountries     object\n",
       "duration_days           float64\n",
       "startYear                 int64\n",
       "endYear                   int64\n",
       "dtype: object"
      ]
     },
     "execution_count": 90,
     "metadata": {},
     "output_type": "execute_result"
    }
   ],
   "source": [
    "cordis.dtypes"
   ]
  },
  {
   "cell_type": "code",
   "execution_count": 33,
   "metadata": {},
   "outputs": [
    {
     "data": {
      "text/html": [
       "<div>\n",
       "<style scoped>\n",
       "    .dataframe tbody tr th:only-of-type {\n",
       "        vertical-align: middle;\n",
       "    }\n",
       "\n",
       "    .dataframe tbody tr th {\n",
       "        vertical-align: top;\n",
       "    }\n",
       "\n",
       "    .dataframe thead th {\n",
       "        text-align: right;\n",
       "    }\n",
       "</style>\n",
       "<table border=\"1\" class=\"dataframe\">\n",
       "  <thead>\n",
       "    <tr style=\"text-align: right;\">\n",
       "      <th></th>\n",
       "      <th>rcn</th>\n",
       "      <th>id</th>\n",
       "      <th>acronym</th>\n",
       "      <th>status</th>\n",
       "      <th>programme</th>\n",
       "      <th>topics</th>\n",
       "      <th>frameworkProgramme</th>\n",
       "      <th>title</th>\n",
       "      <th>projectUrl</th>\n",
       "      <th>objective</th>\n",
       "      <th>...</th>\n",
       "      <th>ecMaxContribution</th>\n",
       "      <th>call</th>\n",
       "      <th>fundingScheme</th>\n",
       "      <th>coordinator</th>\n",
       "      <th>coordinatorCountry</th>\n",
       "      <th>participants</th>\n",
       "      <th>participantCountries</th>\n",
       "      <th>duration_days</th>\n",
       "      <th>startYear</th>\n",
       "      <th>endYear</th>\n",
       "    </tr>\n",
       "  </thead>\n",
       "  <tbody>\n",
       "    <tr>\n",
       "      <th>0</th>\n",
       "      <td>72765</td>\n",
       "      <td>4265</td>\n",
       "      <td>COREGRID</td>\n",
       "      <td>NaN</td>\n",
       "      <td>FP6-IST</td>\n",
       "      <td>IST-2002-2.3.2.8</td>\n",
       "      <td>FP6</td>\n",
       "      <td>European research network on foundations, soft...</td>\n",
       "      <td>http://www.coregrid.net/</td>\n",
       "      <td>CoreGRID aims at strengthening and advancing s...</td>\n",
       "      <td>...</td>\n",
       "      <td>8200000</td>\n",
       "      <td>NaN</td>\n",
       "      <td>NoE</td>\n",
       "      <td>GEIE ERCIM</td>\n",
       "      <td>FR</td>\n",
       "      <td>UNIVERSITE HENRI POINCARE NANCY 1;UNIVERSITE J...</td>\n",
       "      <td>FR;UK;SE;HU;BE;IT;DE;FI;CY;CZ;NL;ES;BG;PL;CL;A...</td>\n",
       "      <td>1460.0</td>\n",
       "      <td>2004.0</td>\n",
       "      <td>2008.0</td>\n",
       "    </tr>\n",
       "    <tr>\n",
       "      <th>1</th>\n",
       "      <td>79369</td>\n",
       "      <td>034084</td>\n",
       "      <td>SELFMAN</td>\n",
       "      <td>NaN</td>\n",
       "      <td>FP6-IST</td>\n",
       "      <td>IST-2005-2.5.5</td>\n",
       "      <td>FP6</td>\n",
       "      <td>Self Management for large-scale distributed sy...</td>\n",
       "      <td>http://www.ist-selfman.org/wiki/index.php/self...</td>\n",
       "      <td>The goal of SELFMAN is to make large-scale dis...</td>\n",
       "      <td>...</td>\n",
       "      <td>1960000</td>\n",
       "      <td>NaN</td>\n",
       "      <td>STREP</td>\n",
       "      <td>UNIVERSITE CATHOLIQUE DE LOUVAIN</td>\n",
       "      <td>BE</td>\n",
       "      <td>KONRAD-ZUSE-ZENTRUM FUER INFORMATIONSTECHNIK B...</td>\n",
       "      <td>DE;FR;SE;SG</td>\n",
       "      <td>1095.0</td>\n",
       "      <td>2006.0</td>\n",
       "      <td>2009.0</td>\n",
       "    </tr>\n",
       "    <tr>\n",
       "      <th>2</th>\n",
       "      <td>80458</td>\n",
       "      <td>517675-2</td>\n",
       "      <td>MICROTRAP</td>\n",
       "      <td>NaN</td>\n",
       "      <td>FP6-IST</td>\n",
       "      <td>IST-2004-2.3.4.1 b7</td>\n",
       "      <td>FP6</td>\n",
       "      <td>Development of a pan-European Microtrap Techno...</td>\n",
       "      <td>NaN</td>\n",
       "      <td>MICROTRAP is a Strep proposal aimed at develop...</td>\n",
       "      <td>...</td>\n",
       "      <td>1769000</td>\n",
       "      <td>NaN</td>\n",
       "      <td>STREP</td>\n",
       "      <td>NPL MANAGEMENT LIMITED</td>\n",
       "      <td>UK</td>\n",
       "      <td>UNIVERSITAET INNSBRUCK;THE CHANCELLOR, MASTERS...</td>\n",
       "      <td>AT</td>\n",
       "      <td>1095.0</td>\n",
       "      <td>2006.0</td>\n",
       "      <td>2009.0</td>\n",
       "    </tr>\n",
       "    <tr>\n",
       "      <th>3</th>\n",
       "      <td>78376</td>\n",
       "      <td>027305</td>\n",
       "      <td>NOBEL PHASE 2</td>\n",
       "      <td>NaN</td>\n",
       "      <td>FP6-IST</td>\n",
       "      <td>IST-2004-2.4.4</td>\n",
       "      <td>FP6</td>\n",
       "      <td>Next generation optical network for Broadband ...</td>\n",
       "      <td>http://www.ist-nobel.org/</td>\n",
       "      <td>To achieve the strategic goal of broadband for...</td>\n",
       "      <td>...</td>\n",
       "      <td>12109996</td>\n",
       "      <td>NaN</td>\n",
       "      <td>IP</td>\n",
       "      <td>TELECOM ITALIA SPA</td>\n",
       "      <td>IT</td>\n",
       "      <td>CORECOM - CONSORZIO RICERCHE ELABORAZIONE COMM...</td>\n",
       "      <td>IT;DE</td>\n",
       "      <td>730.0</td>\n",
       "      <td>2006.0</td>\n",
       "      <td>2008.0</td>\n",
       "    </tr>\n",
       "    <tr>\n",
       "      <th>4</th>\n",
       "      <td>75263</td>\n",
       "      <td>502885</td>\n",
       "      <td>MERSEA</td>\n",
       "      <td>NaN</td>\n",
       "      <td>FP6-AEROSPACE</td>\n",
       "      <td>AERO-2.3</td>\n",
       "      <td>FP6</td>\n",
       "      <td>Marine Environment and security for the Europe...</td>\n",
       "      <td>NaN</td>\n",
       "      <td>Marine Environment and security for the Europe...</td>\n",
       "      <td>...</td>\n",
       "      <td>13997699</td>\n",
       "      <td>FP6-2002-SPACE-1</td>\n",
       "      <td>IP</td>\n",
       "      <td>INSTITUT FRANCAIS DE RECHERCHE POUR L'EXPLOITA...</td>\n",
       "      <td>FR</td>\n",
       "      <td>EUROPEAN CENTRE FOR MEDIUM-RANGE WEATHER FOREC...</td>\n",
       "      <td>UK;IE;CY;NL;IT;ES;DE;FR;FI;NO;CA;BE;EL;TR;DK</td>\n",
       "      <td>1643.0</td>\n",
       "      <td>2004.0</td>\n",
       "      <td>2008.0</td>\n",
       "    </tr>\n",
       "  </tbody>\n",
       "</table>\n",
       "<p>5 rows × 21 columns</p>\n",
       "</div>"
      ],
      "text/plain": [
       "     rcn        id        acronym status      programme               topics  \\\n",
       "0  72765      4265       COREGRID    NaN        FP6-IST     IST-2002-2.3.2.8   \n",
       "1  79369    034084        SELFMAN    NaN        FP6-IST       IST-2005-2.5.5   \n",
       "2  80458  517675-2      MICROTRAP    NaN        FP6-IST  IST-2004-2.3.4.1 b7   \n",
       "3  78376    027305  NOBEL PHASE 2    NaN        FP6-IST       IST-2004-2.4.4   \n",
       "4  75263    502885         MERSEA    NaN  FP6-AEROSPACE             AERO-2.3   \n",
       "\n",
       "  frameworkProgramme                                              title  \\\n",
       "0                FP6  European research network on foundations, soft...   \n",
       "1                FP6  Self Management for large-scale distributed sy...   \n",
       "2                FP6  Development of a pan-European Microtrap Techno...   \n",
       "3                FP6  Next generation optical network for Broadband ...   \n",
       "4                FP6  Marine Environment and security for the Europe...   \n",
       "\n",
       "                                          projectUrl  \\\n",
       "0                           http://www.coregrid.net/   \n",
       "1  http://www.ist-selfman.org/wiki/index.php/self...   \n",
       "2                                                NaN   \n",
       "3                          http://www.ist-nobel.org/   \n",
       "4                                                NaN   \n",
       "\n",
       "                                           objective  ... ecMaxContribution  \\\n",
       "0  CoreGRID aims at strengthening and advancing s...  ...           8200000   \n",
       "1  The goal of SELFMAN is to make large-scale dis...  ...           1960000   \n",
       "2  MICROTRAP is a Strep proposal aimed at develop...  ...           1769000   \n",
       "3  To achieve the strategic goal of broadband for...  ...          12109996   \n",
       "4  Marine Environment and security for the Europe...  ...          13997699   \n",
       "\n",
       "               call fundingScheme  \\\n",
       "0               NaN           NoE   \n",
       "1               NaN         STREP   \n",
       "2               NaN         STREP   \n",
       "3               NaN            IP   \n",
       "4  FP6-2002-SPACE-1            IP   \n",
       "\n",
       "                                         coordinator coordinatorCountry  \\\n",
       "0                                         GEIE ERCIM                 FR   \n",
       "1                   UNIVERSITE CATHOLIQUE DE LOUVAIN                 BE   \n",
       "2                             NPL MANAGEMENT LIMITED                 UK   \n",
       "3                                 TELECOM ITALIA SPA                 IT   \n",
       "4  INSTITUT FRANCAIS DE RECHERCHE POUR L'EXPLOITA...                 FR   \n",
       "\n",
       "                                        participants  \\\n",
       "0  UNIVERSITE HENRI POINCARE NANCY 1;UNIVERSITE J...   \n",
       "1  KONRAD-ZUSE-ZENTRUM FUER INFORMATIONSTECHNIK B...   \n",
       "2  UNIVERSITAET INNSBRUCK;THE CHANCELLOR, MASTERS...   \n",
       "3  CORECOM - CONSORZIO RICERCHE ELABORAZIONE COMM...   \n",
       "4  EUROPEAN CENTRE FOR MEDIUM-RANGE WEATHER FOREC...   \n",
       "\n",
       "                                participantCountries duration_days  startYear  \\\n",
       "0  FR;UK;SE;HU;BE;IT;DE;FI;CY;CZ;NL;ES;BG;PL;CL;A...        1460.0     2004.0   \n",
       "1                                        DE;FR;SE;SG        1095.0     2006.0   \n",
       "2                                                 AT        1095.0     2006.0   \n",
       "3                                              IT;DE         730.0     2006.0   \n",
       "4       UK;IE;CY;NL;IT;ES;DE;FR;FI;NO;CA;BE;EL;TR;DK        1643.0     2004.0   \n",
       "\n",
       "   endYear  \n",
       "0   2008.0  \n",
       "1   2009.0  \n",
       "2   2009.0  \n",
       "3   2008.0  \n",
       "4   2008.0  \n",
       "\n",
       "[5 rows x 21 columns]"
      ]
     },
     "execution_count": 33,
     "metadata": {},
     "output_type": "execute_result"
    }
   ],
   "source": [
    "cordis.head()"
   ]
  },
  {
   "cell_type": "markdown",
   "metadata": {},
   "source": [
    "## 2. Descriptive analysis"
   ]
  },
  {
   "cell_type": "markdown",
   "metadata": {},
   "source": [
    "### Status\n",
    "- ONG: ongoing\n",
    "- SIGNED: firmado\n",
    "- CLOSED: cerrado (¿sin terminar?)\n",
    "- CLO: ¿=closed?\n",
    "- TERMINATED: terminado (¿finalizado?)\n",
    "- CAN: ¿?"
   ]
  },
  {
   "cell_type": "code",
   "execution_count": 65,
   "metadata": {},
   "outputs": [
    {
     "data": {
      "text/plain": [
       "ONG           23503\n",
       "SIGNED        20559\n",
       "CLOSED        11178\n",
       "CLO            2136\n",
       "TERMINATED      424\n",
       "CAN             179\n",
       "Name: status, dtype: int64"
      ]
     },
     "execution_count": 65,
     "metadata": {},
     "output_type": "execute_result"
    }
   ],
   "source": [
    "cordis['status'].value_counts()"
   ]
  },
  {
   "cell_type": "code",
   "execution_count": 66,
   "metadata": {},
   "outputs": [
    {
     "data": {
      "image/png": "[encoded data removed]",
      "text/plain": [
       "<Figure size 432x288 with 1 Axes>"
      ]
     },
     "metadata": {
      "needs_background": "light"
     },
     "output_type": "display_data"
    }
   ],
   "source": [
    "cordis.groupby('status')['id'].nunique().plot(kind='bar')\n",
    "plt.show()"
   ]
  },
  {
   "cell_type": "markdown",
   "metadata": {},
   "source": [
    "### Topics"
   ]
  },
  {
   "cell_type": "code",
   "execution_count": 67,
   "metadata": {},
   "outputs": [
    {
     "data": {
      "text/plain": [
       "EIC-SMEInst-2018-2020           2439\n",
       "MOBILITY-2.1                    1820\n",
       "MSCA-IF-2019                    1482\n",
       "MSCA-IF-2018                    1373\n",
       "MSCA-IF-2017                    1367\n",
       "                                ... \n",
       "JTI-CS2-2020-CfP11-LPA-01-90       1\n",
       "AAT-2007-6.2-02                    1\n",
       "JTI-CS-2010-5-ECO-01-016           1\n",
       "JTI-CS2-2016-CFP04-ENG-04-06       1\n",
       "INFRASTR-5;INFRASTR-6              1\n",
       "Name: topics, Length: 9007, dtype: int64"
      ]
     },
     "execution_count": 67,
     "metadata": {},
     "output_type": "execute_result"
    }
   ],
   "source": [
    "cordis['topics'].value_counts()"
   ]
  },
  {
   "cell_type": "code",
   "execution_count": 16,
   "metadata": {},
   "outputs": [],
   "source": [
    "#cordis.groupby('topics')['id'].nunique().plot(kind='bar')\n",
    "#plt.show()"
   ]
  },
  {
   "cell_type": "markdown",
   "metadata": {},
   "source": [
    "### Start and end dates"
   ]
  },
  {
   "cell_type": "code",
   "execution_count": 68,
   "metadata": {},
   "outputs": [
    {
     "data": {
      "text/plain": [
       "2019    5550\n",
       "2018    5064\n",
       "2015    5038\n",
       "2017    4978\n",
       "2016    4955\n",
       "2013    4562\n",
       "2020    4484\n",
       "2012    4332\n",
       "2011    3966\n",
       "2010    3606\n",
       "2014    3335\n",
       "2006    3057\n",
       "2009    2917\n",
       "2008    2903\n",
       "2005    2770\n",
       "2004    2456\n",
       "2021    2034\n",
       "2007    1540\n",
       "0        241\n",
       "2003     216\n",
       "2022      17\n",
       "Name: startYear, dtype: int64"
      ]
     },
     "execution_count": 68,
     "metadata": {},
     "output_type": "execute_result"
    }
   ],
   "source": [
    "cordis['startYear'].value_counts()"
   ]
  },
  {
   "cell_type": "code",
   "execution_count": 69,
   "metadata": {},
   "outputs": [
    {
     "data": {
      "image/png": "[encoded data removed]",
      "text/plain": [
       "<Figure size 432x288 with 1 Axes>"
      ]
     },
     "metadata": {
      "needs_background": "light"
     },
     "output_type": "display_data"
    }
   ],
   "source": [
    "cordis.groupby('startYear')['id'].nunique().plot(kind='bar')\n",
    "plt.show()"
   ]
  },
  {
   "cell_type": "code",
   "execution_count": 70,
   "metadata": {},
   "outputs": [
    {
     "data": {
      "text/plain": [
       "2021    5146\n",
       "2018    5110\n",
       "2016    4998\n",
       "2019    4934\n",
       "2017    4905\n",
       "2015    4724\n",
       "2022    4691\n",
       "2020    3622\n",
       "2014    3617\n",
       "2023    3322\n",
       "2013    3180\n",
       "2012    2686\n",
       "2008    2664\n",
       "2009    2276\n",
       "2011    2249\n",
       "2007    2137\n",
       "2010    2120\n",
       "2024    1872\n",
       "2006    1201\n",
       "2025    1200\n",
       "2005     498\n",
       "2026     430\n",
       "0        326\n",
       "2004      96\n",
       "2027      15\n",
       "2003       2\n",
       "Name: endYear, dtype: int64"
      ]
     },
     "execution_count": 70,
     "metadata": {},
     "output_type": "execute_result"
    }
   ],
   "source": [
    "cordis['endYear'].value_counts()"
   ]
  },
  {
   "cell_type": "code",
   "execution_count": 71,
   "metadata": {},
   "outputs": [
    {
     "data": {
      "image/png": "[encoded data removed]",
      "text/plain": [
       "<Figure size 432x288 with 1 Axes>"
      ]
     },
     "metadata": {
      "needs_background": "light"
     },
     "output_type": "display_data"
    }
   ],
   "source": [
    "cordis.groupby('endYear')['id'].nunique().plot(kind='bar')\n",
    "plt.show()"
   ]
  },
  {
   "cell_type": "code",
   "execution_count": 72,
   "metadata": {},
   "outputs": [
    {
     "data": {
      "text/plain": [
       "1104.2389021021377"
      ]
     },
     "execution_count": 72,
     "metadata": {},
     "output_type": "execute_result"
    }
   ],
   "source": [
    "cordis['duration_days'].mean()"
   ]
  },
  {
   "cell_type": "code",
   "execution_count": 73,
   "metadata": {},
   "outputs": [
    {
     "data": {
      "text/plain": [
       "array([[<AxesSubplot:title={'center':'duration_days'}>]], dtype=object)"
      ]
     },
     "execution_count": 73,
     "metadata": {},
     "output_type": "execute_result"
    },
    {
     "data": {
      "image/png": "[encoded data removed]",
      "text/plain": [
       "<Figure size 432x288 with 1 Axes>"
      ]
     },
     "metadata": {
      "needs_background": "light"
     },
     "output_type": "display_data"
    }
   ],
   "source": [
    "cordis.hist(column='duration_days',bins=50)"
   ]
  },
  {
   "cell_type": "code",
   "execution_count": 74,
   "metadata": {},
   "outputs": [
    {
     "data": {
      "text/plain": [
       "<matplotlib.collections.PathCollection at 0x7ff9199bef40>"
      ]
     },
     "execution_count": 74,
     "metadata": {},
     "output_type": "execute_result"
    },
    {
     "data": {
      "image/png": "[encoded data removed]",
      "text/plain": [
       "<Figure size 432x288 with 1 Axes>"
      ]
     },
     "metadata": {
      "needs_background": "light"
     },
     "output_type": "display_data"
    }
   ],
   "source": [
    "plt.scatter(cordis['startYear'],cordis['endYear'])"
   ]
  },
  {
   "cell_type": "markdown",
   "metadata": {},
   "source": [
    "### Total cost"
   ]
  },
  {
   "cell_type": "code",
   "execution_count": 75,
   "metadata": {},
   "outputs": [
    {
     "data": {
      "text/plain": [
       "2602212.4953399873"
      ]
     },
     "execution_count": 75,
     "metadata": {},
     "output_type": "execute_result"
    }
   ],
   "source": [
    "cordis['totalCost'].mean()"
   ]
  },
  {
   "cell_type": "code",
   "execution_count": 76,
   "metadata": {},
   "outputs": [
    {
     "data": {
      "text/plain": [
       "array([[<AxesSubplot:title={'center':'totalCost'}>]], dtype=object)"
      ]
     },
     "execution_count": 76,
     "metadata": {},
     "output_type": "execute_result"
    },
    {
     "data": {
      "image/png": "[encoded data removed]",
      "text/plain": [
       "<Figure size 432x288 with 1 Axes>"
      ]
     },
     "metadata": {
      "needs_background": "light"
     },
     "output_type": "display_data"
    }
   ],
   "source": [
    "cordis.hist(column='totalCost',bins=20)"
   ]
  },
  {
   "cell_type": "code",
   "execution_count": 91,
   "metadata": {},
   "outputs": [
    {
     "data": {
      "text/plain": [
       "1850300.975259437"
      ]
     },
     "execution_count": 91,
     "metadata": {},
     "output_type": "execute_result"
    }
   ],
   "source": [
    "cordis['ecMaxContribution'].mean()"
   ]
  },
  {
   "cell_type": "code",
   "execution_count": 92,
   "metadata": {},
   "outputs": [
    {
     "data": {
      "text/plain": [
       "array([[<AxesSubplot:title={'center':'ecMaxContribution'}>]], dtype=object)"
      ]
     },
     "execution_count": 92,
     "metadata": {},
     "output_type": "execute_result"
    },
    {
     "data": {
      "image/png": "[encoded data removed]",
      "text/plain": [
       "<Figure size 432x288 with 1 Axes>"
      ]
     },
     "metadata": {
      "needs_background": "light"
     },
     "output_type": "display_data"
    }
   ],
   "source": [
    "cordis.hist(column='ecMaxContribution',bins=20)"
   ]
  },
  {
   "cell_type": "code",
   "execution_count": 93,
   "metadata": {},
   "outputs": [
    {
     "data": {
      "text/plain": [
       "<matplotlib.collections.PathCollection at 0x7ff8f795d9d0>"
      ]
     },
     "execution_count": 93,
     "metadata": {},
     "output_type": "execute_result"
    },
    {
     "data": {
      "image/png": "[encoded data removed]",
      "text/plain": [
       "<Figure size 432x288 with 1 Axes>"
      ]
     },
     "metadata": {
      "needs_background": "light"
     },
     "output_type": "display_data"
    }
   ],
   "source": [
    "plt.scatter(cordis['endYear'],cordis['totalCost'])"
   ]
  },
  {
   "cell_type": "code",
   "execution_count": 94,
   "metadata": {},
   "outputs": [
    {
     "data": {
      "text/plain": [
       "<matplotlib.collections.PathCollection at 0x7ff919ead430>"
      ]
     },
     "execution_count": 94,
     "metadata": {},
     "output_type": "execute_result"
    },
    {
     "data": {
      "image/png": "[encoded data removed]",
      "text/plain": [
       "<Figure size 432x288 with 1 Axes>"
      ]
     },
     "metadata": {
      "needs_background": "light"
     },
     "output_type": "display_data"
    }
   ],
   "source": [
    "plt.scatter(cordis['startYear'],cordis['totalCost'])"
   ]
  },
  {
   "cell_type": "markdown",
   "metadata": {},
   "source": [
    "### Coordinator country"
   ]
  },
  {
   "cell_type": "code",
   "execution_count": 95,
   "metadata": {},
   "outputs": [
    {
     "data": {
      "text/plain": [
       "UK    11918\n",
       "DE     8096\n",
       "FR     7049\n",
       "ES     7018\n",
       "IT     5739\n",
       "      ...  \n",
       "KZ        1\n",
       "AE        1\n",
       "NG        1\n",
       "IR        1\n",
       "PK        1\n",
       "Name: coordinatorCountry, Length: 90, dtype: int64"
      ]
     },
     "execution_count": 95,
     "metadata": {},
     "output_type": "execute_result"
    }
   ],
   "source": [
    "cordis['coordinatorCountry'].value_counts()"
   ]
  },
  {
   "cell_type": "code",
   "execution_count": 35,
   "metadata": {},
   "outputs": [
    {
     "data": {
      "text/html": [
       "<div>\n",
       "<style scoped>\n",
       "    .dataframe tbody tr th:only-of-type {\n",
       "        vertical-align: middle;\n",
       "    }\n",
       "\n",
       "    .dataframe tbody tr th {\n",
       "        vertical-align: top;\n",
       "    }\n",
       "\n",
       "    .dataframe thead th {\n",
       "        text-align: right;\n",
       "    }\n",
       "</style>\n",
       "<table border=\"1\" class=\"dataframe\">\n",
       "  <thead>\n",
       "    <tr style=\"text-align: right;\">\n",
       "      <th>endYear</th>\n",
       "      <th>1990.0</th>\n",
       "      <th>1999.0</th>\n",
       "      <th>2000.0</th>\n",
       "      <th>2001.0</th>\n",
       "      <th>2002.0</th>\n",
       "      <th>2003.0</th>\n",
       "      <th>2004.0</th>\n",
       "      <th>2005.0</th>\n",
       "      <th>2006.0</th>\n",
       "      <th>2007.0</th>\n",
       "      <th>...</th>\n",
       "      <th>2054.0</th>\n",
       "      <th>2055.0</th>\n",
       "      <th>2057.0</th>\n",
       "      <th>2059.0</th>\n",
       "      <th>2061.0</th>\n",
       "      <th>2062.0</th>\n",
       "      <th>2063.0</th>\n",
       "      <th>2064.0</th>\n",
       "      <th>2065.0</th>\n",
       "      <th>2070.0</th>\n",
       "    </tr>\n",
       "    <tr>\n",
       "      <th>coordinatorCountry</th>\n",
       "      <th></th>\n",
       "      <th></th>\n",
       "      <th></th>\n",
       "      <th></th>\n",
       "      <th></th>\n",
       "      <th></th>\n",
       "      <th></th>\n",
       "      <th></th>\n",
       "      <th></th>\n",
       "      <th></th>\n",
       "      <th></th>\n",
       "      <th></th>\n",
       "      <th></th>\n",
       "      <th></th>\n",
       "      <th></th>\n",
       "      <th></th>\n",
       "      <th></th>\n",
       "      <th></th>\n",
       "      <th></th>\n",
       "      <th></th>\n",
       "      <th></th>\n",
       "    </tr>\n",
       "  </thead>\n",
       "  <tbody>\n",
       "    <tr>\n",
       "      <th>AE</th>\n",
       "      <td>NaN</td>\n",
       "      <td>NaN</td>\n",
       "      <td>NaN</td>\n",
       "      <td>NaN</td>\n",
       "      <td>NaN</td>\n",
       "      <td>NaN</td>\n",
       "      <td>NaN</td>\n",
       "      <td>NaN</td>\n",
       "      <td>NaN</td>\n",
       "      <td>NaN</td>\n",
       "      <td>...</td>\n",
       "      <td>NaN</td>\n",
       "      <td>NaN</td>\n",
       "      <td>NaN</td>\n",
       "      <td>NaN</td>\n",
       "      <td>NaN</td>\n",
       "      <td>NaN</td>\n",
       "      <td>NaN</td>\n",
       "      <td>NaN</td>\n",
       "      <td>NaN</td>\n",
       "      <td>NaN</td>\n",
       "    </tr>\n",
       "    <tr>\n",
       "      <th>AI</th>\n",
       "      <td>NaN</td>\n",
       "      <td>NaN</td>\n",
       "      <td>NaN</td>\n",
       "      <td>NaN</td>\n",
       "      <td>NaN</td>\n",
       "      <td>NaN</td>\n",
       "      <td>NaN</td>\n",
       "      <td>NaN</td>\n",
       "      <td>NaN</td>\n",
       "      <td>NaN</td>\n",
       "      <td>...</td>\n",
       "      <td>NaN</td>\n",
       "      <td>NaN</td>\n",
       "      <td>NaN</td>\n",
       "      <td>NaN</td>\n",
       "      <td>NaN</td>\n",
       "      <td>NaN</td>\n",
       "      <td>NaN</td>\n",
       "      <td>NaN</td>\n",
       "      <td>NaN</td>\n",
       "      <td>NaN</td>\n",
       "    </tr>\n",
       "    <tr>\n",
       "      <th>AL</th>\n",
       "      <td>NaN</td>\n",
       "      <td>NaN</td>\n",
       "      <td>NaN</td>\n",
       "      <td>NaN</td>\n",
       "      <td>NaN</td>\n",
       "      <td>NaN</td>\n",
       "      <td>NaN</td>\n",
       "      <td>NaN</td>\n",
       "      <td>NaN</td>\n",
       "      <td>NaN</td>\n",
       "      <td>...</td>\n",
       "      <td>NaN</td>\n",
       "      <td>NaN</td>\n",
       "      <td>NaN</td>\n",
       "      <td>NaN</td>\n",
       "      <td>NaN</td>\n",
       "      <td>NaN</td>\n",
       "      <td>NaN</td>\n",
       "      <td>NaN</td>\n",
       "      <td>NaN</td>\n",
       "      <td>NaN</td>\n",
       "    </tr>\n",
       "    <tr>\n",
       "      <th>AM</th>\n",
       "      <td>NaN</td>\n",
       "      <td>NaN</td>\n",
       "      <td>NaN</td>\n",
       "      <td>NaN</td>\n",
       "      <td>NaN</td>\n",
       "      <td>NaN</td>\n",
       "      <td>NaN</td>\n",
       "      <td>NaN</td>\n",
       "      <td>NaN</td>\n",
       "      <td>NaN</td>\n",
       "      <td>...</td>\n",
       "      <td>NaN</td>\n",
       "      <td>NaN</td>\n",
       "      <td>NaN</td>\n",
       "      <td>NaN</td>\n",
       "      <td>NaN</td>\n",
       "      <td>NaN</td>\n",
       "      <td>NaN</td>\n",
       "      <td>NaN</td>\n",
       "      <td>NaN</td>\n",
       "      <td>NaN</td>\n",
       "    </tr>\n",
       "    <tr>\n",
       "      <th>AR</th>\n",
       "      <td>NaN</td>\n",
       "      <td>NaN</td>\n",
       "      <td>NaN</td>\n",
       "      <td>NaN</td>\n",
       "      <td>NaN</td>\n",
       "      <td>NaN</td>\n",
       "      <td>NaN</td>\n",
       "      <td>NaN</td>\n",
       "      <td>NaN</td>\n",
       "      <td>NaN</td>\n",
       "      <td>...</td>\n",
       "      <td>NaN</td>\n",
       "      <td>NaN</td>\n",
       "      <td>NaN</td>\n",
       "      <td>NaN</td>\n",
       "      <td>NaN</td>\n",
       "      <td>NaN</td>\n",
       "      <td>NaN</td>\n",
       "      <td>NaN</td>\n",
       "      <td>NaN</td>\n",
       "      <td>NaN</td>\n",
       "    </tr>\n",
       "  </tbody>\n",
       "</table>\n",
       "<p>5 rows × 51 columns</p>\n",
       "</div>"
      ],
      "text/plain": [
       "endYear             1990.0  1999.0  2000.0  2001.0  2002.0  2003.0  2004.0  \\\n",
       "coordinatorCountry                                                           \n",
       "AE                     NaN     NaN     NaN     NaN     NaN     NaN     NaN   \n",
       "AI                     NaN     NaN     NaN     NaN     NaN     NaN     NaN   \n",
       "AL                     NaN     NaN     NaN     NaN     NaN     NaN     NaN   \n",
       "AM                     NaN     NaN     NaN     NaN     NaN     NaN     NaN   \n",
       "AR                     NaN     NaN     NaN     NaN     NaN     NaN     NaN   \n",
       "\n",
       "endYear             2005.0  2006.0  2007.0  ...  2054.0  2055.0  2057.0  \\\n",
       "coordinatorCountry                          ...                           \n",
       "AE                     NaN     NaN     NaN  ...     NaN     NaN     NaN   \n",
       "AI                     NaN     NaN     NaN  ...     NaN     NaN     NaN   \n",
       "AL                     NaN     NaN     NaN  ...     NaN     NaN     NaN   \n",
       "AM                     NaN     NaN     NaN  ...     NaN     NaN     NaN   \n",
       "AR                     NaN     NaN     NaN  ...     NaN     NaN     NaN   \n",
       "\n",
       "endYear             2059.0  2061.0  2062.0  2063.0  2064.0  2065.0  2070.0  \n",
       "coordinatorCountry                                                          \n",
       "AE                     NaN     NaN     NaN     NaN     NaN     NaN     NaN  \n",
       "AI                     NaN     NaN     NaN     NaN     NaN     NaN     NaN  \n",
       "AL                     NaN     NaN     NaN     NaN     NaN     NaN     NaN  \n",
       "AM                     NaN     NaN     NaN     NaN     NaN     NaN     NaN  \n",
       "AR                     NaN     NaN     NaN     NaN     NaN     NaN     NaN  \n",
       "\n",
       "[5 rows x 51 columns]"
      ]
     },
     "execution_count": 35,
     "metadata": {},
     "output_type": "execute_result"
    }
   ],
   "source": [
    "heatmap_country_year_budget = pd.pivot_table(data=cordis,index='coordinatorCountry',values='totalCost',columns='endYear')\n",
    "heatmap_country_year_budget.head()"
   ]
  },
  {
   "cell_type": "code",
   "execution_count": 36,
   "metadata": {},
   "outputs": [
    {
     "data": {
      "text/plain": [
       "<AxesSubplot:xlabel='endYear', ylabel='coordinatorCountry'>"
      ]
     },
     "execution_count": 36,
     "metadata": {},
     "output_type": "execute_result"
    },
    {
     "data": {
      "image/png": "[encoded data removed]",
      "text/plain": [
       "<Figure size 432x288 with 2 Axes>"
      ]
     },
     "metadata": {
      "needs_background": "light"
     },
     "output_type": "display_data"
    }
   ],
   "source": [
    "sns.heatmap(heatmap_country_year_budget)"
   ]
  },
  {
   "cell_type": "markdown",
   "metadata": {},
   "source": [
    "# MALLET"
   ]
  },
  {
   "cell_type": "code",
   "execution_count": 37,
   "metadata": {},
   "outputs": [],
   "source": [
    "from customMallet import CustomMallet"
   ]
  },
  {
   "cell_type": "code",
   "execution_count": 38,
   "metadata": {},
   "outputs": [
    {
     "name": "stderr",
     "output_type": "stream",
     "text": [
      "/Library/Frameworks/Python.framework/Versions/3.8/lib/python3.8/site-packages/ipykernel/ipkernel.py:287: DeprecationWarning: `should_run_async` will not call `transform_cell` automatically in the future. Please pass the result to `transformed_cell` argument and any exception that happen during thetransform in `preprocessing_exc_tuple` in IPython 7.17 and above.\n",
      "  and should_run_async(code)\n"
     ]
    }
   ],
   "source": [
    "corpus_list = cordis['objective'].tolist()"
   ]
  },
  {
   "cell_type": "code",
   "execution_count": 39,
   "metadata": {},
   "outputs": [
    {
     "name": "stderr",
     "output_type": "stream",
     "text": [
      "/Library/Frameworks/Python.framework/Versions/3.8/lib/python3.8/site-packages/ipykernel/ipkernel.py:287: DeprecationWarning: `should_run_async` will not call `transform_cell` automatically in the future. Please pass the result to `transformed_cell` argument and any exception that happen during thetransform in `preprocessing_exc_tuple` in IPython 7.17 and above.\n",
      "  and should_run_async(code)\n"
     ]
    }
   ],
   "source": [
    "testmallet = CustomMallet()"
   ]
  },
  {
   "cell_type": "code",
   "execution_count": null,
   "metadata": {},
   "outputs": [],
   "source": [
    "testmallet.corpus2doctopic(corpus_list,10)"
   ]
  }
 ],
 "metadata": {
  "kernelspec": {
   "display_name": "Python 3",
   "language": "python",
   "name": "python3"
  },
  "language_info": {
   "codemirror_mode": {
    "name": "ipython",
    "version": 3
   },
   "file_extension": ".py",
   "mimetype": "text/x-python",
   "name": "python",
   "nbconvert_exporter": "python",
   "pygments_lexer": "ipython3",
   "version": "3.8.6"
  }
 },
 "nbformat": 4,
 "nbformat_minor": 4
}
