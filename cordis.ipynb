{
 "cells": [
  {
   "cell_type": "code",
   "execution_count": 2,
   "metadata": {},
   "outputs": [],
   "source": [
    "%matplotlib inline\n",
    "import pandas as pd\n",
    "import matplotlib.pyplot as plt\n",
    "import seaborn as sns"
   ]
  },
  {
   "cell_type": "markdown",
   "metadata": {},
   "source": [
    "# CORDIS"
   ]
  },
  {
   "cell_type": "markdown",
   "metadata": {},
   "source": [
    "## 1. Data loading and preprocessing"
   ]
  },
  {
   "cell_type": "code",
   "execution_count": 3,
   "metadata": {},
   "outputs": [],
   "source": [
    "# Load data\n",
    "cordish2020 = pd.read_csv(\"data/cordis/cordis-h2020projects.csv\",sep=\";\",decimal=\",\")\n",
    "cordisfp7 = pd.read_csv(\"data/cordis/cordis-fp7projects.csv\",sep=\";\",decimal=\",\")\n",
    "#cordisfp6 = pd.read_csv(\"data/cordis/cordis-fp6projects.csv\",sep=\";\",decimal=\",\")\n",
    "cordisfp5 = pd.read_csv(\"data/cordis/cordis-fp5projects.csv\",sep=\";\",decimal=\",\")"
   ]
  },
  {
   "cell_type": "code",
   "execution_count": 4,
   "metadata": {},
   "outputs": [
    {
     "name": "stdout",
     "output_type": "stream",
     "text": [
      "H2020 (2014-2020):  (32161, 21)\n",
      "FP7 (2007-2013):  (25778, 21)\n",
      "FP5 (1998-2002):  (17205, 21)\n"
     ]
    }
   ],
   "source": [
    "# Shapes\n",
    "print(\"H2020 (2014-2020): \",cordish2020.shape)\n",
    "print(\"FP7 (2007-2013): \",cordisfp7.shape)\n",
    "# print(\"FP6 (2002-2006): \",cordisfp6.shape) # 10082\n",
    "print(\"FP5 (1998-2002): \",cordisfp5.shape)"
   ]
  },
  {
   "cell_type": "code",
   "execution_count": 5,
   "metadata": {},
   "outputs": [
    {
     "data": {
      "text/plain": [
       "(75144, 21)"
      ]
     },
     "execution_count": 5,
     "metadata": {},
     "output_type": "execute_result"
    }
   ],
   "source": [
    "# Append data\n",
    "cordis = cordish2020.append(cordisfp7)\n",
    "#cordis = cordis.append(cordisfp6)\n",
    "cordis = cordis.append(cordisfp5)\n",
    "cordis.shape"
   ]
  },
  {
   "cell_type": "code",
   "execution_count": 6,
   "metadata": {},
   "outputs": [],
   "source": [
    "# Cast dates to datetime format\n",
    "cordis['startDate'] = pd.to_datetime(cordis['startDate'])\n",
    "cordis['endDate'] = pd.to_datetime(cordis['endDate'])\n",
    "\n",
    "# Compute duration in days\n",
    "cordis['duration_days'] = (cordis['endDate'] - cordis['startDate']).dt.days\n",
    "\n",
    "# Extract start and end years and store in new column of dataframe\n",
    "cordis['startYear'] = pd.DatetimeIndex(cordis['startDate']).year\n",
    "cordis['endYear'] = pd.DatetimeIndex(cordis['endDate']).year"
   ]
  },
  {
   "cell_type": "code",
   "execution_count": 7,
   "metadata": {},
   "outputs": [],
   "source": [
    "# Remove useless columns\n",
    "cordis = cordis.drop(columns=['startDate','endDate','subjects'])"
   ]
  },
  {
   "cell_type": "code",
   "execution_count": 9,
   "metadata": {},
   "outputs": [],
   "source": [
    "#cordis.dtypes"
   ]
  },
  {
   "cell_type": "code",
   "execution_count": 10,
   "metadata": {},
   "outputs": [],
   "source": [
    "#cordis.head()"
   ]
  },
  {
   "cell_type": "code",
   "execution_count": 232,
   "metadata": {},
   "outputs": [],
   "source": [
    "#cordis.to_csv('corpus.csv',columns=['objective'],index=False)"
   ]
  },
  {
   "cell_type": "markdown",
   "metadata": {},
   "source": [
    "## 2. Descriptive analysis"
   ]
  },
  {
   "cell_type": "markdown",
   "metadata": {},
   "source": [
    "### Status\n",
    "- ONG: ongoing\n",
    "- SIGNED: firmado\n",
    "- CLOSED: cerrado (¿sin terminar?)\n",
    "- CLO: ¿=closed?\n",
    "- TERMINATED: terminado (¿finalizado?)\n",
    "- CAN: ¿?"
   ]
  },
  {
   "cell_type": "code",
   "execution_count": 13,
   "metadata": {},
   "outputs": [
    {
     "data": {
      "text/plain": [
       "ONG           23442\n",
       "SIGNED        20559\n",
       "CLOSED        11178\n",
       "CLO            1969\n",
       "TERMINATED      424\n",
       "CAN             179\n",
       "Name: status, dtype: int64"
      ]
     },
     "execution_count": 13,
     "metadata": {},
     "output_type": "execute_result"
    }
   ],
   "source": [
    "cordis['status'].value_counts()"
   ]
  },
  {
   "cell_type": "code",
   "execution_count": 14,
   "metadata": {},
   "outputs": [
    {
     "data": {
      "image/png": "[encoded data removed]",
      "text/plain": [
       "<Figure size 432x288 with 1 Axes>"
      ]
     },
     "metadata": {
      "needs_background": "light"
     },
     "output_type": "display_data"
    }
   ],
   "source": [
    "cordis.groupby('status')['id'].nunique().plot(kind='bar')\n",
    "plt.show()"
   ]
  },
  {
   "cell_type": "markdown",
   "metadata": {},
   "source": [
    "### Topics"
   ]
  },
  {
   "cell_type": "code",
   "execution_count": 15,
   "metadata": {},
   "outputs": [
    {
     "data": {
      "text/plain": [
       "EIC-SMEInst-2018-2020           2439\n",
       "MSCA-IF-2019                    1482\n",
       "MSCA-IF-2018                    1373\n",
       "MSCA-IF-2017                    1367\n",
       "MSCA-IF-2016                    1253\n",
       "                                ... \n",
       "MG-4.3-2017                        1\n",
       "JTI-CS2-2014-CFP01-LPA-02-06       1\n",
       "JTI-CS2-2016-CFP03-SYS-02-16       1\n",
       "JTI-CS-2010-3-SFWA-01-024          1\n",
       "HEALTH.2013.2.3.3-1                1\n",
       "Name: topics, Length: 8048, dtype: int64"
      ]
     },
     "execution_count": 15,
     "metadata": {},
     "output_type": "execute_result"
    }
   ],
   "source": [
    "cordis['topics'].value_counts()"
   ]
  },
  {
   "cell_type": "code",
   "execution_count": 16,
   "metadata": {},
   "outputs": [],
   "source": [
    "#cordis.groupby('topics')['id'].nunique().plot(kind='bar')\n",
    "#plt.show()"
   ]
  },
  {
   "cell_type": "markdown",
   "metadata": {},
   "source": [
    "### Start and end dates"
   ]
  },
  {
   "cell_type": "code",
   "execution_count": 17,
   "metadata": {},
   "outputs": [
    {
     "data": {
      "text/plain": [
       "2019.0    5551\n",
       "2000.0    5224\n",
       "2018.0    5064\n",
       "2015.0    5038\n",
       "2017.0    4978\n",
       "2016.0    4955\n",
       "2001.0    4912\n",
       "2013.0    4562\n",
       "2020.0    4484\n",
       "2002.0    4446\n",
       "2012.0    4332\n",
       "2011.0    3966\n",
       "2010.0    3602\n",
       "2014.0    3335\n",
       "2009.0    2901\n",
       "2008.0    2826\n",
       "2021.0    2034\n",
       "2003.0    1287\n",
       "1999.0     614\n",
       "2007.0     175\n",
       "1995.0      80\n",
       "2004.0      69\n",
       "2005.0      59\n",
       "2006.0      28\n",
       "1996.0      19\n",
       "1988.0      18\n",
       "2022.0      17\n",
       "1989.0      15\n",
       "1990.0       6\n",
       "1997.0       3\n",
       "1998.0       2\n",
       "Name: startYear, dtype: int64"
      ]
     },
     "execution_count": 17,
     "metadata": {},
     "output_type": "execute_result"
    }
   ],
   "source": [
    "cordis['startYear'].value_counts()"
   ]
  },
  {
   "cell_type": "code",
   "execution_count": 18,
   "metadata": {},
   "outputs": [
    {
     "data": {
      "image/png": "[encoded data removed]",
      "text/plain": [
       "<Figure size 432x288 with 1 Axes>"
      ]
     },
     "metadata": {
      "needs_background": "light"
     },
     "output_type": "display_data"
    }
   ],
   "source": [
    "cordis.groupby('startYear')['id'].nunique().plot(kind='bar')\n",
    "plt.show()"
   ]
  },
  {
   "cell_type": "code",
   "execution_count": 19,
   "metadata": {},
   "outputs": [
    {
     "data": {
      "text/plain": [
       "2021.0    5149\n",
       "2018.0    5112\n",
       "2016.0    4999\n",
       "2019.0    4934\n",
       "2017.0    4906\n",
       "2015.0    4726\n",
       "2022.0    4694\n",
       "2004.0    3748\n",
       "2020.0    3627\n",
       "2014.0    3616\n",
       "2003.0    3475\n",
       "2023.0    3322\n",
       "2013.0    3179\n",
       "2002.0    2947\n",
       "2012.0    2649\n",
       "2005.0    2225\n",
       "2011.0    2035\n",
       "2024.0    1873\n",
       "2001.0    1631\n",
       "2025.0    1202\n",
       "2006.0    1160\n",
       "2010.0    1061\n",
       "2000.0     557\n",
       "2026.0     430\n",
       "2009.0     205\n",
       "2007.0     166\n",
       "1999.0     109\n",
       "2008.0      88\n",
       "2062.0      17\n",
       "2027.0      16\n",
       "2035.0      12\n",
       "2032.0      12\n",
       "2031.0       6\n",
       "2037.0       4\n",
       "2033.0       4\n",
       "2064.0       3\n",
       "2059.0       3\n",
       "2054.0       3\n",
       "2030.0       3\n",
       "2040.0       3\n",
       "2070.0       2\n",
       "2065.0       2\n",
       "2061.0       2\n",
       "2047.0       2\n",
       "2046.0       1\n",
       "2028.0       1\n",
       "1990.0       1\n",
       "2063.0       1\n",
       "2045.0       1\n",
       "2057.0       1\n",
       "2055.0       1\n",
       "Name: endYear, dtype: int64"
      ]
     },
     "execution_count": 19,
     "metadata": {},
     "output_type": "execute_result"
    }
   ],
   "source": [
    "cordis['endYear'].value_counts()"
   ]
  },
  {
   "cell_type": "code",
   "execution_count": 20,
   "metadata": {},
   "outputs": [
    {
     "data": {
      "image/png": "[encoded data removed]",
      "text/plain": [
       "<Figure size 432x288 with 1 Axes>"
      ]
     },
     "metadata": {
      "needs_background": "light"
     },
     "output_type": "display_data"
    }
   ],
   "source": [
    "cordis.groupby('endYear')['id'].nunique().plot(kind='bar')\n",
    "plt.show()"
   ]
  },
  {
   "cell_type": "code",
   "execution_count": 21,
   "metadata": {},
   "outputs": [
    {
     "data": {
      "text/plain": [
       "1087.5918350783215"
      ]
     },
     "execution_count": 21,
     "metadata": {},
     "output_type": "execute_result"
    }
   ],
   "source": [
    "cordis['duration_days'].mean()"
   ]
  },
  {
   "cell_type": "code",
   "execution_count": 22,
   "metadata": {},
   "outputs": [
    {
     "data": {
      "text/plain": [
       "array([[<AxesSubplot:title={'center':'duration_days'}>]], dtype=object)"
      ]
     },
     "execution_count": 22,
     "metadata": {},
     "output_type": "execute_result"
    },
    {
     "data": {
      "image/png": "[encoded data removed]",
      "text/plain": [
       "<Figure size 432x288 with 1 Axes>"
      ]
     },
     "metadata": {
      "needs_background": "light"
     },
     "output_type": "display_data"
    }
   ],
   "source": [
    "cordis.hist(column='duration_days',bins=50)"
   ]
  },
  {
   "cell_type": "code",
   "execution_count": 24,
   "metadata": {},
   "outputs": [
    {
     "data": {
      "text/plain": [
       "<matplotlib.collections.PathCollection at 0x7fdd7accbe50>"
      ]
     },
     "execution_count": 24,
     "metadata": {},
     "output_type": "execute_result"
    },
    {
     "data": {
      "image/png": "[encoded data removed]",
      "text/plain": [
       "<Figure size 432x288 with 1 Axes>"
      ]
     },
     "metadata": {
      "needs_background": "light"
     },
     "output_type": "display_data"
    }
   ],
   "source": [
    "plt.scatter(cordis['startYear'],cordis['endYear'])"
   ]
  },
  {
   "cell_type": "markdown",
   "metadata": {},
   "source": [
    "### Total cost"
   ]
  },
  {
   "cell_type": "code",
   "execution_count": 25,
   "metadata": {},
   "outputs": [
    {
     "data": {
      "text/plain": [
       "2188865.843434274"
      ]
     },
     "execution_count": 25,
     "metadata": {},
     "output_type": "execute_result"
    }
   ],
   "source": [
    "cordis['totalCost'].mean()"
   ]
  },
  {
   "cell_type": "code",
   "execution_count": 26,
   "metadata": {},
   "outputs": [
    {
     "data": {
      "text/plain": [
       "array([[<AxesSubplot:title={'center':'totalCost'}>]], dtype=object)"
      ]
     },
     "execution_count": 26,
     "metadata": {},
     "output_type": "execute_result"
    },
    {
     "data": {
      "image/png": "[encoded data removed]",
      "text/plain": [
       "<Figure size 432x288 with 1 Axes>"
      ]
     },
     "metadata": {
      "needs_background": "light"
     },
     "output_type": "display_data"
    }
   ],
   "source": [
    "cordis.hist(column='totalCost',bins=20)"
   ]
  },
  {
   "cell_type": "code",
   "execution_count": 27,
   "metadata": {},
   "outputs": [
    {
     "data": {
      "text/plain": [
       "1617052.9677372274"
      ]
     },
     "execution_count": 27,
     "metadata": {},
     "output_type": "execute_result"
    }
   ],
   "source": [
    "cordis['ecMaxContribution'].mean()"
   ]
  },
  {
   "cell_type": "code",
   "execution_count": 28,
   "metadata": {},
   "outputs": [
    {
     "data": {
      "text/plain": [
       "array([[<AxesSubplot:title={'center':'ecMaxContribution'}>]], dtype=object)"
      ]
     },
     "execution_count": 28,
     "metadata": {},
     "output_type": "execute_result"
    },
    {
     "data": {
      "image/png": "[encoded data removed]",
      "text/plain": [
       "<Figure size 432x288 with 1 Axes>"
      ]
     },
     "metadata": {
      "needs_background": "light"
     },
     "output_type": "display_data"
    }
   ],
   "source": [
    "cordis.hist(column='ecMaxContribution',bins=20)"
   ]
  },
  {
   "cell_type": "code",
   "execution_count": 29,
   "metadata": {},
   "outputs": [
    {
     "data": {
      "text/plain": [
       "<matplotlib.collections.PathCollection at 0x7fdd7a57b5e0>"
      ]
     },
     "execution_count": 29,
     "metadata": {},
     "output_type": "execute_result"
    },
    {
     "data": {
      "image/png": "[encoded data removed]",
      "text/plain": [
       "<Figure size 432x288 with 1 Axes>"
      ]
     },
     "metadata": {
      "needs_background": "light"
     },
     "output_type": "display_data"
    }
   ],
   "source": [
    "plt.scatter(cordis['endYear'],cordis['totalCost'])"
   ]
  },
  {
   "cell_type": "code",
   "execution_count": 30,
   "metadata": {},
   "outputs": [
    {
     "data": {
      "text/plain": [
       "<matplotlib.collections.PathCollection at 0x7fdd7b515100>"
      ]
     },
     "execution_count": 30,
     "metadata": {},
     "output_type": "execute_result"
    },
    {
     "data": {
      "image/png": "[encoded data removed]",
      "text/plain": [
       "<Figure size 432x288 with 1 Axes>"
      ]
     },
     "metadata": {
      "needs_background": "light"
     },
     "output_type": "display_data"
    }
   ],
   "source": [
    "plt.scatter(cordis['startYear'],cordis['totalCost'])"
   ]
  },
  {
   "cell_type": "markdown",
   "metadata": {},
   "source": [
    "### Coordinator country"
   ]
  },
  {
   "cell_type": "code",
   "execution_count": 31,
   "metadata": {},
   "outputs": [
    {
     "data": {
      "text/plain": [
       "UK    13327\n",
       "DE     9155\n",
       "FR     8070\n",
       "ES     7508\n",
       "IT     6490\n",
       "      ...  \n",
       "GL        1\n",
       "UZ        1\n",
       "SY        1\n",
       "TZ        1\n",
       "KG        1\n",
       "Name: coordinatorCountry, Length: 95, dtype: int64"
      ]
     },
     "execution_count": 31,
     "metadata": {},
     "output_type": "execute_result"
    }
   ],
   "source": [
    "cordis['coordinatorCountry'].value_counts()"
   ]
  },
  {
   "cell_type": "code",
   "execution_count": 35,
   "metadata": {},
   "outputs": [
    {
     "data": {
      "text/html": [
       "<div>\n",
       "<style scoped>\n",
       "    .dataframe tbody tr th:only-of-type {\n",
       "        vertical-align: middle;\n",
       "    }\n",
       "\n",
       "    .dataframe tbody tr th {\n",
       "        vertical-align: top;\n",
       "    }\n",
       "\n",
       "    .dataframe thead th {\n",
       "        text-align: right;\n",
       "    }\n",
       "</style>\n",
       "<table border=\"1\" class=\"dataframe\">\n",
       "  <thead>\n",
       "    <tr style=\"text-align: right;\">\n",
       "      <th>endYear</th>\n",
       "      <th>1990.0</th>\n",
       "      <th>1999.0</th>\n",
       "      <th>2000.0</th>\n",
       "      <th>2001.0</th>\n",
       "      <th>2002.0</th>\n",
       "      <th>2003.0</th>\n",
       "      <th>2004.0</th>\n",
       "      <th>2005.0</th>\n",
       "      <th>2006.0</th>\n",
       "      <th>2007.0</th>\n",
       "      <th>...</th>\n",
       "      <th>2054.0</th>\n",
       "      <th>2055.0</th>\n",
       "      <th>2057.0</th>\n",
       "      <th>2059.0</th>\n",
       "      <th>2061.0</th>\n",
       "      <th>2062.0</th>\n",
       "      <th>2063.0</th>\n",
       "      <th>2064.0</th>\n",
       "      <th>2065.0</th>\n",
       "      <th>2070.0</th>\n",
       "    </tr>\n",
       "    <tr>\n",
       "      <th>coordinatorCountry</th>\n",
       "      <th></th>\n",
       "      <th></th>\n",
       "      <th></th>\n",
       "      <th></th>\n",
       "      <th></th>\n",
       "      <th></th>\n",
       "      <th></th>\n",
       "      <th></th>\n",
       "      <th></th>\n",
       "      <th></th>\n",
       "      <th></th>\n",
       "      <th></th>\n",
       "      <th></th>\n",
       "      <th></th>\n",
       "      <th></th>\n",
       "      <th></th>\n",
       "      <th></th>\n",
       "      <th></th>\n",
       "      <th></th>\n",
       "      <th></th>\n",
       "      <th></th>\n",
       "    </tr>\n",
       "  </thead>\n",
       "  <tbody>\n",
       "    <tr>\n",
       "      <th>AE</th>\n",
       "      <td>NaN</td>\n",
       "      <td>NaN</td>\n",
       "      <td>NaN</td>\n",
       "      <td>NaN</td>\n",
       "      <td>NaN</td>\n",
       "      <td>NaN</td>\n",
       "      <td>NaN</td>\n",
       "      <td>NaN</td>\n",
       "      <td>NaN</td>\n",
       "      <td>NaN</td>\n",
       "      <td>...</td>\n",
       "      <td>NaN</td>\n",
       "      <td>NaN</td>\n",
       "      <td>NaN</td>\n",
       "      <td>NaN</td>\n",
       "      <td>NaN</td>\n",
       "      <td>NaN</td>\n",
       "      <td>NaN</td>\n",
       "      <td>NaN</td>\n",
       "      <td>NaN</td>\n",
       "      <td>NaN</td>\n",
       "    </tr>\n",
       "    <tr>\n",
       "      <th>AI</th>\n",
       "      <td>NaN</td>\n",
       "      <td>NaN</td>\n",
       "      <td>NaN</td>\n",
       "      <td>NaN</td>\n",
       "      <td>NaN</td>\n",
       "      <td>NaN</td>\n",
       "      <td>NaN</td>\n",
       "      <td>NaN</td>\n",
       "      <td>NaN</td>\n",
       "      <td>NaN</td>\n",
       "      <td>...</td>\n",
       "      <td>NaN</td>\n",
       "      <td>NaN</td>\n",
       "      <td>NaN</td>\n",
       "      <td>NaN</td>\n",
       "      <td>NaN</td>\n",
       "      <td>NaN</td>\n",
       "      <td>NaN</td>\n",
       "      <td>NaN</td>\n",
       "      <td>NaN</td>\n",
       "      <td>NaN</td>\n",
       "    </tr>\n",
       "    <tr>\n",
       "      <th>AL</th>\n",
       "      <td>NaN</td>\n",
       "      <td>NaN</td>\n",
       "      <td>NaN</td>\n",
       "      <td>NaN</td>\n",
       "      <td>NaN</td>\n",
       "      <td>NaN</td>\n",
       "      <td>NaN</td>\n",
       "      <td>NaN</td>\n",
       "      <td>NaN</td>\n",
       "      <td>NaN</td>\n",
       "      <td>...</td>\n",
       "      <td>NaN</td>\n",
       "      <td>NaN</td>\n",
       "      <td>NaN</td>\n",
       "      <td>NaN</td>\n",
       "      <td>NaN</td>\n",
       "      <td>NaN</td>\n",
       "      <td>NaN</td>\n",
       "      <td>NaN</td>\n",
       "      <td>NaN</td>\n",
       "      <td>NaN</td>\n",
       "    </tr>\n",
       "    <tr>\n",
       "      <th>AM</th>\n",
       "      <td>NaN</td>\n",
       "      <td>NaN</td>\n",
       "      <td>NaN</td>\n",
       "      <td>NaN</td>\n",
       "      <td>NaN</td>\n",
       "      <td>NaN</td>\n",
       "      <td>NaN</td>\n",
       "      <td>NaN</td>\n",
       "      <td>NaN</td>\n",
       "      <td>NaN</td>\n",
       "      <td>...</td>\n",
       "      <td>NaN</td>\n",
       "      <td>NaN</td>\n",
       "      <td>NaN</td>\n",
       "      <td>NaN</td>\n",
       "      <td>NaN</td>\n",
       "      <td>NaN</td>\n",
       "      <td>NaN</td>\n",
       "      <td>NaN</td>\n",
       "      <td>NaN</td>\n",
       "      <td>NaN</td>\n",
       "    </tr>\n",
       "    <tr>\n",
       "      <th>AR</th>\n",
       "      <td>NaN</td>\n",
       "      <td>NaN</td>\n",
       "      <td>NaN</td>\n",
       "      <td>NaN</td>\n",
       "      <td>NaN</td>\n",
       "      <td>NaN</td>\n",
       "      <td>NaN</td>\n",
       "      <td>NaN</td>\n",
       "      <td>NaN</td>\n",
       "      <td>NaN</td>\n",
       "      <td>...</td>\n",
       "      <td>NaN</td>\n",
       "      <td>NaN</td>\n",
       "      <td>NaN</td>\n",
       "      <td>NaN</td>\n",
       "      <td>NaN</td>\n",
       "      <td>NaN</td>\n",
       "      <td>NaN</td>\n",
       "      <td>NaN</td>\n",
       "      <td>NaN</td>\n",
       "      <td>NaN</td>\n",
       "    </tr>\n",
       "  </tbody>\n",
       "</table>\n",
       "<p>5 rows × 51 columns</p>\n",
       "</div>"
      ],
      "text/plain": [
       "endYear             1990.0  1999.0  2000.0  2001.0  2002.0  2003.0  2004.0  \\\n",
       "coordinatorCountry                                                           \n",
       "AE                     NaN     NaN     NaN     NaN     NaN     NaN     NaN   \n",
       "AI                     NaN     NaN     NaN     NaN     NaN     NaN     NaN   \n",
       "AL                     NaN     NaN     NaN     NaN     NaN     NaN     NaN   \n",
       "AM                     NaN     NaN     NaN     NaN     NaN     NaN     NaN   \n",
       "AR                     NaN     NaN     NaN     NaN     NaN     NaN     NaN   \n",
       "\n",
       "endYear             2005.0  2006.0  2007.0  ...  2054.0  2055.0  2057.0  \\\n",
       "coordinatorCountry                          ...                           \n",
       "AE                     NaN     NaN     NaN  ...     NaN     NaN     NaN   \n",
       "AI                     NaN     NaN     NaN  ...     NaN     NaN     NaN   \n",
       "AL                     NaN     NaN     NaN  ...     NaN     NaN     NaN   \n",
       "AM                     NaN     NaN     NaN  ...     NaN     NaN     NaN   \n",
       "AR                     NaN     NaN     NaN  ...     NaN     NaN     NaN   \n",
       "\n",
       "endYear             2059.0  2061.0  2062.0  2063.0  2064.0  2065.0  2070.0  \n",
       "coordinatorCountry                                                          \n",
       "AE                     NaN     NaN     NaN     NaN     NaN     NaN     NaN  \n",
       "AI                     NaN     NaN     NaN     NaN     NaN     NaN     NaN  \n",
       "AL                     NaN     NaN     NaN     NaN     NaN     NaN     NaN  \n",
       "AM                     NaN     NaN     NaN     NaN     NaN     NaN     NaN  \n",
       "AR                     NaN     NaN     NaN     NaN     NaN     NaN     NaN  \n",
       "\n",
       "[5 rows x 51 columns]"
      ]
     },
     "execution_count": 35,
     "metadata": {},
     "output_type": "execute_result"
    }
   ],
   "source": [
    "heatmap_country_year_budget = pd.pivot_table(data=cordis,index='coordinatorCountry',values='totalCost',columns='endYear')\n",
    "heatmap_country_year_budget.head()"
   ]
  },
  {
   "cell_type": "code",
   "execution_count": 36,
   "metadata": {},
   "outputs": [
    {
     "data": {
      "text/plain": [
       "<AxesSubplot:xlabel='endYear', ylabel='coordinatorCountry'>"
      ]
     },
     "execution_count": 36,
     "metadata": {},
     "output_type": "execute_result"
    },
    {
     "data": {
      "image/png": "[encoded data removed]",
      "text/plain": [
       "<Figure size 432x288 with 2 Axes>"
      ]
     },
     "metadata": {
      "needs_background": "light"
     },
     "output_type": "display_data"
    }
   ],
   "source": [
    "sns.heatmap(heatmap_country_year_budget)"
   ]
  },
  {
   "cell_type": "markdown",
   "metadata": {},
   "source": [
    "# MALLET"
   ]
  },
  {
   "cell_type": "code",
   "execution_count": 37,
   "metadata": {},
   "outputs": [],
   "source": [
    "from customMallet import CustomMallet"
   ]
  },
  {
   "cell_type": "code",
   "execution_count": 38,
   "metadata": {},
   "outputs": [
    {
     "name": "stderr",
     "output_type": "stream",
     "text": [
      "/Library/Frameworks/Python.framework/Versions/3.8/lib/python3.8/site-packages/ipykernel/ipkernel.py:287: DeprecationWarning: `should_run_async` will not call `transform_cell` automatically in the future. Please pass the result to `transformed_cell` argument and any exception that happen during thetransform in `preprocessing_exc_tuple` in IPython 7.17 and above.\n",
      "  and should_run_async(code)\n"
     ]
    }
   ],
   "source": [
    "corpus_list = cordis['objective'].tolist()\n",
    "# corpus_raw = list(map(lambda x: x['objective'], corpus_list))"
   ]
  },
  {
   "cell_type": "code",
   "execution_count": 39,
   "metadata": {},
   "outputs": [
    {
     "name": "stderr",
     "output_type": "stream",
     "text": [
      "/Library/Frameworks/Python.framework/Versions/3.8/lib/python3.8/site-packages/ipykernel/ipkernel.py:287: DeprecationWarning: `should_run_async` will not call `transform_cell` automatically in the future. Please pass the result to `transformed_cell` argument and any exception that happen during thetransform in `preprocessing_exc_tuple` in IPython 7.17 and above.\n",
      "  and should_run_async(code)\n"
     ]
    }
   ],
   "source": [
    "testmallet = CustomMallet()"
   ]
  },
  {
   "cell_type": "code",
   "execution_count": null,
   "metadata": {},
   "outputs": [],
   "source": [
    "testmallet.corpus2doctopic(corpus_list,10)"
   ]
  }
 ],
 "metadata": {
  "kernelspec": {
   "display_name": "Python 3",
   "language": "python",
   "name": "python3"
  },
  "language_info": {
   "codemirror_mode": {
    "name": "ipython",
    "version": 3
   },
   "file_extension": ".py",
   "mimetype": "text/x-python",
   "name": "python",
   "nbconvert_exporter": "python",
   "pygments_lexer": "ipython3",
   "version": "3.8.6"
  }
 },
 "nbformat": 4,
 "nbformat_minor": 4
}
